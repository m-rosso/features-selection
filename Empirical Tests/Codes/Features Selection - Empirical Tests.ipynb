{
 "cells": [
  {
   "cell_type": "markdown",
   "metadata": {},
   "source": [
    "## Features selection\n",
    "## Empirical tests"
   ]
  },
  {
   "cell_type": "markdown",
   "metadata": {},
   "source": [
    "This project has the objective of exploring and testing alternative methods of features selection. It has started with notebook \"Features Selection - Discussion\", where the relevance, approaches and methods of features selection are presented, mainly based on the reading of articles from specialized websites, besides of some books on machine learning fundamentals. As discussed on the first notebook of the series, the two main objectives of selecting features are reducing model complexity (thus saving memory and time) and eventually improving model performance.\n",
    "<br>\n",
    "<br>\n",
    "Notebook \"Features Selection - Discussion\" organizes popular methods based on three different classes of methods: *analytical methods*, which focus on the relationship between two variables (different inputs or an input and the output) or even consider only one variable at a time; *supervised learning selection*, which makes use of statistical learning methods that rank input variables according to their importance while training a model; and *exaustive methods*, which explore several distinct subsets of the entire set of available features.\n",
    "<br>\n",
    "<br>\n",
    "In order to explore and test alternative methods of features selection, the development of this project has led to four major contents: first, the already mentioned notebook \"Features Selection - Discussion\"; second, a Python class providing a unified API for implementing multiple methods from those three classes mentioned above (module \"features_selection\" and notebook \"Features Selection\"); third, a notebook which illustrates how to use the most relevant methods of features selection, by using either the native classes and functions or the developed class with a unifed API; and finally, a notebook (\"Features Selection - Empirical Tests\") implements tests for assessing the most adequate method for a given regression problem."
   ]
  },
  {
   "cell_type": "markdown",
   "metadata": {},
   "source": [
    "---------"
   ]
  },
  {
   "cell_type": "markdown",
   "metadata": {},
   "source": [
    "Once features selection has been discussed and given the developed class *FeaturesSelection*, which groups alternative methods, this notebook tries to assess which approach is the most adequate for the **regression problem** provided by the [Communities and Crime Unnormalized](https://archive.ics.uci.edu/ml/datasets/Communities+and+Crime+Unnormalized) dataset obtained from the UCI Machine Learning Repository.\n",
    "<br>\n",
    "<br>\n",
    "This dataset has 18 potential (continuous) target variables and 125 original features (one of which is a categorical variable that gives rise to additional input variables). In this empirical application, the variable chosen as output is \"ViolentCrimesPerPop\", the total number of violent crimes per 100.000 population. Each row of the dataset represent a unique instance, which consists of a community from US cities. Crime data refers to 1995 and comes from the FBI, while demographics refers to the 1990 Census. The main advantages of this dataset are its limited amount of observations, simplifying tests as estimations require less amount of memory and time, and the moderately high number of features.\n",
    "<br>\n",
    "<br>\n",
    "When it comes to the **methodology of tests**, the following procedures are executed in order to produce, from raw data, outcomes that may help pointing to the most adequate approach of features selection for the regression problem at hand:\n",
    "1. *Train-test split:* data is shuffled and, then, 25% is kept held out as test data, while the first 75% of the data is used not only for training models, but also for any calculation needed during data preparation.\n",
    "2. *Data pre-processing:* features are classified (continuous, binary, categorical) and an early selection is implemented in order to drop variables with an excessive number of missings (more than 95% of instances of training data) and variables with no variance. Then, missing values are assessed and transformations take place: logarithmic transformation and standard scaling for numerical features, besides of the outcome variable. Missing values are treated as follows: a new category is created for missings in the categorical variable, while 0 is imputed for missings in numerical variables, plus the creation of binary variables indicating the existence of missings. Finally, the categorical variable is transformed as one-hot encoding is applied.\n",
    "3. *Features selection:* all methods presented in notebook \"Features Selection - Tutorials\" are covered here: variance and correlation screening, supervised learning selection and exaustive methods (RFE, RFECV, SequentialFeatureSelector, random selection). Below, we find the complete grid of approaches to be tested (which may involve two or more methods sequentially).\n",
    "4. *Model training:* two learning algorithms were picked for training models, Lasso (a linear, regularized method) and XGBoost (more flexibly, boosted models). Their hyper-parameters (regularization parameter for Lasso; subsample parameter, learning rate, maximum depth and number of estimators in the ensemble for XGBoost) are defined using K-folds cross-validation over the training data.\n",
    "5. *Model evaluation:* the following performance metrics are calculated on the test data so the best approach can be identified: RMSE, R2, MAE, MSLE."
   ]
  },
  {
   "cell_type": "markdown",
   "metadata": {},
   "source": [
    "Is crucial to notice that features selection is inserted into each iteration of the K-folds CV estimation. When the final model is trained using the best hyper-parameters, a new selection of features takes place using the entire training data. Consequently, the *FeaturesSelection* class is not directly used here. Instead, the *KfoldsCV_fit* class (available in my [Github](https://github.com/m-rosso/validation)) proceeds to an aggregation of classes, since it initializes an object of that class previously to the model training based on train-validation split at each iteration of K-folds, and a final initialization previously to the training of the final model.\n",
    "<br>\n",
    "<br>\n",
    "This is done in order to be highly cautious to avoid the [Freedman paradox](https://www.alexejgossmann.com/Freedmans_paradox/), which would occur if features selection was implemented using the entire training data. Even that a conservative approach was adopted here, note that this strategy is not necessary, since it would be enough to first select features based on cross-validation over the training data and then feed the algorithm that optimizes hyperparameters with those pre-selected features."
   ]
  },
  {
   "cell_type": "markdown",
   "metadata": {},
   "source": [
    "The following **approaches for features selection** are tested in this notebook of empirical tests:\n",
    "* Single methods:\n",
    "    * Variance thresholding.\n",
    "    * Correlation thresholding.\n",
    "    * Supervised learning selection (using a linear estimator).\n",
    "    * RFE.\n",
    "    * RFECV.\n",
    "    * Sequential selection (only forward-stepwise selection).\n",
    "    * Random selection (for each model size, a random set of features is selected; then, the best model is defined).\n",
    "\n",
    "\n",
    "* Combined methods:\n",
    "    * Variance or correlation thresholding and supervised learning selection.\n",
    "    * Variance or correlation thresholding and RFE.\n",
    "    * Variance or correlation thresholding and RFECV.\n",
    "    * Variance or correlation thresholding and sequential selection (forward-stepwise selection).\n",
    "    * Variance or correlation thresholding and random selection."
   ]
  },
  {
   "cell_type": "markdown",
   "metadata": {},
   "source": [
    "By implementing these empirical tests, we find that features selection has not a strong impact in predictive performance for this learning task. Even so, at least competitive metrics are obtained with shorter computing times and with less complex models. Therefore, features selection was able to reduce complexity of models while preserving generalization capacity. The **main conclusions** from the tests are summarized below:\n",
    "* [Performance metrics](#metric_by_approach)<a href='#metric_by_approach'></a>: even that very similar results are found, supervised learning selection seems to be the best choice for this learning task given both algorithms used during tests.\n",
    "\t* Besides, no selection of features has only the 9th highest R2 for XGBoost.\n",
    "\n",
    "* When total elapsed time is taken into account, this is even more evident. Although having no absolute meaning, the [ratio between R2 and running time](#ratio_by_approach)<a href='#ratio_by_approach'></a> shows the superiority of first screening features based on the correlation among them, and finally selecting features through supervised learning methods. If no selection has very poor relative performance (e.g., excessive running for lasso estimation), sequential features selection requires a prohibitive computing time for a performance not better than that for more simple alternatives.\n",
    "\n",
    "* When explicitly relating performance metric with [running time](#metric_by_time)<a href='#metric_by_time'></a>, the extent to which sequential selection is not appropriate for this learning task is strengthen. If sequential selection is disregarded, a light positive association is found between performance and running time, although some cost-effective alternatives are available, such as the above mentioned supervised learning selection with a relatively strong regularization whose small subset of selected features allows a good performance with just a few computational complexity.\n",
    "\n",
    "* A similar conclusion can be drawn from the relationship between [performance and the number of selected features](#metric_by_num_feats)<a href='#metric_by_num_feats'></a> performance and the number of selected features.\n",
    "\n",
    "It is important to notice that results derived, presented and discussed here do not hold for any supervised learning task. However, some notes may help choosing a features selection for a given setting. Supervised learning selection seems adequate for a first approach when trying to reduce complexity of models. Methods such as RFE and RFECV are more robust techniques with good balance between performance and running time. Both forward and backward-stepwise selection may only be considered when performance is expected to be highly optimized, since they have extremely high computational costs. Finally, unsupervised features screening, either by variance or correlation thresholding, should always be considered, since may help dropping irrelevant features at a very low computational cost."
   ]
  },
  {
   "cell_type": "markdown",
   "metadata": {},
   "source": [
    "**Summary:**\n",
    "1. [Libraries](#libraries)<a href='#libraries'></a>.\n",
    "2. [Functions and classes](#functions_classes)<a href='#functions_classes'></a>.\n",
    "3. [Settings](#settings)<a href='#settings'></a>.\n",
    "4. [Importing datasets](#imports)<a href='#imports'></a>.\n",
    "    * [Features and outcome variables](#feats_outcomes)<a href='#feats_outcomes'></a>.\n",
    "<br>\n",
    "<br>\n",
    "5. [Data modeling](#data_modeling)<a href='#data_modeling'></a>.\n",
    "    * [Linear regression (Lasso)](#linear)<a href='#linear'></a>.\n",
    "    * [XGBoost](#xgboost)<a href='#xgboost'></a>.\n",
    "<br>\n",
    "<br>\n",
    "6. [Analysis of results](#analysis_results)<a href='#analysis_results'></a>.\n",
    "    * [Processing the outcomes](#processing_outcomes)<a href='#processing_outcomes'></a>.\n",
    "    * [Visualizing the outcomes](#data_vis)<a href='#data_vis'></a>."
   ]
  },
  {
   "cell_type": "markdown",
   "metadata": {},
   "source": [
    "<a id='libraries'></a>"
   ]
  },
  {
   "cell_type": "markdown",
   "metadata": {},
   "source": [
    "## Libraries"
   ]
  },
  {
   "cell_type": "code",
   "execution_count": 1,
   "metadata": {},
   "outputs": [],
   "source": [
    "import pandas as pd\n",
    "import numpy as np\n",
    "import os\n",
    "import json\n",
    "\n",
    "from time import time\n",
    "\n",
    "from sklearn.linear_model import Lasso\n",
    "from sklearn.ensemble import GradientBoostingRegressor\n",
    "from sklearn.metrics import r2_score, mean_squared_error\n",
    "\n",
    "from scipy.stats import uniform, norm, randint"
   ]
  },
  {
   "cell_type": "markdown",
   "metadata": {},
   "source": [
    "<a id='functions_classes'></a>"
   ]
  },
  {
   "cell_type": "markdown",
   "metadata": {},
   "source": [
    "## Functions and classes"
   ]
  },
  {
   "cell_type": "code",
   "execution_count": 2,
   "metadata": {},
   "outputs": [
    {
     "data": {
      "text/html": [
       "        <script type=\"text/javascript\">\n",
       "        window.PlotlyConfig = {MathJaxConfig: 'local'};\n",
       "        if (window.MathJax) {MathJax.Hub.Config({SVG: {font: \"STIX-Web\"}});}\n",
       "        if (typeof require !== 'undefined') {\n",
       "        require.undef(\"plotly\");\n",
       "        requirejs.config({\n",
       "            paths: {\n",
       "                'plotly': ['https://cdn.plot.ly/plotly-latest.min']\n",
       "            }\n",
       "        });\n",
       "        require(['plotly'], function(Plotly) {\n",
       "            window._Plotly = Plotly;\n",
       "        });\n",
       "        }\n",
       "        </script>\n",
       "        "
      ]
     },
     "metadata": {},
     "output_type": "display_data"
    }
   ],
   "source": [
    "from utils import train_test_split, plot_outcomes\n",
    "from pre_process import pre_process\n",
    "from kfolds import Kfolds_fit\n",
    "from bootstrap import BootstrapEstimation\n",
    "from features_selection import FeaturesSelection"
   ]
  },
  {
   "cell_type": "markdown",
   "metadata": {},
   "source": [
    "<a id='settings'></a>"
   ]
  },
  {
   "cell_type": "markdown",
   "metadata": {},
   "source": [
    "## Settings"
   ]
  },
  {
   "cell_type": "markdown",
   "metadata": {},
   "source": [
    "### Data management"
   ]
  },
  {
   "cell_type": "code",
   "execution_count": 3,
   "metadata": {},
   "outputs": [],
   "source": [
    "# Declare whether to export results:\n",
    "export = True"
   ]
  },
  {
   "cell_type": "markdown",
   "metadata": {},
   "source": [
    "### Data transformation"
   ]
  },
  {
   "cell_type": "code",
   "execution_count": 4,
   "metadata": {},
   "outputs": [],
   "source": [
    "# Define whether to apply logarithmic transformation over numerical variables:\n",
    "log_transform = True\n",
    "\n",
    "# Define whether to standardize numerical variables:\n",
    "standardize = True"
   ]
  },
  {
   "cell_type": "markdown",
   "metadata": {},
   "source": [
    "### Features selection"
   ]
  },
  {
   "cell_type": "markdown",
   "metadata": {},
   "source": [
    "#### Grid of methods and parameters"
   ]
  },
  {
   "cell_type": "code",
   "execution_count": 5,
   "metadata": {},
   "outputs": [],
   "source": [
    "selection_params = [\n",
    "    (False, {'analytical': None}, None, False, 'No selection'),\n",
    "    \n",
    "    (False, {'analytical': {'method': 'variance', 'threshold': 0.003}}, None, False, 'Variance selection'),\n",
    "    (False, {'analytical': {'method': 'correlation', 'threshold': 0.9}}, None, False, 'Correlation selection'),\n",
    "    \n",
    "    (True, {'analytical': None}, {'method': 'supervised', 'threshold': 0, 'estimator': Lasso(alpha=10)},\n",
    "     False, 'Supervised selection (alpha=10)'),\n",
    "    (True, {'analytical': None}, {'method': 'supervised', 'threshold': 0, 'estimator': Lasso(alpha=1)},\n",
    "     False, 'Supervised selection (alpha=1)'),\n",
    "    (True, {'analytical': None}, {'method': 'supervised', 'threshold': 0, 'estimator': Lasso(alpha=0.1)},\n",
    "     False, 'Supervised selection (alpha=0.1)'),\n",
    "    \n",
    "    (True, {'analytical': None}, {'method': 'rfe', 'estimator': Lasso(alpha=1.0), 'num_folds': 5, 'metric': 'r2',\n",
    "                                  'max_num_feats': 100, 'step': 1}, True, 'RFE'),\n",
    "    (True, {'analytical': None}, {'method': 'rfecv', 'estimator': Lasso(alpha=1.0), 'num_folds': 5,\n",
    "                                  'metric': 'r2', 'min_num_feats': 50, 'step': 1}, True, 'RFECV'),\n",
    "    (True, {'analytical': None}, {'method': 'sequential', 'estimator': Lasso(alpha=1.0), 'num_folds': 5,\n",
    "                                  'metric': 'r2', 'max_num_feats': 100, 'step': 1, 'direction': 'forward'},\n",
    "     True, 'Sequential (forward)'),\n",
    "    (True, {'analytical': None}, {'method': 'random_selection', 'estimator': Lasso(alpha=1.0), 'num_folds': 5,\n",
    "                                  'metric': 'r2', 'max_num_feats': 100, 'step': 10}, True, 'Random selection'),\n",
    "    \n",
    "    (True, {'analytical': {'method': 'correlation', 'threshold': 0.9}},\n",
    "     {'method': 'supervised', 'threshold': 0, 'estimator': Lasso(alpha=0.001)},\n",
    "     False, 'Correlation selection, then supervised selection (alpha=0.001)'),\n",
    "    (True, {'analytical': {'method': 'correlation', 'threshold': 0.9}},\n",
    "     {'method': 'rfe', 'estimator': Lasso(alpha=1.0), 'num_folds': 5, 'metric': 'r2', 'max_num_feats': 100,\n",
    "      'step': 1}, True, 'Correlation selection, then RFE', 'Correlation selection, then RFE'),\n",
    "    (True, {'analytical': {'method': 'correlation', 'threshold': 0.9}},\n",
    "     {'method': 'rfecv', 'estimator': Lasso(alpha=1.0), 'num_folds': 5, 'metric': 'r2', 'min_num_feats': 50,\n",
    "      'step': 1}, True, 'Correlation selection, then RFECV', 'Correlation selection, then RFECV'),\n",
    "    (True, {'analytical': {'method': 'correlation', 'threshold': 0.9}},\n",
    "     {'method': 'sequential', 'estimator': Lasso(alpha=1.0), 'num_folds': 5, 'metric': 'r2', 'max_num_feats': 100,\n",
    "      'step': 1, 'direction': 'forward'}, True, 'Correlation selection, then sequential (forward)'),\n",
    "    (True, {'analytical': {'method': 'correlation', 'threshold': 0.9}},\n",
    "     {'method': 'random_selection', 'estimator': Lasso(alpha=1.0), 'num_folds': 5, 'metric': 'r2',\n",
    "      'max_num_feats': 100, 'step': 10}, True, 'Correlation selection, then random selection'),\n",
    "    (True, {'analytical': {'method': 'correlation', 'threshold': 0.9}},\n",
    "         {'method': 'supervised', 'threshold': 0, 'estimator': Lasso(alpha=10)},\n",
    "         False, 'Correlation selection, then supervised selection (alpha=10)')\n",
    "]"
   ]
  },
  {
   "cell_type": "markdown",
   "metadata": {},
   "source": [
    "<a id='imports'></a>"
   ]
  },
  {
   "cell_type": "markdown",
   "metadata": {},
   "source": [
    "## Importing datasets"
   ]
  },
  {
   "cell_type": "markdown",
   "metadata": {},
   "source": [
    "<a id='feats_outcomes'></a>"
   ]
  },
  {
   "cell_type": "markdown",
   "metadata": {},
   "source": [
    "### Features and outcome variables"
   ]
  },
  {
   "cell_type": "code",
   "execution_count": 6,
   "metadata": {},
   "outputs": [
    {
     "name": "stdout",
     "output_type": "stream",
     "text": [
      "Shape of data: (2215, 130).\n",
      "Number of distinct instances: 2215.\n"
     ]
    },
    {
     "data": {
      "text/html": [
       "<div>\n",
       "<style scoped>\n",
       "    .dataframe tbody tr th:only-of-type {\n",
       "        vertical-align: middle;\n",
       "    }\n",
       "\n",
       "    .dataframe tbody tr th {\n",
       "        vertical-align: top;\n",
       "    }\n",
       "\n",
       "    .dataframe thead th {\n",
       "        text-align: right;\n",
       "    }\n",
       "</style>\n",
       "<table border=\"1\" class=\"dataframe\">\n",
       "  <thead>\n",
       "    <tr style=\"text-align: right;\">\n",
       "      <th></th>\n",
       "      <th>communityname</th>\n",
       "      <th>state</th>\n",
       "      <th>countyCode</th>\n",
       "      <th>communityCode</th>\n",
       "      <th>fold</th>\n",
       "      <th>population</th>\n",
       "      <th>householdsize</th>\n",
       "      <th>racepctblack</th>\n",
       "      <th>racePctWhite</th>\n",
       "      <th>racePctAsian</th>\n",
       "      <th>...</th>\n",
       "      <th>LandArea</th>\n",
       "      <th>PopDens</th>\n",
       "      <th>PctUsePubTrans</th>\n",
       "      <th>PolicCars</th>\n",
       "      <th>PolicOperBudg</th>\n",
       "      <th>LemasPctPolicOnPatr</th>\n",
       "      <th>LemasGangUnitDeploy</th>\n",
       "      <th>LemasPctOfficDrugUn</th>\n",
       "      <th>PolicBudgPerPop</th>\n",
       "      <th>ViolentCrimesPerPop</th>\n",
       "    </tr>\n",
       "  </thead>\n",
       "  <tbody>\n",
       "    <tr>\n",
       "      <th>0</th>\n",
       "      <td>BerkeleyHeightstownship</td>\n",
       "      <td>NJ</td>\n",
       "      <td>39</td>\n",
       "      <td>5320</td>\n",
       "      <td>1</td>\n",
       "      <td>11980</td>\n",
       "      <td>3.10</td>\n",
       "      <td>1.37</td>\n",
       "      <td>91.78</td>\n",
       "      <td>6.50</td>\n",
       "      <td>...</td>\n",
       "      <td>6.5</td>\n",
       "      <td>1845.9</td>\n",
       "      <td>9.63</td>\n",
       "      <td>?</td>\n",
       "      <td>?</td>\n",
       "      <td>?</td>\n",
       "      <td>?</td>\n",
       "      <td>0.0</td>\n",
       "      <td>?</td>\n",
       "      <td>41.02</td>\n",
       "    </tr>\n",
       "    <tr>\n",
       "      <th>1</th>\n",
       "      <td>Marpletownship</td>\n",
       "      <td>PA</td>\n",
       "      <td>45</td>\n",
       "      <td>47616</td>\n",
       "      <td>1</td>\n",
       "      <td>23123</td>\n",
       "      <td>2.82</td>\n",
       "      <td>0.80</td>\n",
       "      <td>95.57</td>\n",
       "      <td>3.44</td>\n",
       "      <td>...</td>\n",
       "      <td>10.6</td>\n",
       "      <td>2186.7</td>\n",
       "      <td>3.84</td>\n",
       "      <td>?</td>\n",
       "      <td>?</td>\n",
       "      <td>?</td>\n",
       "      <td>?</td>\n",
       "      <td>0.0</td>\n",
       "      <td>?</td>\n",
       "      <td>127.56</td>\n",
       "    </tr>\n",
       "    <tr>\n",
       "      <th>2</th>\n",
       "      <td>Tigardcity</td>\n",
       "      <td>OR</td>\n",
       "      <td>?</td>\n",
       "      <td>?</td>\n",
       "      <td>1</td>\n",
       "      <td>29344</td>\n",
       "      <td>2.43</td>\n",
       "      <td>0.74</td>\n",
       "      <td>94.33</td>\n",
       "      <td>3.43</td>\n",
       "      <td>...</td>\n",
       "      <td>10.6</td>\n",
       "      <td>2780.9</td>\n",
       "      <td>4.37</td>\n",
       "      <td>?</td>\n",
       "      <td>?</td>\n",
       "      <td>?</td>\n",
       "      <td>?</td>\n",
       "      <td>0.0</td>\n",
       "      <td>?</td>\n",
       "      <td>218.59</td>\n",
       "    </tr>\n",
       "  </tbody>\n",
       "</table>\n",
       "<p>3 rows × 130 columns</p>\n",
       "</div>"
      ],
      "text/plain": [
       "             communityname state countyCode communityCode  fold  population  \\\n",
       "0  BerkeleyHeightstownship    NJ         39          5320     1       11980   \n",
       "1           Marpletownship    PA         45         47616     1       23123   \n",
       "2               Tigardcity    OR          ?             ?     1       29344   \n",
       "\n",
       "   householdsize  racepctblack  racePctWhite  racePctAsian  ...  LandArea  \\\n",
       "0           3.10          1.37         91.78          6.50  ...       6.5   \n",
       "1           2.82          0.80         95.57          3.44  ...      10.6   \n",
       "2           2.43          0.74         94.33          3.43  ...      10.6   \n",
       "\n",
       "   PopDens  PctUsePubTrans  PolicCars  PolicOperBudg  LemasPctPolicOnPatr  \\\n",
       "0   1845.9            9.63          ?              ?                    ?   \n",
       "1   2186.7            3.84          ?              ?                    ?   \n",
       "2   2780.9            4.37          ?              ?                    ?   \n",
       "\n",
       "   LemasGangUnitDeploy  LemasPctOfficDrugUn  PolicBudgPerPop  \\\n",
       "0                    ?                  0.0                ?   \n",
       "1                    ?                  0.0                ?   \n",
       "2                    ?                  0.0                ?   \n",
       "\n",
       "   ViolentCrimesPerPop  \n",
       "0                41.02  \n",
       "1               127.56  \n",
       "2               218.59  \n",
       "\n",
       "[3 rows x 130 columns]"
      ]
     },
     "execution_count": 6,
     "metadata": {},
     "output_type": "execute_result"
    }
   ],
   "source": [
    "# Importing data:\n",
    "df = pd.read_csv('../Datasets/CommViolPredUnnormalizedData.txt', header=None)\n",
    "\n",
    "# Columns names:\n",
    "columns_names = pd.read_csv('../Datasets/columns_names.csv')\n",
    "\n",
    "# Defining columns names:\n",
    "df.columns = list(columns_names['column_name'])\n",
    "\n",
    "# Auxiliary variables:\n",
    "drop_vars = ['communityname', 'countyCode', 'communityCode', 'fold', 'ViolentCrimesPerPop']\n",
    "\n",
    "# Additional outcome variables:\n",
    "additional_outcomes = ['nonViolPerPop', 'murders', 'murdPerPop', 'rapes', 'rapesPerPop', 'robberies',\n",
    "                       'robbbPerPop', 'assaults', 'assaultPerPop', 'burglaries', 'burglPerPop', 'larcenies',\n",
    "                       'larcPerPop', 'autoTheft', 'autoTheftPerPop', 'arsons', 'arsonsPerPop']\n",
    "df.drop(additional_outcomes, axis=1, inplace=True)\n",
    "\n",
    "print(f'Shape of data: {df.shape}.')\n",
    "print(f'Number of distinct instances: {len(np.unique(df[\"communityname\"] + df[\"state\"]))}.')\n",
    "df.head(3)"
   ]
  },
  {
   "cell_type": "markdown",
   "metadata": {},
   "source": [
    "#### Correcting missing values and data types"
   ]
  },
  {
   "cell_type": "code",
   "execution_count": 7,
   "metadata": {},
   "outputs": [],
   "source": [
    "# Loop over columns:\n",
    "for c in df.columns:\n",
    "    df[c] = df[c].apply(lambda x: np.NaN if x == '?' else x)\n",
    "    \n",
    "    # Converting data into float:\n",
    "    if c not in ['communityname', 'state', 'countyCode', 'communityCode', 'fold']:\n",
    "        df[c] = df[c].apply(float)\n",
    "    \n",
    "    # Treating missings for support variables:\n",
    "    if c in ['communityname', 'countyCode', 'communityCode', 'fold']:\n",
    "        df[c] = ['' if pd.isnull(x) else x for x in df[c]]"
   ]
  },
  {
   "cell_type": "code",
   "execution_count": 8,
   "metadata": {},
   "outputs": [
    {
     "name": "stdout",
     "output_type": "stream",
     "text": [
      "Shape of data: (1994, 130).\n",
      "Number of distinct instances: 1994.\n"
     ]
    },
    {
     "data": {
      "text/html": [
       "<div>\n",
       "<style scoped>\n",
       "    .dataframe tbody tr th:only-of-type {\n",
       "        vertical-align: middle;\n",
       "    }\n",
       "\n",
       "    .dataframe tbody tr th {\n",
       "        vertical-align: top;\n",
       "    }\n",
       "\n",
       "    .dataframe thead th {\n",
       "        text-align: right;\n",
       "    }\n",
       "</style>\n",
       "<table border=\"1\" class=\"dataframe\">\n",
       "  <thead>\n",
       "    <tr style=\"text-align: right;\">\n",
       "      <th></th>\n",
       "      <th>communityname</th>\n",
       "      <th>state</th>\n",
       "      <th>countyCode</th>\n",
       "      <th>communityCode</th>\n",
       "      <th>fold</th>\n",
       "      <th>population</th>\n",
       "      <th>householdsize</th>\n",
       "      <th>racepctblack</th>\n",
       "      <th>racePctWhite</th>\n",
       "      <th>racePctAsian</th>\n",
       "      <th>...</th>\n",
       "      <th>LandArea</th>\n",
       "      <th>PopDens</th>\n",
       "      <th>PctUsePubTrans</th>\n",
       "      <th>PolicCars</th>\n",
       "      <th>PolicOperBudg</th>\n",
       "      <th>LemasPctPolicOnPatr</th>\n",
       "      <th>LemasGangUnitDeploy</th>\n",
       "      <th>LemasPctOfficDrugUn</th>\n",
       "      <th>PolicBudgPerPop</th>\n",
       "      <th>ViolentCrimesPerPop</th>\n",
       "    </tr>\n",
       "  </thead>\n",
       "  <tbody>\n",
       "    <tr>\n",
       "      <th>0</th>\n",
       "      <td>BerkeleyHeightstownship</td>\n",
       "      <td>NJ</td>\n",
       "      <td>39</td>\n",
       "      <td>5320</td>\n",
       "      <td>1</td>\n",
       "      <td>11980.0</td>\n",
       "      <td>3.10</td>\n",
       "      <td>1.37</td>\n",
       "      <td>91.78</td>\n",
       "      <td>6.50</td>\n",
       "      <td>...</td>\n",
       "      <td>6.5</td>\n",
       "      <td>1845.9</td>\n",
       "      <td>9.63</td>\n",
       "      <td>NaN</td>\n",
       "      <td>NaN</td>\n",
       "      <td>NaN</td>\n",
       "      <td>NaN</td>\n",
       "      <td>0.0</td>\n",
       "      <td>NaN</td>\n",
       "      <td>41.02</td>\n",
       "    </tr>\n",
       "    <tr>\n",
       "      <th>1</th>\n",
       "      <td>Marpletownship</td>\n",
       "      <td>PA</td>\n",
       "      <td>45</td>\n",
       "      <td>47616</td>\n",
       "      <td>1</td>\n",
       "      <td>23123.0</td>\n",
       "      <td>2.82</td>\n",
       "      <td>0.80</td>\n",
       "      <td>95.57</td>\n",
       "      <td>3.44</td>\n",
       "      <td>...</td>\n",
       "      <td>10.6</td>\n",
       "      <td>2186.7</td>\n",
       "      <td>3.84</td>\n",
       "      <td>NaN</td>\n",
       "      <td>NaN</td>\n",
       "      <td>NaN</td>\n",
       "      <td>NaN</td>\n",
       "      <td>0.0</td>\n",
       "      <td>NaN</td>\n",
       "      <td>127.56</td>\n",
       "    </tr>\n",
       "    <tr>\n",
       "      <th>2</th>\n",
       "      <td>Tigardcity</td>\n",
       "      <td>OR</td>\n",
       "      <td></td>\n",
       "      <td></td>\n",
       "      <td>1</td>\n",
       "      <td>29344.0</td>\n",
       "      <td>2.43</td>\n",
       "      <td>0.74</td>\n",
       "      <td>94.33</td>\n",
       "      <td>3.43</td>\n",
       "      <td>...</td>\n",
       "      <td>10.6</td>\n",
       "      <td>2780.9</td>\n",
       "      <td>4.37</td>\n",
       "      <td>NaN</td>\n",
       "      <td>NaN</td>\n",
       "      <td>NaN</td>\n",
       "      <td>NaN</td>\n",
       "      <td>0.0</td>\n",
       "      <td>NaN</td>\n",
       "      <td>218.59</td>\n",
       "    </tr>\n",
       "  </tbody>\n",
       "</table>\n",
       "<p>3 rows × 130 columns</p>\n",
       "</div>"
      ],
      "text/plain": [
       "             communityname state countyCode communityCode  fold  population  \\\n",
       "0  BerkeleyHeightstownship    NJ         39          5320     1     11980.0   \n",
       "1           Marpletownship    PA         45         47616     1     23123.0   \n",
       "2               Tigardcity    OR                              1     29344.0   \n",
       "\n",
       "   householdsize  racepctblack  racePctWhite  racePctAsian  ...  LandArea  \\\n",
       "0           3.10          1.37         91.78          6.50  ...       6.5   \n",
       "1           2.82          0.80         95.57          3.44  ...      10.6   \n",
       "2           2.43          0.74         94.33          3.43  ...      10.6   \n",
       "\n",
       "   PopDens  PctUsePubTrans  PolicCars  PolicOperBudg  LemasPctPolicOnPatr  \\\n",
       "0   1845.9            9.63        NaN            NaN                  NaN   \n",
       "1   2186.7            3.84        NaN            NaN                  NaN   \n",
       "2   2780.9            4.37        NaN            NaN                  NaN   \n",
       "\n",
       "   LemasGangUnitDeploy  LemasPctOfficDrugUn  PolicBudgPerPop  \\\n",
       "0                  NaN                  0.0              NaN   \n",
       "1                  NaN                  0.0              NaN   \n",
       "2                  NaN                  0.0              NaN   \n",
       "\n",
       "   ViolentCrimesPerPop  \n",
       "0                41.02  \n",
       "1               127.56  \n",
       "2               218.59  \n",
       "\n",
       "[3 rows x 130 columns]"
      ]
     },
     "execution_count": 8,
     "metadata": {},
     "output_type": "execute_result"
    }
   ],
   "source": [
    "# Dropping instances with missing for the outcome variable:\n",
    "df = df[df['ViolentCrimesPerPop'].isnull()==False]\n",
    "df.reset_index(drop=True, inplace=True)\n",
    "\n",
    "print(f'Shape of data: {df.shape}.')\n",
    "print(f'Number of distinct instances: {len(np.unique(df[\"communityname\"] + df[\"state\"]))}.')\n",
    "df.head(3)"
   ]
  },
  {
   "cell_type": "markdown",
   "metadata": {},
   "source": [
    "#### Train-test split"
   ]
  },
  {
   "cell_type": "code",
   "execution_count": 9,
   "metadata": {},
   "outputs": [],
   "source": [
    "df_train, df_test = train_test_split(df, test_ratio=0.25, shuffle=True, seed=1)"
   ]
  },
  {
   "cell_type": "markdown",
   "metadata": {},
   "source": [
    "#### Data pre-processing"
   ]
  },
  {
   "cell_type": "code",
   "execution_count": 10,
   "metadata": {
    "scrolled": true
   },
   "outputs": [
    {
     "name": "stdout",
     "output_type": "stream",
     "text": [
      "---------------------------------------------------------------------------------------------------------\n",
      "\u001b[1mCLASSIFYING FEATURES AND EARLY SELECTION\u001b[0m\n",
      "\n",
      "\n",
      "Initial number of features: 125.\n",
      "0 features were dropped for excessive number of missings!\n",
      "0 features were dropped for having no variance!\n",
      "125 remaining features.\n",
      "\n",
      "\n",
      "---------------------------------------------------------------------------------------------------------\n",
      "\n",
      "\n",
      "---------------------------------------------------------------------------------------------------------\n",
      "\u001b[1mASSESSING MISSING VALUES\u001b[0m\n",
      "\n",
      "\n",
      "\u001b[1mTraining data:\u001b[0m\n",
      "\u001b[1mNumber of features with missings:\u001b[0m 23 out of 130 features (17.69%).\n",
      "\u001b[1mAverage number of missings:\u001b[0m 212 out of 1496 observations (14.17%).\n",
      "\n",
      "\u001b[1mTest data:\u001b[0m\n",
      "\u001b[1mNumber of features with missings:\u001b[0m 22 out of 130 features (16.92%).\n",
      "\u001b[1mAverage number of missings:\u001b[0m 71 out of 498 observations (14.26%).\n",
      "\n",
      "\n",
      "---------------------------------------------------------------------------------------------------------\n",
      "\n",
      "\n",
      "---------------------------------------------------------------------------------------------------------\n",
      "\u001b[1mAPPLYING LOGARITHMIC TRANSFORMATION OVER NUMERICAL DATA\u001b[0m\n",
      "\n",
      "\n",
      "\u001b[1mTraining data:\u001b[0m\n",
      "\u001b[1mNumber of numerical variables log-transformed:\u001b[0m 124.\n",
      "\u001b[1mTest data:\u001b[0m\n",
      "\u001b[1mNumber of numerical variables log-transformed:\u001b[0m 124.\n",
      "\n",
      "\n",
      "---------------------------------------------------------------------------------------------------------\n",
      "\n",
      "\n",
      "---------------------------------------------------------------------------------------------------------\n",
      "\u001b[1mAPPLYING STANDARD SCALE TRANSFORMATION OVER NUMERICAL DATA\u001b[0m\n",
      "\n",
      "\n",
      "\u001b[1mStandard scaling training data...\u001b[0m\n",
      "\u001b[1mStandard scaling test data...\u001b[0m\n",
      "\n",
      "\n",
      "---------------------------------------------------------------------------------------------------------\n",
      "\n",
      "\n",
      "---------------------------------------------------------------------------------------------------------\n",
      "\u001b[1mTREATING MISSING VALUES\u001b[0m\n",
      "\n",
      "\n",
      "\u001b[1mTreating missing values of training data...\u001b[0m\n",
      "\u001b[1mTreating missing values of test data...\u001b[0m\n",
      "\n",
      "\n",
      "---------------------------------------------------------------------------------------------------------\n",
      "\n",
      "\n",
      "---------------------------------------------------------------------------------------------------------\n",
      "\u001b[1mTRANSFORMING CATEGORICAL FEATURES\u001b[0m\n",
      "\n",
      "\n",
      "\u001b[1mNumber of categorical features:\u001b[0m 1\n",
      "\u001b[1mNumber of overall selected dummies:\u001b[0m 28.\n",
      "\u001b[1mShape of df_train_scaled:\u001b[0m (1496, 180).\n",
      "\u001b[1mShape of df_test_scaled:\u001b[0m (498, 179).\n",
      "\n",
      "\n",
      "---------------------------------------------------------------------------------------------------------\n",
      "\n",
      "\n",
      "---------------------------------------------------------------------------------------------------------\n",
      "\u001b[1mFINAL ASSESSMENT OF MISSINGS AND CHECKING DATASETS CONSISTENCY\u001b[0m\n",
      "\n",
      "\n",
      "Training and test data are consistent with each other.\n",
      "---------------------------------------------------------------------------------------------------------\n",
      "\n",
      "\n"
     ]
    }
   ],
   "source": [
    "df_train, df_test, df_train_scaled, df_test_scaled = pre_process(training_data=df_train, test_data=df_test,\n",
    "                                                                 vars_to_drop=drop_vars,\n",
    "                                                                 log_transform=True, standardize=True)"
   ]
  },
  {
   "cell_type": "markdown",
   "metadata": {},
   "source": [
    "<a id='model_assess'></a>"
   ]
  },
  {
   "cell_type": "markdown",
   "metadata": {},
   "source": [
    "### Model assessment"
   ]
  },
  {
   "cell_type": "code",
   "execution_count": 11,
   "metadata": {},
   "outputs": [],
   "source": [
    "if 'model_assess.json' not in os.listdir('../Datasets'):\n",
    "    model_assess = {}\n",
    "\n",
    "else:\n",
    "    with open('../Datasets/model_assess.json') as json_file:\n",
    "        model_assess = json.load(json_file)"
   ]
  },
  {
   "cell_type": "markdown",
   "metadata": {},
   "source": [
    "<a id='data_modeling'></a>"
   ]
  },
  {
   "cell_type": "markdown",
   "metadata": {},
   "source": [
    "## Data modeling"
   ]
  },
  {
   "cell_type": "code",
   "execution_count": 12,
   "metadata": {},
   "outputs": [],
   "source": [
    "# Complete collection of features:\n",
    "all_vars = list(df_train_scaled.drop(drop_vars, axis=1).columns)\n",
    "\n",
    "# Numerical features:\n",
    "cont_vars = [c for c in df_train.drop(drop_vars, axis=1).columns if 'L#' in c]"
   ]
  },
  {
   "cell_type": "code",
   "execution_count": 13,
   "metadata": {},
   "outputs": [],
   "source": [
    "# Numerical features:\n",
    "cont_df = df_train[cont_vars].copy()\n",
    "means = dict(zip(cont_df.mean().index, cont_df.mean().values))\n",
    "\n",
    "# Loop over numerical features:\n",
    "for f in means:\n",
    "    # Scaling each variable:\n",
    "    cont_df[f] = [x/means[f] for x in cont_df[f]]"
   ]
  },
  {
   "cell_type": "markdown",
   "metadata": {},
   "source": [
    "<a id='linear'></a>"
   ]
  },
  {
   "cell_type": "markdown",
   "metadata": {},
   "source": [
    "### Linear regression (Lasso)"
   ]
  },
  {
   "cell_type": "code",
   "execution_count": 19,
   "metadata": {
    "scrolled": true
   },
   "outputs": [
    {
     "name": "stdout",
     "output_type": "stream",
     "text": [
      "\u001b[1mFeatures selection method: Correlation selection, then supervised selection (alpha=0.001).\u001b[0m\n",
      "\n",
      "\n"
     ]
    },
    {
     "name": "stderr",
     "output_type": "stream",
     "text": [
      "\u001b[1mGrid estimation progress:\u001b[0m [--                                    ]   7%\r"
     ]
    },
    {
     "name": "stdout",
     "output_type": "stream",
     "text": [
      "From 124 features, 99 were selected!\n",
      "From 99 features, 27 were selected!\n",
      "From 99 features, 28 were selected!\n",
      "From 99 features, 28 were selected!\n",
      "From 99 features, 33 were selected!\n",
      "From 99 features, 34 were selected!\n",
      "From 99 features, 27 were selected!\n",
      "From 99 features, 28 were selected!\n",
      "From 99 features, 28 were selected!\n",
      "From 99 features, 33 were selected!\n",
      "From 99 features, 34 were selected!\n"
     ]
    },
    {
     "name": "stderr",
     "output_type": "stream",
     "text": [
      "\u001b[1mGrid estimation progress:\u001b[0m [--------                              ]  21%\r"
     ]
    },
    {
     "name": "stdout",
     "output_type": "stream",
     "text": [
      "From 99 features, 27 were selected!\n",
      "From 99 features, 28 were selected!\n",
      "From 99 features, 28 were selected!\n",
      "From 99 features, 33 were selected!\n",
      "From 99 features, 34 were selected!\n"
     ]
    },
    {
     "name": "stderr",
     "output_type": "stream",
     "text": [
      "\u001b[1mGrid estimation progress:\u001b[0m [----------                            ]  28%\r"
     ]
    },
    {
     "name": "stdout",
     "output_type": "stream",
     "text": [
      "From 99 features, 27 were selected!\n",
      "From 99 features, 28 were selected!\n",
      "From 99 features, 28 were selected!\n",
      "From 99 features, 33 were selected!\n",
      "From 99 features, 34 were selected!\n"
     ]
    },
    {
     "name": "stderr",
     "output_type": "stream",
     "text": [
      "\u001b[1mGrid estimation progress:\u001b[0m [-------------                         ]  35%\r"
     ]
    },
    {
     "name": "stdout",
     "output_type": "stream",
     "text": [
      "From 99 features, 27 were selected!\n",
      "From 99 features, 28 were selected!\n",
      "From 99 features, 28 were selected!\n",
      "From 99 features, 33 were selected!\n",
      "From 99 features, 34 were selected!\n"
     ]
    },
    {
     "name": "stderr",
     "output_type": "stream",
     "text": [
      "\u001b[1mGrid estimation progress:\u001b[0m [----------------                      ]  42%\r"
     ]
    },
    {
     "name": "stdout",
     "output_type": "stream",
     "text": [
      "From 99 features, 27 were selected!\n",
      "From 99 features, 28 were selected!\n",
      "From 99 features, 28 were selected!\n",
      "From 99 features, 33 were selected!\n",
      "From 99 features, 34 were selected!\n"
     ]
    },
    {
     "name": "stderr",
     "output_type": "stream",
     "text": [
      "\u001b[1mGrid estimation progress:\u001b[0m [-------------------                   ]  50%\r"
     ]
    },
    {
     "name": "stdout",
     "output_type": "stream",
     "text": [
      "From 99 features, 27 were selected!\n",
      "From 99 features, 28 were selected!\n",
      "From 99 features, 28 were selected!\n",
      "From 99 features, 33 were selected!\n",
      "From 99 features, 34 were selected!\n"
     ]
    },
    {
     "name": "stderr",
     "output_type": "stream",
     "text": [
      "\u001b[1mGrid estimation progress:\u001b[0m [---------------------                 ]  57%\r"
     ]
    },
    {
     "name": "stdout",
     "output_type": "stream",
     "text": [
      "From 99 features, 27 were selected!\n",
      "From 99 features, 28 were selected!\n",
      "From 99 features, 28 were selected!\n",
      "From 99 features, 33 were selected!\n",
      "From 99 features, 34 were selected!\n",
      "From 99 features, 27 were selected!\n",
      "From 99 features, 28 were selected!\n",
      "From 99 features, 28 were selected!\n",
      "From 99 features, 33 were selected!\n"
     ]
    },
    {
     "name": "stderr",
     "output_type": "stream",
     "text": [
      "\u001b[1mGrid estimation progress:\u001b[0m [------------------------              ]  64%\r"
     ]
    },
    {
     "name": "stdout",
     "output_type": "stream",
     "text": [
      "From 99 features, 34 were selected!\n",
      "From 99 features, 27 were selected!\n",
      "From 99 features, 28 were selected!"
     ]
    },
    {
     "name": "stderr",
     "output_type": "stream",
     "text": [
      "\u001b[1mGrid estimation progress:\u001b[0m [---------------------------           ]  71%\r"
     ]
    },
    {
     "name": "stdout",
     "output_type": "stream",
     "text": [
      "\n",
      "From 99 features, 28 were selected!\n",
      "From 99 features, 33 were selected!\n",
      "From 99 features, 34 were selected!\n"
     ]
    },
    {
     "name": "stderr",
     "output_type": "stream",
     "text": [
      "\u001b[1mGrid estimation progress:\u001b[0m [-----------------------------         ]  78%\r"
     ]
    },
    {
     "name": "stdout",
     "output_type": "stream",
     "text": [
      "From 99 features, 27 were selected!\n",
      "From 99 features, 28 were selected!\n",
      "From 99 features, 28 were selected!\n",
      "From 99 features, 33 were selected!\n",
      "From 99 features, 34 were selected!\n"
     ]
    },
    {
     "name": "stderr",
     "output_type": "stream",
     "text": [
      "\u001b[1mGrid estimation progress:\u001b[0m [--------------------------------      ]  85%\r"
     ]
    },
    {
     "name": "stdout",
     "output_type": "stream",
     "text": [
      "From 99 features, 27 were selected!\n",
      "From 99 features, 28 were selected!\n",
      "From 99 features, 28 were selected!\n",
      "From 99 features, 33 were selected!\n",
      "From 99 features, 34 were selected!\n",
      "From 99 features, 27 were selected!\n",
      "From 99 features, 28 were selected!\n",
      "From 99 features, 28 were selected!\n",
      "From 99 features, 33 were selected!\n"
     ]
    },
    {
     "name": "stderr",
     "output_type": "stream",
     "text": [
      "\u001b[1mGrid estimation progress:\u001b[0m [-----------------------------------   ]  92%\r"
     ]
    },
    {
     "name": "stdout",
     "output_type": "stream",
     "text": [
      "From 99 features, 34 were selected!\n",
      "From 99 features, 27 were selected!\n",
      "From 99 features, 28 were selected!\n",
      "From 99 features, 28 were selected!\n"
     ]
    },
    {
     "name": "stderr",
     "output_type": "stream",
     "text": [
      "\u001b[1mGrid estimation progress:\u001b[0m [--------------------------------------] 100%\r"
     ]
    },
    {
     "name": "stdout",
     "output_type": "stream",
     "text": [
      "From 99 features, 33 were selected!\n",
      "From 99 features, 34 were selected!\n",
      "From 99 features, 31 were selected!\n",
      "\n",
      "\n"
     ]
    }
   ],
   "source": [
    "# Grid of hyper-parameters:\n",
    "grid_param = {'alpha': [0.0001, 0.0003, 0.001, 0.003, 0.01, 0.03, 0.1, 0.25, 0.3, 0.5, 0.75, 1, 3, 10]}\n",
    "default_param = {'alpha': 1.0}\n",
    "fixed_params = {'warm_start':True, 'max_iter': 100000}\n",
    "\n",
    "# Loop over alternatives fo features selection:\n",
    "for i in range(len(selection_params)):\n",
    "    print(f'\\033[1mFeatures selection method: {selection_params[i][4]}.\\033[0m')\n",
    "    print('\\n')\n",
    "    \n",
    "    estimation_id = str(int(time()))\n",
    "    \n",
    "    ##############################################################################################################\n",
    "    # FEATURES SELECTION BASED ON VARIANCE/CORRELATION:\n",
    "\n",
    "    if selection_params[i][1]['analytical'] is not None:\n",
    "        # Creating the object for features selection:\n",
    "        selection = FeaturesSelection(method=selection_params[i][1]['analytical']['method'],\n",
    "                                      threshold=selection_params[i][1]['analytical']['threshold'])\n",
    "\n",
    "        # Running the features selection:\n",
    "        selection.select_features(inputs=cont_df)\n",
    "\n",
    "        # List of selected features:\n",
    "        first_selection = selection.selected_features\n",
    "\n",
    "    else:\n",
    "        first_selection = list(df_train_scaled.drop(drop_vars, axis=1))\n",
    "\n",
    "    ##############################################################################################################\n",
    "    # MODEL ESTIMATION WITH FEATURES SELECTION:\n",
    "\n",
    "    # Creating K-folds CV object:\n",
    "    model = Kfolds_fit(task = 'regression', method = 'lasso', num_folds = 5, metric = 'r2',\n",
    "                       random_search = False,\n",
    "                       pre_selecting=selection_params[i][0], pre_selecting_params=selection_params[i][2],\n",
    "                       only_final_selection=selection_params[i][3],\n",
    "                       grid_param = grid_param, default_param = default_param, fixed_params=fixed_params)\n",
    "\n",
    "    # Running K-folds CV:\n",
    "    model.fit(train_inputs = df_train_scaled[first_selection],\n",
    "              train_output = df_train_scaled['ViolentCrimesPerPop'],\n",
    "              test_inputs = df_test_scaled[first_selection],\n",
    "              test_output = df_test_scaled['ViolentCrimesPerPop'],\n",
    "              print_outcomes=False, print_time=False)\n",
    "\n",
    "    ##############################################################################################################\n",
    "    # MODEL ASSESSMENT:\n",
    "\n",
    "    model_assess[estimation_id] = {\n",
    "        'estimation_id': estimation_id,\n",
    "        'n_obs_train': len(df_train_scaled),\n",
    "        'n_obs_test': len(df_test_scaled),\n",
    "        'n_cols': df_train_scaled.drop(drop_vars, axis=1).shape[1],\n",
    "        'avg_y_train': df_train['ViolentCrimesPerPop'].mean(),\n",
    "        'avg_y_test': df_test['ViolentCrimesPerPop'].mean(),\n",
    "        'method': 'lasso',\n",
    "        'features_selection': selection_params[i][4],\n",
    "        'num_selected_features': model.num_selected_features if hasattr(model,\n",
    "                                                                        'num_selected_features') else len(first_selection),\n",
    "        'performance_metrics': model.performance_metrics,\n",
    "        'running_time': model.running_time\n",
    "    }\n",
    "    \n",
    "    if export:\n",
    "        with open('../Datasets/model_assess.json', 'w') as json_file:\n",
    "            json.dump(model_assess, json_file, indent=2)\n",
    "        \n",
    "    print('\\n')"
   ]
  },
  {
   "cell_type": "markdown",
   "metadata": {},
   "source": [
    "<a id='xgboost'></a>"
   ]
  },
  {
   "cell_type": "markdown",
   "metadata": {},
   "source": [
    "### XGBoost"
   ]
  },
  {
   "cell_type": "code",
   "execution_count": 21,
   "metadata": {
    "scrolled": true
   },
   "outputs": [
    {
     "name": "stdout",
     "output_type": "stream",
     "text": [
      "\u001b[1mFeatures selection method: Correlation selection, then supervised selection (alpha=0.001).\u001b[0m\n",
      "\n",
      "\n"
     ]
    },
    {
     "name": "stderr",
     "output_type": "stream",
     "text": [
      "\u001b[1mGrid estimation progress:\u001b[0m [                                      ]   0%\r"
     ]
    },
    {
     "name": "stdout",
     "output_type": "stream",
     "text": [
      "From 124 features, 99 were selected!\n",
      "From 99 features, 27 were selected!\n",
      "From 99 features, 28 were selected!\n",
      "From 99 features, 28 were selected!\n",
      "From 99 features, 33 were selected!\n",
      "From 99 features, 34 were selected!\n"
     ]
    },
    {
     "name": "stderr",
     "output_type": "stream",
     "text": [
      "\u001b[1mGrid estimation progress:\u001b[0m [---                                   ]  10%\r"
     ]
    },
    {
     "name": "stdout",
     "output_type": "stream",
     "text": [
      "From 99 features, 27 were selected!\n",
      "From 99 features, 28 were selected!\n",
      "From 99 features, 28 were selected!\n",
      "From 99 features, 33 were selected!\n",
      "From 99 features, 34 were selected!\n"
     ]
    },
    {
     "name": "stderr",
     "output_type": "stream",
     "text": [
      "\u001b[1mGrid estimation progress:\u001b[0m [-------                               ]  20%\r"
     ]
    },
    {
     "name": "stdout",
     "output_type": "stream",
     "text": [
      "From 99 features, 27 were selected!\n",
      "From 99 features, 28 were selected!\n",
      "From 99 features, 28 were selected!\n",
      "From 99 features, 33 were selected!\n",
      "From 99 features, 34 were selected!\n"
     ]
    },
    {
     "name": "stderr",
     "output_type": "stream",
     "text": [
      "\u001b[1mGrid estimation progress:\u001b[0m [-----------                           ]  30%\r"
     ]
    },
    {
     "name": "stdout",
     "output_type": "stream",
     "text": [
      "From 99 features, 27 were selected!\n",
      "From 99 features, 28 were selected!\n",
      "From 99 features, 28 were selected!\n",
      "From 99 features, 33 were selected!\n",
      "From 99 features, 34 were selected!\n"
     ]
    },
    {
     "name": "stderr",
     "output_type": "stream",
     "text": [
      "\u001b[1mGrid estimation progress:\u001b[0m [---------------                       ]  40%\r"
     ]
    },
    {
     "name": "stdout",
     "output_type": "stream",
     "text": [
      "From 99 features, 27 were selected!\n",
      "From 99 features, 28 were selected!\n",
      "From 99 features, 28 were selected!\n",
      "From 99 features, 33 were selected!\n",
      "From 99 features, 34 were selected!\n"
     ]
    },
    {
     "name": "stderr",
     "output_type": "stream",
     "text": [
      "\u001b[1mGrid estimation progress:\u001b[0m [-------------------                   ]  50%\r"
     ]
    },
    {
     "name": "stdout",
     "output_type": "stream",
     "text": [
      "From 99 features, 27 were selected!\n",
      "From 99 features, 28 were selected!\n",
      "From 99 features, 28 were selected!\n",
      "From 99 features, 33 were selected!\n",
      "From 99 features, 34 were selected!\n"
     ]
    },
    {
     "name": "stderr",
     "output_type": "stream",
     "text": [
      "\u001b[1mGrid estimation progress:\u001b[0m [----------------------                ]  60%\r"
     ]
    },
    {
     "name": "stdout",
     "output_type": "stream",
     "text": [
      "From 99 features, 27 were selected!\n",
      "From 99 features, 28 were selected!\n",
      "From 99 features, 28 were selected!\n",
      "From 99 features, 33 were selected!\n",
      "From 99 features, 34 were selected!\n"
     ]
    },
    {
     "name": "stderr",
     "output_type": "stream",
     "text": [
      "\u001b[1mGrid estimation progress:\u001b[0m [--------------------------            ]  70%\r"
     ]
    },
    {
     "name": "stdout",
     "output_type": "stream",
     "text": [
      "From 99 features, 27 were selected!\n",
      "From 99 features, 28 were selected!\n",
      "From 99 features, 28 were selected!\n",
      "From 99 features, 33 were selected!\n",
      "From 99 features, 34 were selected!\n"
     ]
    },
    {
     "name": "stderr",
     "output_type": "stream",
     "text": [
      "\u001b[1mGrid estimation progress:\u001b[0m [------------------------------        ]  80%\r"
     ]
    },
    {
     "name": "stdout",
     "output_type": "stream",
     "text": [
      "From 99 features, 27 were selected!\n",
      "From 99 features, 28 were selected!\n",
      "From 99 features, 28 were selected!\n",
      "From 99 features, 33 were selected!\n",
      "From 99 features, 34 were selected!\n"
     ]
    },
    {
     "name": "stderr",
     "output_type": "stream",
     "text": [
      "\u001b[1mGrid estimation progress:\u001b[0m [----------------------------------    ]  90%\r"
     ]
    },
    {
     "name": "stdout",
     "output_type": "stream",
     "text": [
      "From 99 features, 27 were selected!\n",
      "From 99 features, 28 were selected!\n",
      "From 99 features, 28 were selected!\n",
      "From 99 features, 33 were selected!\n",
      "From 99 features, 34 were selected!\n"
     ]
    },
    {
     "name": "stderr",
     "output_type": "stream",
     "text": [
      "\u001b[1mGrid estimation progress:\u001b[0m [--------------------------------------] 100%\r"
     ]
    },
    {
     "name": "stdout",
     "output_type": "stream",
     "text": [
      "From 99 features, 31 were selected!\n"
     ]
    }
   ],
   "source": [
    "# Loop over alternatives for features selection:\n",
    "for i in range(len(selection_params)):\n",
    "    print(f'\\033[1mFeatures selection method: {selection_params[i][4]}.\\033[0m')\n",
    "    print('\\n')\n",
    "    \n",
    "    estimation_id = str(int(time()))\n",
    "\n",
    "    ##############################################################################################################\n",
    "    # FEATURES SELECTION BASED ON VARIANCE/CORRELATION:\n",
    "\n",
    "    if selection_params[i][1]['analytical'] is not None:\n",
    "        # Creating the object for features selection:\n",
    "        selection = FeaturesSelection(method=selection_params[i][1]['analytical']['method'],\n",
    "                                      threshold=selection_params[i][1]['analytical']['threshold'])\n",
    "\n",
    "        # Running the features selection:\n",
    "        selection.select_features(inputs=cont_df)\n",
    "\n",
    "        # List of selected features:\n",
    "        first_selection = selection.selected_features\n",
    "\n",
    "    else:\n",
    "        first_selection = list(df_train_scaled.drop(drop_vars, axis=1))\n",
    "\n",
    "    ##############################################################################################################\n",
    "    # MODEL ESTIMATION WITH FEATURES SELECTION:\n",
    "\n",
    "    # Grid of hyper-parameters:\n",
    "    grid_param = {'subsample': uniform(0.5, 0.5),\n",
    "                  'eta': uniform(0.0001, 0.1),\n",
    "                  'max_depth': randint(1, 10),\n",
    "                  'num_boost_round': [100, 250, 500]}\n",
    "    default_param = {'subsample': 0.75, 'eta': 0.01, 'max_depth': 10, 'num_boost_round': 100}\n",
    "\n",
    "    # Creating K-folds CV object:\n",
    "    model = Kfolds_fit(task = 'reg:squarederror', method = 'xgboost', num_folds = 5, metric = 'r2',\n",
    "                       random_search = True, n_samples=10,\n",
    "                       pre_selecting=selection_params[i][0], pre_selecting_params=selection_params[i][2],\n",
    "                       only_final_selection=selection_params[i][3],\n",
    "                       grid_param = grid_param,\n",
    "                       default_param = default_param)\n",
    "\n",
    "    # Running K-folds CV:\n",
    "    model.fit(train_inputs = df_train_scaled[first_selection],\n",
    "              train_output = df_train_scaled['ViolentCrimesPerPop'],\n",
    "              test_inputs = df_test_scaled[first_selection],\n",
    "              test_output = df_test_scaled['ViolentCrimesPerPop'],\n",
    "              print_outcomes=False, print_time=False)\n",
    "        \n",
    "    ##############################################################################################################\n",
    "    # MODEL ASSESSMENT:\n",
    "\n",
    "    model_assess[estimation_id] = {\n",
    "        'estimation_id': estimation_id,\n",
    "        'n_obs_train': len(df_train_scaled),\n",
    "        'n_obs_test': len(df_test_scaled),\n",
    "        'n_cols': df_train_scaled.drop(drop_vars, axis=1).shape[1],\n",
    "        'avg_y_train': df_train['ViolentCrimesPerPop'].mean(),\n",
    "        'avg_y_test': df_test['ViolentCrimesPerPop'].mean(),\n",
    "        'method': 'xgboost',\n",
    "        'features_selection': selection_params[i][4],\n",
    "        'num_selected_features': model.num_selected_features if hasattr(model,\n",
    "                                                                        'num_selected_features') else len(first_selection),\n",
    "        'performance_metrics': model.performance_metrics,\n",
    "        'running_time': model.running_time\n",
    "    }\n",
    "    \n",
    "    if export:\n",
    "        with open('../Datasets/model_assess.json', 'w') as json_file:\n",
    "            json.dump(model_assess, json_file, indent=2)"
   ]
  },
  {
   "cell_type": "markdown",
   "metadata": {},
   "source": [
    "<a id='analysis_results'></a>"
   ]
  },
  {
   "cell_type": "markdown",
   "metadata": {},
   "source": [
    "## Analysis of results"
   ]
  },
  {
   "cell_type": "markdown",
   "metadata": {},
   "source": [
    "<a id='processing_outcomes'></a>"
   ]
  },
  {
   "cell_type": "markdown",
   "metadata": {},
   "source": [
    "### Processing the outcomes"
   ]
  },
  {
   "cell_type": "markdown",
   "metadata": {},
   "source": [
    "#### Linear regression (Lasso)"
   ]
  },
  {
   "cell_type": "code",
   "execution_count": 14,
   "metadata": {
    "scrolled": true
   },
   "outputs": [
    {
     "data": {
      "text/html": [
       "<div>\n",
       "<style scoped>\n",
       "    .dataframe tbody tr th:only-of-type {\n",
       "        vertical-align: middle;\n",
       "    }\n",
       "\n",
       "    .dataframe tbody tr th {\n",
       "        vertical-align: top;\n",
       "    }\n",
       "\n",
       "    .dataframe thead th {\n",
       "        text-align: right;\n",
       "    }\n",
       "</style>\n",
       "<table border=\"1\" class=\"dataframe\">\n",
       "  <thead>\n",
       "    <tr style=\"text-align: right;\">\n",
       "      <th></th>\n",
       "      <th>estimation_id</th>\n",
       "      <th>method</th>\n",
       "      <th>features_selection</th>\n",
       "      <th>num_selected_features</th>\n",
       "      <th>test_rmse</th>\n",
       "      <th>test_r2</th>\n",
       "      <th>test_mae</th>\n",
       "      <th>test_msle</th>\n",
       "      <th>running_time</th>\n",
       "      <th>ratio_r2_time</th>\n",
       "    </tr>\n",
       "  </thead>\n",
       "  <tbody>\n",
       "    <tr>\n",
       "      <th>4</th>\n",
       "      <td>1626647396</td>\n",
       "      <td>lasso</td>\n",
       "      <td>Supervised selection (alpha=0.01)</td>\n",
       "      <td>147</td>\n",
       "      <td>350.396246</td>\n",
       "      <td>0.665550</td>\n",
       "      <td>223.313750</td>\n",
       "      <td>NaN</td>\n",
       "      <td>664.631431</td>\n",
       "      <td>0.001001</td>\n",
       "    </tr>\n",
       "    <tr>\n",
       "      <th>0</th>\n",
       "      <td>1626645231</td>\n",
       "      <td>lasso</td>\n",
       "      <td>No selection</td>\n",
       "      <td>175</td>\n",
       "      <td>350.411742</td>\n",
       "      <td>0.665521</td>\n",
       "      <td>223.314665</td>\n",
       "      <td>NaN</td>\n",
       "      <td>778.253433</td>\n",
       "      <td>0.000855</td>\n",
       "    </tr>\n",
       "    <tr>\n",
       "      <th>6</th>\n",
       "      <td>1626648627</td>\n",
       "      <td>lasso</td>\n",
       "      <td>Supervised selection (alpha=1)</td>\n",
       "      <td>94</td>\n",
       "      <td>350.412403</td>\n",
       "      <td>0.665520</td>\n",
       "      <td>223.316186</td>\n",
       "      <td>NaN</td>\n",
       "      <td>77.230659</td>\n",
       "      <td>0.008617</td>\n",
       "    </tr>\n",
       "    <tr>\n",
       "      <th>3</th>\n",
       "      <td>1626647002</td>\n",
       "      <td>lasso</td>\n",
       "      <td>Supervised selection (alpha=0.1)</td>\n",
       "      <td>135</td>\n",
       "      <td>350.429092</td>\n",
       "      <td>0.665488</td>\n",
       "      <td>223.374915</td>\n",
       "      <td>NaN</td>\n",
       "      <td>394.838262</td>\n",
       "      <td>0.001685</td>\n",
       "    </tr>\n",
       "    <tr>\n",
       "      <th>8</th>\n",
       "      <td>1626654837</td>\n",
       "      <td>lasso</td>\n",
       "      <td>RFECV</td>\n",
       "      <td>58</td>\n",
       "      <td>351.285848</td>\n",
       "      <td>0.663850</td>\n",
       "      <td>223.784411</td>\n",
       "      <td>NaN</td>\n",
       "      <td>762.531379</td>\n",
       "      <td>0.000871</td>\n",
       "    </tr>\n",
       "    <tr>\n",
       "      <th>9</th>\n",
       "      <td>1626815931</td>\n",
       "      <td>lasso</td>\n",
       "      <td>Sequential (forward)</td>\n",
       "      <td>51</td>\n",
       "      <td>353.546342</td>\n",
       "      <td>0.659510</td>\n",
       "      <td>224.311788</td>\n",
       "      <td>NaN</td>\n",
       "      <td>62643.367787</td>\n",
       "      <td>0.000011</td>\n",
       "    </tr>\n",
       "    <tr>\n",
       "      <th>7</th>\n",
       "      <td>1626653102</td>\n",
       "      <td>lasso</td>\n",
       "      <td>RFE</td>\n",
       "      <td>30</td>\n",
       "      <td>354.740129</td>\n",
       "      <td>0.657207</td>\n",
       "      <td>222.206558</td>\n",
       "      <td>NaN</td>\n",
       "      <td>1734.867349</td>\n",
       "      <td>0.000379</td>\n",
       "    </tr>\n",
       "    <tr>\n",
       "      <th>10</th>\n",
       "      <td>1626899471</td>\n",
       "      <td>lasso</td>\n",
       "      <td>Random selection</td>\n",
       "      <td>100</td>\n",
       "      <td>355.062550</td>\n",
       "      <td>0.656583</td>\n",
       "      <td>227.616740</td>\n",
       "      <td>NaN</td>\n",
       "      <td>867.693450</td>\n",
       "      <td>0.000757</td>\n",
       "    </tr>\n",
       "    <tr>\n",
       "      <th>5</th>\n",
       "      <td>1626648621</td>\n",
       "      <td>lasso</td>\n",
       "      <td>Supervised selection (alpha=10)</td>\n",
       "      <td>32</td>\n",
       "      <td>365.606385</td>\n",
       "      <td>0.635884</td>\n",
       "      <td>231.894448</td>\n",
       "      <td>NaN</td>\n",
       "      <td>5.293609</td>\n",
       "      <td>0.120123</td>\n",
       "    </tr>\n",
       "    <tr>\n",
       "      <th>13</th>\n",
       "      <td>1626966073</td>\n",
       "      <td>lasso</td>\n",
       "      <td>Correlation selection, then RFECV</td>\n",
       "      <td>63</td>\n",
       "      <td>365.727880</td>\n",
       "      <td>0.635642</td>\n",
       "      <td>233.458288</td>\n",
       "      <td>NaN</td>\n",
       "      <td>422.590100</td>\n",
       "      <td>0.001504</td>\n",
       "    </tr>\n",
       "    <tr>\n",
       "      <th>15</th>\n",
       "      <td>1627044109</td>\n",
       "      <td>lasso</td>\n",
       "      <td>Correlation selection, then sequential (forward)</td>\n",
       "      <td>49</td>\n",
       "      <td>366.285960</td>\n",
       "      <td>0.634529</td>\n",
       "      <td>232.975324</td>\n",
       "      <td>NaN</td>\n",
       "      <td>18436.402431</td>\n",
       "      <td>0.000034</td>\n",
       "    </tr>\n",
       "    <tr>\n",
       "      <th>12</th>\n",
       "      <td>1626965361</td>\n",
       "      <td>lasso</td>\n",
       "      <td>Correlation selection, then RFE</td>\n",
       "      <td>26</td>\n",
       "      <td>366.663781</td>\n",
       "      <td>0.633775</td>\n",
       "      <td>231.659748</td>\n",
       "      <td>NaN</td>\n",
       "      <td>710.067380</td>\n",
       "      <td>0.000893</td>\n",
       "    </tr>\n",
       "    <tr>\n",
       "      <th>2</th>\n",
       "      <td>1626646589</td>\n",
       "      <td>lasso</td>\n",
       "      <td>Correlation selection</td>\n",
       "      <td>99</td>\n",
       "      <td>366.998586</td>\n",
       "      <td>0.633106</td>\n",
       "      <td>234.424277</td>\n",
       "      <td>NaN</td>\n",
       "      <td>411.186833</td>\n",
       "      <td>0.001540</td>\n",
       "    </tr>\n",
       "    <tr>\n",
       "      <th>11</th>\n",
       "      <td>1626964800</td>\n",
       "      <td>lasso</td>\n",
       "      <td>Correlation selection, then supervised selecti...</td>\n",
       "      <td>99</td>\n",
       "      <td>366.998586</td>\n",
       "      <td>0.633106</td>\n",
       "      <td>234.424277</td>\n",
       "      <td>NaN</td>\n",
       "      <td>560.095439</td>\n",
       "      <td>0.001130</td>\n",
       "    </tr>\n",
       "    <tr>\n",
       "      <th>16</th>\n",
       "      <td>1627607036</td>\n",
       "      <td>lasso</td>\n",
       "      <td>Correlation selection, then supervised selecti...</td>\n",
       "      <td>31</td>\n",
       "      <td>368.759615</td>\n",
       "      <td>0.629577</td>\n",
       "      <td>236.362267</td>\n",
       "      <td>NaN</td>\n",
       "      <td>4.312686</td>\n",
       "      <td>0.145982</td>\n",
       "    </tr>\n",
       "    <tr>\n",
       "      <th>14</th>\n",
       "      <td>1626987341</td>\n",
       "      <td>lasso</td>\n",
       "      <td>Correlation selection, then random selection</td>\n",
       "      <td>50</td>\n",
       "      <td>369.138729</td>\n",
       "      <td>0.628814</td>\n",
       "      <td>236.312812</td>\n",
       "      <td>NaN</td>\n",
       "      <td>471.438342</td>\n",
       "      <td>0.001334</td>\n",
       "    </tr>\n",
       "    <tr>\n",
       "      <th>1</th>\n",
       "      <td>1626646009</td>\n",
       "      <td>lasso</td>\n",
       "      <td>Variance selection</td>\n",
       "      <td>99</td>\n",
       "      <td>385.522152</td>\n",
       "      <td>0.595135</td>\n",
       "      <td>249.372430</td>\n",
       "      <td>NaN</td>\n",
       "      <td>579.702696</td>\n",
       "      <td>0.001027</td>\n",
       "    </tr>\n",
       "  </tbody>\n",
       "</table>\n",
       "</div>"
      ],
      "text/plain": [
       "   estimation_id method                                 features_selection  \\\n",
       "4     1626647396  lasso                  Supervised selection (alpha=0.01)   \n",
       "0     1626645231  lasso                                       No selection   \n",
       "6     1626648627  lasso                     Supervised selection (alpha=1)   \n",
       "3     1626647002  lasso                   Supervised selection (alpha=0.1)   \n",
       "8     1626654837  lasso                                              RFECV   \n",
       "9     1626815931  lasso                               Sequential (forward)   \n",
       "7     1626653102  lasso                                                RFE   \n",
       "10    1626899471  lasso                                   Random selection   \n",
       "5     1626648621  lasso                    Supervised selection (alpha=10)   \n",
       "13    1626966073  lasso                  Correlation selection, then RFECV   \n",
       "15    1627044109  lasso   Correlation selection, then sequential (forward)   \n",
       "12    1626965361  lasso                    Correlation selection, then RFE   \n",
       "2     1626646589  lasso                              Correlation selection   \n",
       "11    1626964800  lasso  Correlation selection, then supervised selecti...   \n",
       "16    1627607036  lasso  Correlation selection, then supervised selecti...   \n",
       "14    1626987341  lasso       Correlation selection, then random selection   \n",
       "1     1626646009  lasso                                 Variance selection   \n",
       "\n",
       "    num_selected_features   test_rmse   test_r2    test_mae  test_msle  \\\n",
       "4                     147  350.396246  0.665550  223.313750        NaN   \n",
       "0                     175  350.411742  0.665521  223.314665        NaN   \n",
       "6                      94  350.412403  0.665520  223.316186        NaN   \n",
       "3                     135  350.429092  0.665488  223.374915        NaN   \n",
       "8                      58  351.285848  0.663850  223.784411        NaN   \n",
       "9                      51  353.546342  0.659510  224.311788        NaN   \n",
       "7                      30  354.740129  0.657207  222.206558        NaN   \n",
       "10                    100  355.062550  0.656583  227.616740        NaN   \n",
       "5                      32  365.606385  0.635884  231.894448        NaN   \n",
       "13                     63  365.727880  0.635642  233.458288        NaN   \n",
       "15                     49  366.285960  0.634529  232.975324        NaN   \n",
       "12                     26  366.663781  0.633775  231.659748        NaN   \n",
       "2                      99  366.998586  0.633106  234.424277        NaN   \n",
       "11                     99  366.998586  0.633106  234.424277        NaN   \n",
       "16                     31  368.759615  0.629577  236.362267        NaN   \n",
       "14                     50  369.138729  0.628814  236.312812        NaN   \n",
       "1                      99  385.522152  0.595135  249.372430        NaN   \n",
       "\n",
       "    running_time  ratio_r2_time  \n",
       "4     664.631431       0.001001  \n",
       "0     778.253433       0.000855  \n",
       "6      77.230659       0.008617  \n",
       "3     394.838262       0.001685  \n",
       "8     762.531379       0.000871  \n",
       "9   62643.367787       0.000011  \n",
       "7    1734.867349       0.000379  \n",
       "10    867.693450       0.000757  \n",
       "5       5.293609       0.120123  \n",
       "13    422.590100       0.001504  \n",
       "15  18436.402431       0.000034  \n",
       "12    710.067380       0.000893  \n",
       "2     411.186833       0.001540  \n",
       "11    560.095439       0.001130  \n",
       "16      4.312686       0.145982  \n",
       "14    471.438342       0.001334  \n",
       "1     579.702696       0.001027  "
      ]
     },
     "execution_count": 14,
     "metadata": {},
     "output_type": "execute_result"
    }
   ],
   "source": [
    "# Outcomes from lasso estimation:\n",
    "lasso_ids = [k for k in model_assess if model_assess[k]['method']=='lasso']\n",
    "\n",
    "outcomes_lasso = pd.DataFrame(data={\n",
    "    'estimation_id': lasso_ids, 'method': [model_assess[k]['method'] for k in lasso_ids],\n",
    "    'features_selection': [model_assess[k]['features_selection'] for k in lasso_ids],\n",
    "    'num_selected_features': [model_assess[k]['num_selected_features'] for k in lasso_ids],\n",
    "    'test_rmse': [model_assess[k]['performance_metrics']['test_rmse'] for k in lasso_ids],\n",
    "    'test_r2': [model_assess[k]['performance_metrics']['test_r2'] for k in lasso_ids],\n",
    "    'test_mae': [model_assess[k]['performance_metrics']['test_mae'] for k in lasso_ids],\n",
    "    'test_msle': [model_assess[k]['performance_metrics']['test_msle'] for k in lasso_ids],\n",
    "    'running_time': [model_assess[k]['running_time'] for k in lasso_ids],\n",
    "})\n",
    "outcomes_lasso.sort_values(['test_r2', 'running_time'], ascending=[False, True], inplace=True)\n",
    "\n",
    "# Ratio between performance metric and running time:\n",
    "outcomes_lasso['ratio_r2_time'] = [r/t for r, t in zip(outcomes_lasso['test_r2'], outcomes_lasso['running_time'])]\n",
    "\n",
    "outcomes_lasso"
   ]
  },
  {
   "cell_type": "markdown",
   "metadata": {},
   "source": [
    "#### XGBoost"
   ]
  },
  {
   "cell_type": "code",
   "execution_count": 15,
   "metadata": {
    "scrolled": true
   },
   "outputs": [
    {
     "data": {
      "text/html": [
       "<div>\n",
       "<style scoped>\n",
       "    .dataframe tbody tr th:only-of-type {\n",
       "        vertical-align: middle;\n",
       "    }\n",
       "\n",
       "    .dataframe tbody tr th {\n",
       "        vertical-align: top;\n",
       "    }\n",
       "\n",
       "    .dataframe thead th {\n",
       "        text-align: right;\n",
       "    }\n",
       "</style>\n",
       "<table border=\"1\" class=\"dataframe\">\n",
       "  <thead>\n",
       "    <tr style=\"text-align: right;\">\n",
       "      <th></th>\n",
       "      <th>estimation_id</th>\n",
       "      <th>method</th>\n",
       "      <th>features_selection</th>\n",
       "      <th>num_selected_features</th>\n",
       "      <th>test_rmse</th>\n",
       "      <th>test_r2</th>\n",
       "      <th>test_mae</th>\n",
       "      <th>test_msle</th>\n",
       "      <th>running_time</th>\n",
       "      <th>ratio_r2_time</th>\n",
       "    </tr>\n",
       "  </thead>\n",
       "  <tbody>\n",
       "    <tr>\n",
       "      <th>4</th>\n",
       "      <td>1626736268</td>\n",
       "      <td>xgboost</td>\n",
       "      <td>Supervised selection (alpha=1)</td>\n",
       "      <td>94</td>\n",
       "      <td>367.986383</td>\n",
       "      <td>0.631128</td>\n",
       "      <td>224.533492</td>\n",
       "      <td>0.458285</td>\n",
       "      <td>64.280560</td>\n",
       "      <td>0.009818</td>\n",
       "    </tr>\n",
       "    <tr>\n",
       "      <th>8</th>\n",
       "      <td>1626900543</td>\n",
       "      <td>xgboost</td>\n",
       "      <td>Sequential (forward)</td>\n",
       "      <td>51</td>\n",
       "      <td>368.043209</td>\n",
       "      <td>0.631014</td>\n",
       "      <td>218.529738</td>\n",
       "      <td>0.455324</td>\n",
       "      <td>62966.912289</td>\n",
       "      <td>0.000010</td>\n",
       "    </tr>\n",
       "    <tr>\n",
       "      <th>2</th>\n",
       "      <td>1626736175</td>\n",
       "      <td>xgboost</td>\n",
       "      <td>Correlation selection</td>\n",
       "      <td>99</td>\n",
       "      <td>368.800478</td>\n",
       "      <td>0.629494</td>\n",
       "      <td>224.283383</td>\n",
       "      <td>0.443836</td>\n",
       "      <td>60.241019</td>\n",
       "      <td>0.010450</td>\n",
       "    </tr>\n",
       "    <tr>\n",
       "      <th>7</th>\n",
       "      <td>1626737585</td>\n",
       "      <td>xgboost</td>\n",
       "      <td>RFECV</td>\n",
       "      <td>58</td>\n",
       "      <td>368.918686</td>\n",
       "      <td>0.629257</td>\n",
       "      <td>229.016597</td>\n",
       "      <td>NaN</td>\n",
       "      <td>169.667866</td>\n",
       "      <td>0.003709</td>\n",
       "    </tr>\n",
       "    <tr>\n",
       "      <th>5</th>\n",
       "      <td>1626736332</td>\n",
       "      <td>xgboost</td>\n",
       "      <td>Supervised selection (alpha=0.1)</td>\n",
       "      <td>135</td>\n",
       "      <td>371.344083</td>\n",
       "      <td>0.624366</td>\n",
       "      <td>229.713102</td>\n",
       "      <td>0.441940</td>\n",
       "      <td>105.497278</td>\n",
       "      <td>0.005918</td>\n",
       "    </tr>\n",
       "    <tr>\n",
       "      <th>3</th>\n",
       "      <td>1626736236</td>\n",
       "      <td>xgboost</td>\n",
       "      <td>Supervised selection (alpha=10)</td>\n",
       "      <td>32</td>\n",
       "      <td>374.232074</td>\n",
       "      <td>0.618501</td>\n",
       "      <td>218.862018</td>\n",
       "      <td>0.440858</td>\n",
       "      <td>31.639005</td>\n",
       "      <td>0.019549</td>\n",
       "    </tr>\n",
       "    <tr>\n",
       "      <th>13</th>\n",
       "      <td>1627006433</td>\n",
       "      <td>xgboost</td>\n",
       "      <td>Correlation selection, then random selection</td>\n",
       "      <td>70</td>\n",
       "      <td>374.233241</td>\n",
       "      <td>0.618498</td>\n",
       "      <td>230.555848</td>\n",
       "      <td>0.480494</td>\n",
       "      <td>64.433122</td>\n",
       "      <td>0.009599</td>\n",
       "    </tr>\n",
       "    <tr>\n",
       "      <th>12</th>\n",
       "      <td>1627006346</td>\n",
       "      <td>xgboost</td>\n",
       "      <td>Correlation selection, then RFECV</td>\n",
       "      <td>63</td>\n",
       "      <td>374.667635</td>\n",
       "      <td>0.617612</td>\n",
       "      <td>231.025188</td>\n",
       "      <td>0.472915</td>\n",
       "      <td>86.477326</td>\n",
       "      <td>0.007142</td>\n",
       "    </tr>\n",
       "    <tr>\n",
       "      <th>0</th>\n",
       "      <td>1626736004</td>\n",
       "      <td>xgboost</td>\n",
       "      <td>No selection</td>\n",
       "      <td>175</td>\n",
       "      <td>374.866911</td>\n",
       "      <td>0.617205</td>\n",
       "      <td>232.611129</td>\n",
       "      <td>NaN</td>\n",
       "      <td>92.568473</td>\n",
       "      <td>0.006668</td>\n",
       "    </tr>\n",
       "    <tr>\n",
       "      <th>11</th>\n",
       "      <td>1627006142</td>\n",
       "      <td>xgboost</td>\n",
       "      <td>Correlation selection, then RFE</td>\n",
       "      <td>26</td>\n",
       "      <td>376.437221</td>\n",
       "      <td>0.613991</td>\n",
       "      <td>235.504149</td>\n",
       "      <td>0.504576</td>\n",
       "      <td>202.641066</td>\n",
       "      <td>0.003030</td>\n",
       "    </tr>\n",
       "    <tr>\n",
       "      <th>10</th>\n",
       "      <td>1627006058</td>\n",
       "      <td>xgboost</td>\n",
       "      <td>Correlation selection, then supervised selecti...</td>\n",
       "      <td>99</td>\n",
       "      <td>377.208835</td>\n",
       "      <td>0.612407</td>\n",
       "      <td>230.225809</td>\n",
       "      <td>0.468291</td>\n",
       "      <td>82.548453</td>\n",
       "      <td>0.007419</td>\n",
       "    </tr>\n",
       "    <tr>\n",
       "      <th>15</th>\n",
       "      <td>1627607058</td>\n",
       "      <td>xgboost</td>\n",
       "      <td>Correlation selection, then supervised selecti...</td>\n",
       "      <td>31</td>\n",
       "      <td>377.319278</td>\n",
       "      <td>0.612180</td>\n",
       "      <td>230.823114</td>\n",
       "      <td>0.489391</td>\n",
       "      <td>36.977615</td>\n",
       "      <td>0.016555</td>\n",
       "    </tr>\n",
       "    <tr>\n",
       "      <th>9</th>\n",
       "      <td>1626963510</td>\n",
       "      <td>xgboost</td>\n",
       "      <td>Random selection</td>\n",
       "      <td>80</td>\n",
       "      <td>378.056819</td>\n",
       "      <td>0.610663</td>\n",
       "      <td>230.755054</td>\n",
       "      <td>NaN</td>\n",
       "      <td>86.428753</td>\n",
       "      <td>0.007066</td>\n",
       "    </tr>\n",
       "    <tr>\n",
       "      <th>6</th>\n",
       "      <td>1626736438</td>\n",
       "      <td>xgboost</td>\n",
       "      <td>RFE</td>\n",
       "      <td>30</td>\n",
       "      <td>385.253081</td>\n",
       "      <td>0.595700</td>\n",
       "      <td>232.555876</td>\n",
       "      <td>NaN</td>\n",
       "      <td>1146.764490</td>\n",
       "      <td>0.000519</td>\n",
       "    </tr>\n",
       "    <tr>\n",
       "      <th>1</th>\n",
       "      <td>1626736097</td>\n",
       "      <td>xgboost</td>\n",
       "      <td>Variance selection</td>\n",
       "      <td>99</td>\n",
       "      <td>391.580619</td>\n",
       "      <td>0.582310</td>\n",
       "      <td>247.039184</td>\n",
       "      <td>0.534821</td>\n",
       "      <td>78.065536</td>\n",
       "      <td>0.007459</td>\n",
       "    </tr>\n",
       "    <tr>\n",
       "      <th>14</th>\n",
       "      <td>1627062615</td>\n",
       "      <td>xgboost</td>\n",
       "      <td>Correlation selection, then sequential (forward)</td>\n",
       "      <td>49</td>\n",
       "      <td>393.153517</td>\n",
       "      <td>0.578948</td>\n",
       "      <td>247.901972</td>\n",
       "      <td>0.576734</td>\n",
       "      <td>16301.833360</td>\n",
       "      <td>0.000036</td>\n",
       "    </tr>\n",
       "  </tbody>\n",
       "</table>\n",
       "</div>"
      ],
      "text/plain": [
       "   estimation_id   method                                 features_selection  \\\n",
       "4     1626736268  xgboost                     Supervised selection (alpha=1)   \n",
       "8     1626900543  xgboost                               Sequential (forward)   \n",
       "2     1626736175  xgboost                              Correlation selection   \n",
       "7     1626737585  xgboost                                              RFECV   \n",
       "5     1626736332  xgboost                   Supervised selection (alpha=0.1)   \n",
       "3     1626736236  xgboost                    Supervised selection (alpha=10)   \n",
       "13    1627006433  xgboost       Correlation selection, then random selection   \n",
       "12    1627006346  xgboost                  Correlation selection, then RFECV   \n",
       "0     1626736004  xgboost                                       No selection   \n",
       "11    1627006142  xgboost                    Correlation selection, then RFE   \n",
       "10    1627006058  xgboost  Correlation selection, then supervised selecti...   \n",
       "15    1627607058  xgboost  Correlation selection, then supervised selecti...   \n",
       "9     1626963510  xgboost                                   Random selection   \n",
       "6     1626736438  xgboost                                                RFE   \n",
       "1     1626736097  xgboost                                 Variance selection   \n",
       "14    1627062615  xgboost   Correlation selection, then sequential (forward)   \n",
       "\n",
       "    num_selected_features   test_rmse   test_r2    test_mae  test_msle  \\\n",
       "4                      94  367.986383  0.631128  224.533492   0.458285   \n",
       "8                      51  368.043209  0.631014  218.529738   0.455324   \n",
       "2                      99  368.800478  0.629494  224.283383   0.443836   \n",
       "7                      58  368.918686  0.629257  229.016597        NaN   \n",
       "5                     135  371.344083  0.624366  229.713102   0.441940   \n",
       "3                      32  374.232074  0.618501  218.862018   0.440858   \n",
       "13                     70  374.233241  0.618498  230.555848   0.480494   \n",
       "12                     63  374.667635  0.617612  231.025188   0.472915   \n",
       "0                     175  374.866911  0.617205  232.611129        NaN   \n",
       "11                     26  376.437221  0.613991  235.504149   0.504576   \n",
       "10                     99  377.208835  0.612407  230.225809   0.468291   \n",
       "15                     31  377.319278  0.612180  230.823114   0.489391   \n",
       "9                      80  378.056819  0.610663  230.755054        NaN   \n",
       "6                      30  385.253081  0.595700  232.555876        NaN   \n",
       "1                      99  391.580619  0.582310  247.039184   0.534821   \n",
       "14                     49  393.153517  0.578948  247.901972   0.576734   \n",
       "\n",
       "    running_time  ratio_r2_time  \n",
       "4      64.280560       0.009818  \n",
       "8   62966.912289       0.000010  \n",
       "2      60.241019       0.010450  \n",
       "7     169.667866       0.003709  \n",
       "5     105.497278       0.005918  \n",
       "3      31.639005       0.019549  \n",
       "13     64.433122       0.009599  \n",
       "12     86.477326       0.007142  \n",
       "0      92.568473       0.006668  \n",
       "11    202.641066       0.003030  \n",
       "10     82.548453       0.007419  \n",
       "15     36.977615       0.016555  \n",
       "9      86.428753       0.007066  \n",
       "6    1146.764490       0.000519  \n",
       "1      78.065536       0.007459  \n",
       "14  16301.833360       0.000036  "
      ]
     },
     "execution_count": 15,
     "metadata": {},
     "output_type": "execute_result"
    }
   ],
   "source": [
    "# Outcomes from XGBoost estimation:\n",
    "xgboost_ids = [k for k in model_assess if model_assess[k]['method']=='xgboost']\n",
    "\n",
    "outcomes_xgboost = pd.DataFrame(data={\n",
    "    'estimation_id': xgboost_ids, 'method': [model_assess[k]['method'] for k in xgboost_ids],\n",
    "    'features_selection': [model_assess[k]['features_selection'] for k in xgboost_ids],\n",
    "    'num_selected_features': [model_assess[k]['num_selected_features'] for k in xgboost_ids],\n",
    "    'test_rmse': [model_assess[k]['performance_metrics']['test_rmse'] for k in xgboost_ids],\n",
    "    'test_r2': [model_assess[k]['performance_metrics']['test_r2'] for k in xgboost_ids],\n",
    "    'test_mae': [model_assess[k]['performance_metrics']['test_mae'] for k in xgboost_ids],\n",
    "    'test_msle': [model_assess[k]['performance_metrics']['test_msle'] for k in xgboost_ids],\n",
    "    'running_time': [model_assess[k]['running_time'] for k in xgboost_ids],\n",
    "})\n",
    "outcomes_xgboost.sort_values(['test_r2', 'running_time'], ascending=[False, True], inplace=True)\n",
    "\n",
    "# Ratio between performance metric and running time:\n",
    "outcomes_xgboost['ratio_r2_time'] = [r/t for r, t in zip(outcomes_xgboost['test_r2'],\n",
    "                                                         outcomes_xgboost['running_time'])]\n",
    "\n",
    "outcomes_xgboost"
   ]
  },
  {
   "cell_type": "markdown",
   "metadata": {},
   "source": [
    "<a id='data_vis'></a>"
   ]
  },
  {
   "cell_type": "markdown",
   "metadata": {},
   "source": [
    "### Visualizing the outcomes"
   ]
  },
  {
   "cell_type": "markdown",
   "metadata": {},
   "source": [
    "<a id='metric_by_approach'></a>"
   ]
  },
  {
   "cell_type": "markdown",
   "metadata": {},
   "source": [
    "#### Performance metric by features selection approach"
   ]
  },
  {
   "cell_type": "code",
   "execution_count": 16,
   "metadata": {},
   "outputs": [
    {
     "data": {
      "application/vnd.plotly.v1+json": {
       "config": {
        "plotlyServerURL": "https://plot.ly"
       },
       "data": [
        {
         "hovertemplate": "test_r2 = %{y:.4f}<br>features_selection = %{x}<br>%{text}<br>",
         "marker": {
          "color": "#c56d00"
         },
         "name": "lasso",
         "text": [
          "running_time = 664.63<br>num_selected_features = 147",
          "running_time = 778.25<br>num_selected_features = 175",
          "running_time = 77.23<br>num_selected_features = 94",
          "running_time = 394.84<br>num_selected_features = 135",
          "running_time = 762.53<br>num_selected_features = 58",
          "running_time = 62643.37<br>num_selected_features = 51",
          "running_time = 1734.87<br>num_selected_features = 30",
          "running_time = 867.69<br>num_selected_features = 100",
          "running_time = 5.29<br>num_selected_features = 32",
          "running_time = 422.59<br>num_selected_features = 63",
          "running_time = 18436.40<br>num_selected_features = 49",
          "running_time = 710.07<br>num_selected_features = 26",
          "running_time = 411.19<br>num_selected_features = 99",
          "running_time = 560.10<br>num_selected_features = 99",
          "running_time = 4.31<br>num_selected_features = 31",
          "running_time = 471.44<br>num_selected_features = 50",
          "running_time = 579.70<br>num_selected_features = 99"
         ],
         "type": "bar",
         "x": [
          "Supervised selection (alpha=0.01)",
          "No selection",
          "Supervised selection (alpha=1)",
          "Supervised selection (alpha=0.1)",
          "RFECV",
          "Sequential (forward)",
          "RFE",
          "Random selection",
          "Supervised selection (alpha=10)",
          "Correlation selection, then RFECV",
          "Correlation selection, then sequential (forward)",
          "Correlation selection, then RFE",
          "Correlation selection",
          "Correlation selection, then supervised selection (alpha=0.001)",
          "Correlation selection, then supervised selection (alpha=10)",
          "Correlation selection, then random selection",
          "Variance selection"
         ],
         "xaxis": "x",
         "y": [
          0.665550378803891,
          0.6655207962639866,
          0.6655195346215357,
          0.6654876736364085,
          0.663849991077806,
          0.6595098796986854,
          0.6572065937422106,
          0.656583184966633,
          0.6358843348510721,
          0.6356422955161671,
          0.6345294691161829,
          0.633775121531431,
          0.6331060064866496,
          0.6331060064866496,
          0.6295765044235639,
          0.6288144630749132,
          0.595134757802362
         ],
         "yaxis": "y"
        },
        {
         "hovertemplate": "test_r2 = %{y:.4f}<br>features_selection = %{x}<br>%{text}<br>",
         "marker": {
          "color": "#01988d"
         },
         "name": "xgboost",
         "text": [
          "running_time = 64.28<br>num_selected_features = 94",
          "running_time = 62966.91<br>num_selected_features = 51",
          "running_time = 60.24<br>num_selected_features = 99",
          "running_time = 169.67<br>num_selected_features = 58",
          "running_time = 105.50<br>num_selected_features = 135",
          "running_time = 31.64<br>num_selected_features = 32",
          "running_time = 64.43<br>num_selected_features = 70",
          "running_time = 86.48<br>num_selected_features = 63",
          "running_time = 92.57<br>num_selected_features = 175",
          "running_time = 202.64<br>num_selected_features = 26",
          "running_time = 82.55<br>num_selected_features = 99",
          "running_time = 36.98<br>num_selected_features = 31",
          "running_time = 86.43<br>num_selected_features = 80",
          "running_time = 1146.76<br>num_selected_features = 30",
          "running_time = 78.07<br>num_selected_features = 99",
          "running_time = 16301.83<br>num_selected_features = 49"
         ],
         "type": "bar",
         "x": [
          "Supervised selection (alpha=1)",
          "Sequential (forward)",
          "Correlation selection",
          "RFECV",
          "Supervised selection (alpha=0.1)",
          "Supervised selection (alpha=10)",
          "Correlation selection, then random selection",
          "Correlation selection, then RFECV",
          "No selection",
          "Correlation selection, then RFE",
          "Correlation selection, then supervised selection (alpha=0.001)",
          "Correlation selection, then supervised selection (alpha=10)",
          "Random selection",
          "RFE",
          "Variance selection",
          "Correlation selection, then sequential (forward)"
         ],
         "xaxis": "x2",
         "y": [
          0.631128317006084,
          0.6310143843958853,
          0.6294944055720316,
          0.6292568578941553,
          0.6243660504777058,
          0.6185006230350018,
          0.6184982438699153,
          0.6176120673406607,
          0.6172051953426151,
          0.6139914382575463,
          0.6124073501819777,
          0.6121803513311521,
          0.6106627369078276,
          0.5956997021313744,
          0.5823098854397666,
          0.5789475982923175
         ],
         "yaxis": "y2"
        }
       ],
       "layout": {
        "barmode": "group",
        "height": 500,
        "template": {
         "data": {
          "bar": [
           {
            "error_x": {
             "color": "#2a3f5f"
            },
            "error_y": {
             "color": "#2a3f5f"
            },
            "marker": {
             "line": {
              "color": "#E5ECF6",
              "width": 0.5
             }
            },
            "type": "bar"
           }
          ],
          "barpolar": [
           {
            "marker": {
             "line": {
              "color": "#E5ECF6",
              "width": 0.5
             }
            },
            "type": "barpolar"
           }
          ],
          "carpet": [
           {
            "aaxis": {
             "endlinecolor": "#2a3f5f",
             "gridcolor": "white",
             "linecolor": "white",
             "minorgridcolor": "white",
             "startlinecolor": "#2a3f5f"
            },
            "baxis": {
             "endlinecolor": "#2a3f5f",
             "gridcolor": "white",
             "linecolor": "white",
             "minorgridcolor": "white",
             "startlinecolor": "#2a3f5f"
            },
            "type": "carpet"
           }
          ],
          "choropleth": [
           {
            "colorbar": {
             "outlinewidth": 0,
             "ticks": ""
            },
            "type": "choropleth"
           }
          ],
          "contour": [
           {
            "colorbar": {
             "outlinewidth": 0,
             "ticks": ""
            },
            "colorscale": [
             [
              0,
              "#0d0887"
             ],
             [
              0.1111111111111111,
              "#46039f"
             ],
             [
              0.2222222222222222,
              "#7201a8"
             ],
             [
              0.3333333333333333,
              "#9c179e"
             ],
             [
              0.4444444444444444,
              "#bd3786"
             ],
             [
              0.5555555555555556,
              "#d8576b"
             ],
             [
              0.6666666666666666,
              "#ed7953"
             ],
             [
              0.7777777777777778,
              "#fb9f3a"
             ],
             [
              0.8888888888888888,
              "#fdca26"
             ],
             [
              1,
              "#f0f921"
             ]
            ],
            "type": "contour"
           }
          ],
          "contourcarpet": [
           {
            "colorbar": {
             "outlinewidth": 0,
             "ticks": ""
            },
            "type": "contourcarpet"
           }
          ],
          "heatmap": [
           {
            "colorbar": {
             "outlinewidth": 0,
             "ticks": ""
            },
            "colorscale": [
             [
              0,
              "#0d0887"
             ],
             [
              0.1111111111111111,
              "#46039f"
             ],
             [
              0.2222222222222222,
              "#7201a8"
             ],
             [
              0.3333333333333333,
              "#9c179e"
             ],
             [
              0.4444444444444444,
              "#bd3786"
             ],
             [
              0.5555555555555556,
              "#d8576b"
             ],
             [
              0.6666666666666666,
              "#ed7953"
             ],
             [
              0.7777777777777778,
              "#fb9f3a"
             ],
             [
              0.8888888888888888,
              "#fdca26"
             ],
             [
              1,
              "#f0f921"
             ]
            ],
            "type": "heatmap"
           }
          ],
          "heatmapgl": [
           {
            "colorbar": {
             "outlinewidth": 0,
             "ticks": ""
            },
            "colorscale": [
             [
              0,
              "#0d0887"
             ],
             [
              0.1111111111111111,
              "#46039f"
             ],
             [
              0.2222222222222222,
              "#7201a8"
             ],
             [
              0.3333333333333333,
              "#9c179e"
             ],
             [
              0.4444444444444444,
              "#bd3786"
             ],
             [
              0.5555555555555556,
              "#d8576b"
             ],
             [
              0.6666666666666666,
              "#ed7953"
             ],
             [
              0.7777777777777778,
              "#fb9f3a"
             ],
             [
              0.8888888888888888,
              "#fdca26"
             ],
             [
              1,
              "#f0f921"
             ]
            ],
            "type": "heatmapgl"
           }
          ],
          "histogram": [
           {
            "marker": {
             "colorbar": {
              "outlinewidth": 0,
              "ticks": ""
             }
            },
            "type": "histogram"
           }
          ],
          "histogram2d": [
           {
            "colorbar": {
             "outlinewidth": 0,
             "ticks": ""
            },
            "colorscale": [
             [
              0,
              "#0d0887"
             ],
             [
              0.1111111111111111,
              "#46039f"
             ],
             [
              0.2222222222222222,
              "#7201a8"
             ],
             [
              0.3333333333333333,
              "#9c179e"
             ],
             [
              0.4444444444444444,
              "#bd3786"
             ],
             [
              0.5555555555555556,
              "#d8576b"
             ],
             [
              0.6666666666666666,
              "#ed7953"
             ],
             [
              0.7777777777777778,
              "#fb9f3a"
             ],
             [
              0.8888888888888888,
              "#fdca26"
             ],
             [
              1,
              "#f0f921"
             ]
            ],
            "type": "histogram2d"
           }
          ],
          "histogram2dcontour": [
           {
            "colorbar": {
             "outlinewidth": 0,
             "ticks": ""
            },
            "colorscale": [
             [
              0,
              "#0d0887"
             ],
             [
              0.1111111111111111,
              "#46039f"
             ],
             [
              0.2222222222222222,
              "#7201a8"
             ],
             [
              0.3333333333333333,
              "#9c179e"
             ],
             [
              0.4444444444444444,
              "#bd3786"
             ],
             [
              0.5555555555555556,
              "#d8576b"
             ],
             [
              0.6666666666666666,
              "#ed7953"
             ],
             [
              0.7777777777777778,
              "#fb9f3a"
             ],
             [
              0.8888888888888888,
              "#fdca26"
             ],
             [
              1,
              "#f0f921"
             ]
            ],
            "type": "histogram2dcontour"
           }
          ],
          "mesh3d": [
           {
            "colorbar": {
             "outlinewidth": 0,
             "ticks": ""
            },
            "type": "mesh3d"
           }
          ],
          "parcoords": [
           {
            "line": {
             "colorbar": {
              "outlinewidth": 0,
              "ticks": ""
             }
            },
            "type": "parcoords"
           }
          ],
          "pie": [
           {
            "automargin": true,
            "type": "pie"
           }
          ],
          "scatter": [
           {
            "marker": {
             "colorbar": {
              "outlinewidth": 0,
              "ticks": ""
             }
            },
            "type": "scatter"
           }
          ],
          "scatter3d": [
           {
            "line": {
             "colorbar": {
              "outlinewidth": 0,
              "ticks": ""
             }
            },
            "marker": {
             "colorbar": {
              "outlinewidth": 0,
              "ticks": ""
             }
            },
            "type": "scatter3d"
           }
          ],
          "scattercarpet": [
           {
            "marker": {
             "colorbar": {
              "outlinewidth": 0,
              "ticks": ""
             }
            },
            "type": "scattercarpet"
           }
          ],
          "scattergeo": [
           {
            "marker": {
             "colorbar": {
              "outlinewidth": 0,
              "ticks": ""
             }
            },
            "type": "scattergeo"
           }
          ],
          "scattergl": [
           {
            "marker": {
             "colorbar": {
              "outlinewidth": 0,
              "ticks": ""
             }
            },
            "type": "scattergl"
           }
          ],
          "scattermapbox": [
           {
            "marker": {
             "colorbar": {
              "outlinewidth": 0,
              "ticks": ""
             }
            },
            "type": "scattermapbox"
           }
          ],
          "scatterpolar": [
           {
            "marker": {
             "colorbar": {
              "outlinewidth": 0,
              "ticks": ""
             }
            },
            "type": "scatterpolar"
           }
          ],
          "scatterpolargl": [
           {
            "marker": {
             "colorbar": {
              "outlinewidth": 0,
              "ticks": ""
             }
            },
            "type": "scatterpolargl"
           }
          ],
          "scatterternary": [
           {
            "marker": {
             "colorbar": {
              "outlinewidth": 0,
              "ticks": ""
             }
            },
            "type": "scatterternary"
           }
          ],
          "surface": [
           {
            "colorbar": {
             "outlinewidth": 0,
             "ticks": ""
            },
            "colorscale": [
             [
              0,
              "#0d0887"
             ],
             [
              0.1111111111111111,
              "#46039f"
             ],
             [
              0.2222222222222222,
              "#7201a8"
             ],
             [
              0.3333333333333333,
              "#9c179e"
             ],
             [
              0.4444444444444444,
              "#bd3786"
             ],
             [
              0.5555555555555556,
              "#d8576b"
             ],
             [
              0.6666666666666666,
              "#ed7953"
             ],
             [
              0.7777777777777778,
              "#fb9f3a"
             ],
             [
              0.8888888888888888,
              "#fdca26"
             ],
             [
              1,
              "#f0f921"
             ]
            ],
            "type": "surface"
           }
          ],
          "table": [
           {
            "cells": {
             "fill": {
              "color": "#EBF0F8"
             },
             "line": {
              "color": "white"
             }
            },
            "header": {
             "fill": {
              "color": "#C8D4E3"
             },
             "line": {
              "color": "white"
             }
            },
            "type": "table"
           }
          ]
         },
         "layout": {
          "annotationdefaults": {
           "arrowcolor": "#2a3f5f",
           "arrowhead": 0,
           "arrowwidth": 1
          },
          "coloraxis": {
           "colorbar": {
            "outlinewidth": 0,
            "ticks": ""
           }
          },
          "colorscale": {
           "diverging": [
            [
             0,
             "#8e0152"
            ],
            [
             0.1,
             "#c51b7d"
            ],
            [
             0.2,
             "#de77ae"
            ],
            [
             0.3,
             "#f1b6da"
            ],
            [
             0.4,
             "#fde0ef"
            ],
            [
             0.5,
             "#f7f7f7"
            ],
            [
             0.6,
             "#e6f5d0"
            ],
            [
             0.7,
             "#b8e186"
            ],
            [
             0.8,
             "#7fbc41"
            ],
            [
             0.9,
             "#4d9221"
            ],
            [
             1,
             "#276419"
            ]
           ],
           "sequential": [
            [
             0,
             "#0d0887"
            ],
            [
             0.1111111111111111,
             "#46039f"
            ],
            [
             0.2222222222222222,
             "#7201a8"
            ],
            [
             0.3333333333333333,
             "#9c179e"
            ],
            [
             0.4444444444444444,
             "#bd3786"
            ],
            [
             0.5555555555555556,
             "#d8576b"
            ],
            [
             0.6666666666666666,
             "#ed7953"
            ],
            [
             0.7777777777777778,
             "#fb9f3a"
            ],
            [
             0.8888888888888888,
             "#fdca26"
            ],
            [
             1,
             "#f0f921"
            ]
           ],
           "sequentialminus": [
            [
             0,
             "#0d0887"
            ],
            [
             0.1111111111111111,
             "#46039f"
            ],
            [
             0.2222222222222222,
             "#7201a8"
            ],
            [
             0.3333333333333333,
             "#9c179e"
            ],
            [
             0.4444444444444444,
             "#bd3786"
            ],
            [
             0.5555555555555556,
             "#d8576b"
            ],
            [
             0.6666666666666666,
             "#ed7953"
            ],
            [
             0.7777777777777778,
             "#fb9f3a"
            ],
            [
             0.8888888888888888,
             "#fdca26"
            ],
            [
             1,
             "#f0f921"
            ]
           ]
          },
          "colorway": [
           "#636efa",
           "#EF553B",
           "#00cc96",
           "#ab63fa",
           "#FFA15A",
           "#19d3f3",
           "#FF6692",
           "#B6E880",
           "#FF97FF",
           "#FECB52"
          ],
          "font": {
           "color": "#2a3f5f"
          },
          "geo": {
           "bgcolor": "white",
           "lakecolor": "white",
           "landcolor": "#E5ECF6",
           "showlakes": true,
           "showland": true,
           "subunitcolor": "white"
          },
          "hoverlabel": {
           "align": "left"
          },
          "hovermode": "closest",
          "mapbox": {
           "style": "light"
          },
          "paper_bgcolor": "white",
          "plot_bgcolor": "#E5ECF6",
          "polar": {
           "angularaxis": {
            "gridcolor": "white",
            "linecolor": "white",
            "ticks": ""
           },
           "bgcolor": "#E5ECF6",
           "radialaxis": {
            "gridcolor": "white",
            "linecolor": "white",
            "ticks": ""
           }
          },
          "scene": {
           "xaxis": {
            "backgroundcolor": "#E5ECF6",
            "gridcolor": "white",
            "gridwidth": 2,
            "linecolor": "white",
            "showbackground": true,
            "ticks": "",
            "zerolinecolor": "white"
           },
           "yaxis": {
            "backgroundcolor": "#E5ECF6",
            "gridcolor": "white",
            "gridwidth": 2,
            "linecolor": "white",
            "showbackground": true,
            "ticks": "",
            "zerolinecolor": "white"
           },
           "zaxis": {
            "backgroundcolor": "#E5ECF6",
            "gridcolor": "white",
            "gridwidth": 2,
            "linecolor": "white",
            "showbackground": true,
            "ticks": "",
            "zerolinecolor": "white"
           }
          },
          "shapedefaults": {
           "line": {
            "color": "#2a3f5f"
           }
          },
          "ternary": {
           "aaxis": {
            "gridcolor": "white",
            "linecolor": "white",
            "ticks": ""
           },
           "baxis": {
            "gridcolor": "white",
            "linecolor": "white",
            "ticks": ""
           },
           "bgcolor": "#E5ECF6",
           "caxis": {
            "gridcolor": "white",
            "linecolor": "white",
            "ticks": ""
           }
          },
          "title": {
           "x": 0.05
          },
          "xaxis": {
           "automargin": true,
           "gridcolor": "white",
           "linecolor": "white",
           "ticks": "",
           "title": {
            "standoff": 15
           },
           "zerolinecolor": "white",
           "zerolinewidth": 2
          },
          "yaxis": {
           "automargin": true,
           "gridcolor": "white",
           "linecolor": "white",
           "ticks": "",
           "title": {
            "standoff": 15
           },
           "zerolinecolor": "white",
           "zerolinewidth": 2
          }
         }
        },
        "title": {
         "text": "Performance metric by features selection approach"
        },
        "width": 900,
        "xaxis": {
         "anchor": "y",
         "domain": [
          0,
          0.45
         ],
         "showticklabels": false,
         "title": {
          "text": "Features selection"
         }
        },
        "xaxis2": {
         "anchor": "y2",
         "domain": [
          0.55,
          1
         ],
         "showticklabels": false,
         "title": {
          "text": "Features selection"
         }
        },
        "yaxis": {
         "anchor": "x",
         "domain": [
          0,
          1
         ],
         "title": {
          "text": "Test R2"
         }
        },
        "yaxis2": {
         "anchor": "x2",
         "domain": [
          0,
          1
         ],
         "title": {
          "text": ""
         }
        }
       }
      },
      "text/html": [
       "<div>\n",
       "        \n",
       "        \n",
       "            <div id=\"c307d228-cdef-40cd-a319-d1b4a2a8287d\" class=\"plotly-graph-div\" style=\"height:500px; width:900px;\"></div>\n",
       "            <script type=\"text/javascript\">\n",
       "                require([\"plotly\"], function(Plotly) {\n",
       "                    window.PLOTLYENV=window.PLOTLYENV || {};\n",
       "                    \n",
       "                if (document.getElementById(\"c307d228-cdef-40cd-a319-d1b4a2a8287d\")) {\n",
       "                    Plotly.newPlot(\n",
       "                        'c307d228-cdef-40cd-a319-d1b4a2a8287d',\n",
       "                        [{\"hovertemplate\": \"test_r2 = %{y:.4f}<br>features_selection = %{x}<br>%{text}<br>\", \"marker\": {\"color\": \"#c56d00\"}, \"name\": \"lasso\", \"text\": [\"running_time = 664.63<br>num_selected_features = 147\", \"running_time = 778.25<br>num_selected_features = 175\", \"running_time = 77.23<br>num_selected_features = 94\", \"running_time = 394.84<br>num_selected_features = 135\", \"running_time = 762.53<br>num_selected_features = 58\", \"running_time = 62643.37<br>num_selected_features = 51\", \"running_time = 1734.87<br>num_selected_features = 30\", \"running_time = 867.69<br>num_selected_features = 100\", \"running_time = 5.29<br>num_selected_features = 32\", \"running_time = 422.59<br>num_selected_features = 63\", \"running_time = 18436.40<br>num_selected_features = 49\", \"running_time = 710.07<br>num_selected_features = 26\", \"running_time = 411.19<br>num_selected_features = 99\", \"running_time = 560.10<br>num_selected_features = 99\", \"running_time = 4.31<br>num_selected_features = 31\", \"running_time = 471.44<br>num_selected_features = 50\", \"running_time = 579.70<br>num_selected_features = 99\"], \"type\": \"bar\", \"x\": [\"Supervised selection (alpha=0.01)\", \"No selection\", \"Supervised selection (alpha=1)\", \"Supervised selection (alpha=0.1)\", \"RFECV\", \"Sequential (forward)\", \"RFE\", \"Random selection\", \"Supervised selection (alpha=10)\", \"Correlation selection, then RFECV\", \"Correlation selection, then sequential (forward)\", \"Correlation selection, then RFE\", \"Correlation selection\", \"Correlation selection, then supervised selection (alpha=0.001)\", \"Correlation selection, then supervised selection (alpha=10)\", \"Correlation selection, then random selection\", \"Variance selection\"], \"xaxis\": \"x\", \"y\": [0.665550378803891, 0.6655207962639866, 0.6655195346215357, 0.6654876736364085, 0.663849991077806, 0.6595098796986854, 0.6572065937422106, 0.656583184966633, 0.6358843348510721, 0.6356422955161671, 0.6345294691161829, 0.633775121531431, 0.6331060064866496, 0.6331060064866496, 0.6295765044235639, 0.6288144630749132, 0.595134757802362], \"yaxis\": \"y\"}, {\"hovertemplate\": \"test_r2 = %{y:.4f}<br>features_selection = %{x}<br>%{text}<br>\", \"marker\": {\"color\": \"#01988d\"}, \"name\": \"xgboost\", \"text\": [\"running_time = 64.28<br>num_selected_features = 94\", \"running_time = 62966.91<br>num_selected_features = 51\", \"running_time = 60.24<br>num_selected_features = 99\", \"running_time = 169.67<br>num_selected_features = 58\", \"running_time = 105.50<br>num_selected_features = 135\", \"running_time = 31.64<br>num_selected_features = 32\", \"running_time = 64.43<br>num_selected_features = 70\", \"running_time = 86.48<br>num_selected_features = 63\", \"running_time = 92.57<br>num_selected_features = 175\", \"running_time = 202.64<br>num_selected_features = 26\", \"running_time = 82.55<br>num_selected_features = 99\", \"running_time = 36.98<br>num_selected_features = 31\", \"running_time = 86.43<br>num_selected_features = 80\", \"running_time = 1146.76<br>num_selected_features = 30\", \"running_time = 78.07<br>num_selected_features = 99\", \"running_time = 16301.83<br>num_selected_features = 49\"], \"type\": \"bar\", \"x\": [\"Supervised selection (alpha=1)\", \"Sequential (forward)\", \"Correlation selection\", \"RFECV\", \"Supervised selection (alpha=0.1)\", \"Supervised selection (alpha=10)\", \"Correlation selection, then random selection\", \"Correlation selection, then RFECV\", \"No selection\", \"Correlation selection, then RFE\", \"Correlation selection, then supervised selection (alpha=0.001)\", \"Correlation selection, then supervised selection (alpha=10)\", \"Random selection\", \"RFE\", \"Variance selection\", \"Correlation selection, then sequential (forward)\"], \"xaxis\": \"x2\", \"y\": [0.631128317006084, 0.6310143843958853, 0.6294944055720316, 0.6292568578941553, 0.6243660504777058, 0.6185006230350018, 0.6184982438699153, 0.6176120673406607, 0.6172051953426151, 0.6139914382575463, 0.6124073501819777, 0.6121803513311521, 0.6106627369078276, 0.5956997021313744, 0.5823098854397666, 0.5789475982923175], \"yaxis\": \"y2\"}],\n",
       "                        {\"barmode\": \"group\", \"height\": 500, \"template\": {\"data\": {\"bar\": [{\"error_x\": {\"color\": \"#2a3f5f\"}, \"error_y\": {\"color\": \"#2a3f5f\"}, \"marker\": {\"line\": {\"color\": \"#E5ECF6\", \"width\": 0.5}}, \"type\": \"bar\"}], \"barpolar\": [{\"marker\": {\"line\": {\"color\": \"#E5ECF6\", \"width\": 0.5}}, \"type\": \"barpolar\"}], \"carpet\": [{\"aaxis\": {\"endlinecolor\": \"#2a3f5f\", \"gridcolor\": \"white\", \"linecolor\": \"white\", \"minorgridcolor\": \"white\", \"startlinecolor\": \"#2a3f5f\"}, \"baxis\": {\"endlinecolor\": \"#2a3f5f\", \"gridcolor\": \"white\", \"linecolor\": \"white\", \"minorgridcolor\": \"white\", \"startlinecolor\": \"#2a3f5f\"}, \"type\": \"carpet\"}], \"choropleth\": [{\"colorbar\": {\"outlinewidth\": 0, \"ticks\": \"\"}, \"type\": \"choropleth\"}], \"contour\": [{\"colorbar\": {\"outlinewidth\": 0, \"ticks\": \"\"}, \"colorscale\": [[0.0, \"#0d0887\"], [0.1111111111111111, \"#46039f\"], [0.2222222222222222, \"#7201a8\"], [0.3333333333333333, \"#9c179e\"], [0.4444444444444444, \"#bd3786\"], [0.5555555555555556, \"#d8576b\"], [0.6666666666666666, \"#ed7953\"], [0.7777777777777778, \"#fb9f3a\"], [0.8888888888888888, \"#fdca26\"], [1.0, \"#f0f921\"]], \"type\": \"contour\"}], \"contourcarpet\": [{\"colorbar\": {\"outlinewidth\": 0, \"ticks\": \"\"}, \"type\": \"contourcarpet\"}], \"heatmap\": [{\"colorbar\": {\"outlinewidth\": 0, \"ticks\": \"\"}, \"colorscale\": [[0.0, \"#0d0887\"], [0.1111111111111111, \"#46039f\"], [0.2222222222222222, \"#7201a8\"], [0.3333333333333333, \"#9c179e\"], [0.4444444444444444, \"#bd3786\"], [0.5555555555555556, \"#d8576b\"], [0.6666666666666666, \"#ed7953\"], [0.7777777777777778, \"#fb9f3a\"], [0.8888888888888888, \"#fdca26\"], [1.0, \"#f0f921\"]], \"type\": \"heatmap\"}], \"heatmapgl\": [{\"colorbar\": {\"outlinewidth\": 0, \"ticks\": \"\"}, \"colorscale\": [[0.0, \"#0d0887\"], [0.1111111111111111, \"#46039f\"], [0.2222222222222222, \"#7201a8\"], [0.3333333333333333, \"#9c179e\"], [0.4444444444444444, \"#bd3786\"], [0.5555555555555556, \"#d8576b\"], [0.6666666666666666, \"#ed7953\"], [0.7777777777777778, \"#fb9f3a\"], [0.8888888888888888, \"#fdca26\"], [1.0, \"#f0f921\"]], \"type\": \"heatmapgl\"}], \"histogram\": [{\"marker\": {\"colorbar\": {\"outlinewidth\": 0, \"ticks\": \"\"}}, \"type\": \"histogram\"}], \"histogram2d\": [{\"colorbar\": {\"outlinewidth\": 0, \"ticks\": \"\"}, \"colorscale\": [[0.0, \"#0d0887\"], [0.1111111111111111, \"#46039f\"], [0.2222222222222222, \"#7201a8\"], [0.3333333333333333, \"#9c179e\"], [0.4444444444444444, \"#bd3786\"], [0.5555555555555556, \"#d8576b\"], [0.6666666666666666, \"#ed7953\"], [0.7777777777777778, \"#fb9f3a\"], [0.8888888888888888, \"#fdca26\"], [1.0, \"#f0f921\"]], \"type\": \"histogram2d\"}], \"histogram2dcontour\": [{\"colorbar\": {\"outlinewidth\": 0, \"ticks\": \"\"}, \"colorscale\": [[0.0, \"#0d0887\"], [0.1111111111111111, \"#46039f\"], [0.2222222222222222, \"#7201a8\"], [0.3333333333333333, \"#9c179e\"], [0.4444444444444444, \"#bd3786\"], [0.5555555555555556, \"#d8576b\"], [0.6666666666666666, \"#ed7953\"], [0.7777777777777778, \"#fb9f3a\"], [0.8888888888888888, \"#fdca26\"], [1.0, \"#f0f921\"]], \"type\": \"histogram2dcontour\"}], \"mesh3d\": [{\"colorbar\": {\"outlinewidth\": 0, \"ticks\": \"\"}, \"type\": \"mesh3d\"}], \"parcoords\": [{\"line\": {\"colorbar\": {\"outlinewidth\": 0, \"ticks\": \"\"}}, \"type\": \"parcoords\"}], \"pie\": [{\"automargin\": true, \"type\": \"pie\"}], \"scatter\": [{\"marker\": {\"colorbar\": {\"outlinewidth\": 0, \"ticks\": \"\"}}, \"type\": \"scatter\"}], \"scatter3d\": [{\"line\": {\"colorbar\": {\"outlinewidth\": 0, \"ticks\": \"\"}}, \"marker\": {\"colorbar\": {\"outlinewidth\": 0, \"ticks\": \"\"}}, \"type\": \"scatter3d\"}], \"scattercarpet\": [{\"marker\": {\"colorbar\": {\"outlinewidth\": 0, \"ticks\": \"\"}}, \"type\": \"scattercarpet\"}], \"scattergeo\": [{\"marker\": {\"colorbar\": {\"outlinewidth\": 0, \"ticks\": \"\"}}, \"type\": \"scattergeo\"}], \"scattergl\": [{\"marker\": {\"colorbar\": {\"outlinewidth\": 0, \"ticks\": \"\"}}, \"type\": \"scattergl\"}], \"scattermapbox\": [{\"marker\": {\"colorbar\": {\"outlinewidth\": 0, \"ticks\": \"\"}}, \"type\": \"scattermapbox\"}], \"scatterpolar\": [{\"marker\": {\"colorbar\": {\"outlinewidth\": 0, \"ticks\": \"\"}}, \"type\": \"scatterpolar\"}], \"scatterpolargl\": [{\"marker\": {\"colorbar\": {\"outlinewidth\": 0, \"ticks\": \"\"}}, \"type\": \"scatterpolargl\"}], \"scatterternary\": [{\"marker\": {\"colorbar\": {\"outlinewidth\": 0, \"ticks\": \"\"}}, \"type\": \"scatterternary\"}], \"surface\": [{\"colorbar\": {\"outlinewidth\": 0, \"ticks\": \"\"}, \"colorscale\": [[0.0, \"#0d0887\"], [0.1111111111111111, \"#46039f\"], [0.2222222222222222, \"#7201a8\"], [0.3333333333333333, \"#9c179e\"], [0.4444444444444444, \"#bd3786\"], [0.5555555555555556, \"#d8576b\"], [0.6666666666666666, \"#ed7953\"], [0.7777777777777778, \"#fb9f3a\"], [0.8888888888888888, \"#fdca26\"], [1.0, \"#f0f921\"]], \"type\": \"surface\"}], \"table\": [{\"cells\": {\"fill\": {\"color\": \"#EBF0F8\"}, \"line\": {\"color\": \"white\"}}, \"header\": {\"fill\": {\"color\": \"#C8D4E3\"}, \"line\": {\"color\": \"white\"}}, \"type\": \"table\"}]}, \"layout\": {\"annotationdefaults\": {\"arrowcolor\": \"#2a3f5f\", \"arrowhead\": 0, \"arrowwidth\": 1}, \"coloraxis\": {\"colorbar\": {\"outlinewidth\": 0, \"ticks\": \"\"}}, \"colorscale\": {\"diverging\": [[0, \"#8e0152\"], [0.1, \"#c51b7d\"], [0.2, \"#de77ae\"], [0.3, \"#f1b6da\"], [0.4, \"#fde0ef\"], [0.5, \"#f7f7f7\"], [0.6, \"#e6f5d0\"], [0.7, \"#b8e186\"], [0.8, \"#7fbc41\"], [0.9, \"#4d9221\"], [1, \"#276419\"]], \"sequential\": [[0.0, \"#0d0887\"], [0.1111111111111111, \"#46039f\"], [0.2222222222222222, \"#7201a8\"], [0.3333333333333333, \"#9c179e\"], [0.4444444444444444, \"#bd3786\"], [0.5555555555555556, \"#d8576b\"], [0.6666666666666666, \"#ed7953\"], [0.7777777777777778, \"#fb9f3a\"], [0.8888888888888888, \"#fdca26\"], [1.0, \"#f0f921\"]], \"sequentialminus\": [[0.0, \"#0d0887\"], [0.1111111111111111, \"#46039f\"], [0.2222222222222222, \"#7201a8\"], [0.3333333333333333, \"#9c179e\"], [0.4444444444444444, \"#bd3786\"], [0.5555555555555556, \"#d8576b\"], [0.6666666666666666, \"#ed7953\"], [0.7777777777777778, \"#fb9f3a\"], [0.8888888888888888, \"#fdca26\"], [1.0, \"#f0f921\"]]}, \"colorway\": [\"#636efa\", \"#EF553B\", \"#00cc96\", \"#ab63fa\", \"#FFA15A\", \"#19d3f3\", \"#FF6692\", \"#B6E880\", \"#FF97FF\", \"#FECB52\"], \"font\": {\"color\": \"#2a3f5f\"}, \"geo\": {\"bgcolor\": \"white\", \"lakecolor\": \"white\", \"landcolor\": \"#E5ECF6\", \"showlakes\": true, \"showland\": true, \"subunitcolor\": \"white\"}, \"hoverlabel\": {\"align\": \"left\"}, \"hovermode\": \"closest\", \"mapbox\": {\"style\": \"light\"}, \"paper_bgcolor\": \"white\", \"plot_bgcolor\": \"#E5ECF6\", \"polar\": {\"angularaxis\": {\"gridcolor\": \"white\", \"linecolor\": \"white\", \"ticks\": \"\"}, \"bgcolor\": \"#E5ECF6\", \"radialaxis\": {\"gridcolor\": \"white\", \"linecolor\": \"white\", \"ticks\": \"\"}}, \"scene\": {\"xaxis\": {\"backgroundcolor\": \"#E5ECF6\", \"gridcolor\": \"white\", \"gridwidth\": 2, \"linecolor\": \"white\", \"showbackground\": true, \"ticks\": \"\", \"zerolinecolor\": \"white\"}, \"yaxis\": {\"backgroundcolor\": \"#E5ECF6\", \"gridcolor\": \"white\", \"gridwidth\": 2, \"linecolor\": \"white\", \"showbackground\": true, \"ticks\": \"\", \"zerolinecolor\": \"white\"}, \"zaxis\": {\"backgroundcolor\": \"#E5ECF6\", \"gridcolor\": \"white\", \"gridwidth\": 2, \"linecolor\": \"white\", \"showbackground\": true, \"ticks\": \"\", \"zerolinecolor\": \"white\"}}, \"shapedefaults\": {\"line\": {\"color\": \"#2a3f5f\"}}, \"ternary\": {\"aaxis\": {\"gridcolor\": \"white\", \"linecolor\": \"white\", \"ticks\": \"\"}, \"baxis\": {\"gridcolor\": \"white\", \"linecolor\": \"white\", \"ticks\": \"\"}, \"bgcolor\": \"#E5ECF6\", \"caxis\": {\"gridcolor\": \"white\", \"linecolor\": \"white\", \"ticks\": \"\"}}, \"title\": {\"x\": 0.05}, \"xaxis\": {\"automargin\": true, \"gridcolor\": \"white\", \"linecolor\": \"white\", \"ticks\": \"\", \"title\": {\"standoff\": 15}, \"zerolinecolor\": \"white\", \"zerolinewidth\": 2}, \"yaxis\": {\"automargin\": true, \"gridcolor\": \"white\", \"linecolor\": \"white\", \"ticks\": \"\", \"title\": {\"standoff\": 15}, \"zerolinecolor\": \"white\", \"zerolinewidth\": 2}}}, \"title\": {\"text\": \"Performance metric by features selection approach\"}, \"width\": 900, \"xaxis\": {\"anchor\": \"y\", \"domain\": [0.0, 0.45], \"showticklabels\": false, \"title\": {\"text\": \"Features selection\"}}, \"xaxis2\": {\"anchor\": \"y2\", \"domain\": [0.55, 1.0], \"showticklabels\": false, \"title\": {\"text\": \"Features selection\"}}, \"yaxis\": {\"anchor\": \"x\", \"domain\": [0.0, 1.0], \"title\": {\"text\": \"Test R2\"}}, \"yaxis2\": {\"anchor\": \"x2\", \"domain\": [0.0, 1.0], \"title\": {\"text\": \"\"}}},\n",
       "                        {\"responsive\": true}\n",
       "                    ).then(function(){\n",
       "                            \n",
       "var gd = document.getElementById('c307d228-cdef-40cd-a319-d1b4a2a8287d');\n",
       "var x = new MutationObserver(function (mutations, observer) {{\n",
       "        var display = window.getComputedStyle(gd).display;\n",
       "        if (!display || display === 'none') {{\n",
       "            console.log([gd, 'removed!']);\n",
       "            Plotly.purge(gd);\n",
       "            observer.disconnect();\n",
       "        }}\n",
       "}});\n",
       "\n",
       "// Listen for the removal of the full notebook cells\n",
       "var notebookContainer = gd.closest('#notebook-container');\n",
       "if (notebookContainer) {{\n",
       "    x.observe(notebookContainer, {childList: true});\n",
       "}}\n",
       "\n",
       "// Listen for the clearing of the current output cell\n",
       "var outputEl = gd.closest('.output');\n",
       "if (outputEl) {{\n",
       "    x.observe(outputEl, {childList: true});\n",
       "}}\n",
       "\n",
       "                        })\n",
       "                };\n",
       "                });\n",
       "            </script>\n",
       "        </div>"
      ]
     },
     "metadata": {},
     "output_type": "display_data"
    }
   ],
   "source": [
    "plot_outcomes(outcomes_lasso=outcomes_lasso, outcomes_xgboost=outcomes_xgboost, plot='metric_by_approach')"
   ]
  },
  {
   "cell_type": "markdown",
   "metadata": {},
   "source": [
    "<a id='ratio_by_approach'></a>"
   ]
  },
  {
   "cell_type": "markdown",
   "metadata": {},
   "source": [
    "#### Ratio between performance metric and running time by features selection approach"
   ]
  },
  {
   "cell_type": "code",
   "execution_count": 17,
   "metadata": {},
   "outputs": [
    {
     "data": {
      "application/vnd.plotly.v1+json": {
       "config": {
        "plotlyServerURL": "https://plot.ly"
       },
       "data": [
        {
         "hovertemplate": "%{text}<br>",
         "marker": {
          "color": "#c56d00"
         },
         "name": "lasso",
         "text": [
          "test_r2 = 0.63<br>features_selection = Correlation selection, then supervised selection (alpha=10)<br>running_time = 4.31<br>num_selected_features = 31",
          "test_r2 = 0.64<br>features_selection = Supervised selection (alpha=10)<br>running_time = 5.29<br>num_selected_features = 32",
          "test_r2 = 0.67<br>features_selection = Supervised selection (alpha=1)<br>running_time = 77.23<br>num_selected_features = 94",
          "test_r2 = 0.67<br>features_selection = Supervised selection (alpha=0.1)<br>running_time = 394.84<br>num_selected_features = 135",
          "test_r2 = 0.63<br>features_selection = Correlation selection<br>running_time = 411.19<br>num_selected_features = 99",
          "test_r2 = 0.64<br>features_selection = Correlation selection, then RFECV<br>running_time = 422.59<br>num_selected_features = 63",
          "test_r2 = 0.63<br>features_selection = Correlation selection, then random selection<br>running_time = 471.44<br>num_selected_features = 50",
          "test_r2 = 0.63<br>features_selection = Correlation selection, then supervised selection (alpha=0.001)<br>running_time = 560.10<br>num_selected_features = 99",
          "test_r2 = 0.60<br>features_selection = Variance selection<br>running_time = 579.70<br>num_selected_features = 99",
          "test_r2 = 0.67<br>features_selection = Supervised selection (alpha=0.01)<br>running_time = 664.63<br>num_selected_features = 147",
          "test_r2 = 0.63<br>features_selection = Correlation selection, then RFE<br>running_time = 710.07<br>num_selected_features = 26",
          "test_r2 = 0.66<br>features_selection = RFECV<br>running_time = 762.53<br>num_selected_features = 58",
          "test_r2 = 0.67<br>features_selection = No selection<br>running_time = 778.25<br>num_selected_features = 175",
          "test_r2 = 0.66<br>features_selection = Random selection<br>running_time = 867.69<br>num_selected_features = 100",
          "test_r2 = 0.66<br>features_selection = RFE<br>running_time = 1734.87<br>num_selected_features = 30",
          "test_r2 = 0.63<br>features_selection = Correlation selection, then sequential (forward)<br>running_time = 18436.40<br>num_selected_features = 49",
          "test_r2 = 0.66<br>features_selection = Sequential (forward)<br>running_time = 62643.37<br>num_selected_features = 51"
         ],
         "type": "bar",
         "x": [
          "Correlation selection, then supervised selection (alpha=10)",
          "Supervised selection (alpha=10)",
          "Supervised selection (alpha=1)",
          "Supervised selection (alpha=0.1)",
          "Correlation selection",
          "Correlation selection, then RFECV",
          "Correlation selection, then random selection",
          "Correlation selection, then supervised selection (alpha=0.001)",
          "Variance selection",
          "Supervised selection (alpha=0.01)",
          "Correlation selection, then RFE",
          "RFECV",
          "No selection",
          "Random selection",
          "RFE",
          "Correlation selection, then sequential (forward)",
          "Sequential (forward)"
         ],
         "xaxis": "x",
         "y": [
          0.14598245836204257,
          0.12012302662532727,
          0.00861729711022582,
          0.00168546905830623,
          0.0015397039877652152,
          0.001504158037578654,
          0.0013338212170169927,
          0.001130353797590288,
          0.0010266206486684375,
          0.0010013826427114775,
          0.0008925563113903797,
          0.0008705871120325476,
          0.0008551466245366201,
          0.0007566994829413925,
          0.0003788223889976562,
          3.441720647458039e-05,
          1.0528008039752125e-05
         ],
         "yaxis": "y"
        },
        {
         "hovertemplate": "%{text}<br>",
         "marker": {
          "color": "#01988d"
         },
         "name": "xgboost",
         "text": [
          "test_r2 = 0.62<br>features_selection = Supervised selection (alpha=10)<br>running_time = 31.64<br>num_selected_features = 32",
          "test_r2 = 0.61<br>features_selection = Correlation selection, then supervised selection (alpha=10)<br>running_time = 36.98<br>num_selected_features = 31",
          "test_r2 = 0.63<br>features_selection = Correlation selection<br>running_time = 60.24<br>num_selected_features = 99",
          "test_r2 = 0.63<br>features_selection = Supervised selection (alpha=1)<br>running_time = 64.28<br>num_selected_features = 94",
          "test_r2 = 0.62<br>features_selection = Correlation selection, then random selection<br>running_time = 64.43<br>num_selected_features = 70",
          "test_r2 = 0.58<br>features_selection = Variance selection<br>running_time = 78.07<br>num_selected_features = 99",
          "test_r2 = 0.61<br>features_selection = Correlation selection, then supervised selection (alpha=0.001)<br>running_time = 82.55<br>num_selected_features = 99",
          "test_r2 = 0.62<br>features_selection = Correlation selection, then RFECV<br>running_time = 86.48<br>num_selected_features = 63",
          "test_r2 = 0.61<br>features_selection = Random selection<br>running_time = 86.43<br>num_selected_features = 80",
          "test_r2 = 0.62<br>features_selection = No selection<br>running_time = 92.57<br>num_selected_features = 175",
          "test_r2 = 0.62<br>features_selection = Supervised selection (alpha=0.1)<br>running_time = 105.50<br>num_selected_features = 135",
          "test_r2 = 0.63<br>features_selection = RFECV<br>running_time = 169.67<br>num_selected_features = 58",
          "test_r2 = 0.61<br>features_selection = Correlation selection, then RFE<br>running_time = 202.64<br>num_selected_features = 26",
          "test_r2 = 0.60<br>features_selection = RFE<br>running_time = 1146.76<br>num_selected_features = 30",
          "test_r2 = 0.58<br>features_selection = Correlation selection, then sequential (forward)<br>running_time = 16301.83<br>num_selected_features = 49",
          "test_r2 = 0.63<br>features_selection = Sequential (forward)<br>running_time = 62966.91<br>num_selected_features = 51"
         ],
         "type": "bar",
         "x": [
          "Supervised selection (alpha=10)",
          "Correlation selection, then supervised selection (alpha=10)",
          "Correlation selection",
          "Supervised selection (alpha=1)",
          "Correlation selection, then random selection",
          "Variance selection",
          "Correlation selection, then supervised selection (alpha=0.001)",
          "Correlation selection, then RFECV",
          "Random selection",
          "No selection",
          "Supervised selection (alpha=0.1)",
          "RFECV",
          "Correlation selection, then RFE",
          "RFE",
          "Correlation selection, then sequential (forward)",
          "Sequential (forward)"
         ],
         "xaxis": "x2",
         "y": [
          0.019548674904125516,
          0.016555430936558566,
          0.010449597566934112,
          0.00981833881045971,
          0.009599073033740555,
          0.007459244056682921,
          0.0074187622896092036,
          0.00714189598485805,
          0.007065504426609367,
          0.006667552951236596,
          0.005918314314021503,
          0.0037087568361009226,
          0.0030299457576755265,
          0.0005194612384024677,
          3.5514263059079476e-05,
          1.0021364577950257e-05
         ],
         "yaxis": "y2"
        }
       ],
       "layout": {
        "barmode": "group",
        "height": 500,
        "template": {
         "data": {
          "bar": [
           {
            "error_x": {
             "color": "#2a3f5f"
            },
            "error_y": {
             "color": "#2a3f5f"
            },
            "marker": {
             "line": {
              "color": "#E5ECF6",
              "width": 0.5
             }
            },
            "type": "bar"
           }
          ],
          "barpolar": [
           {
            "marker": {
             "line": {
              "color": "#E5ECF6",
              "width": 0.5
             }
            },
            "type": "barpolar"
           }
          ],
          "carpet": [
           {
            "aaxis": {
             "endlinecolor": "#2a3f5f",
             "gridcolor": "white",
             "linecolor": "white",
             "minorgridcolor": "white",
             "startlinecolor": "#2a3f5f"
            },
            "baxis": {
             "endlinecolor": "#2a3f5f",
             "gridcolor": "white",
             "linecolor": "white",
             "minorgridcolor": "white",
             "startlinecolor": "#2a3f5f"
            },
            "type": "carpet"
           }
          ],
          "choropleth": [
           {
            "colorbar": {
             "outlinewidth": 0,
             "ticks": ""
            },
            "type": "choropleth"
           }
          ],
          "contour": [
           {
            "colorbar": {
             "outlinewidth": 0,
             "ticks": ""
            },
            "colorscale": [
             [
              0,
              "#0d0887"
             ],
             [
              0.1111111111111111,
              "#46039f"
             ],
             [
              0.2222222222222222,
              "#7201a8"
             ],
             [
              0.3333333333333333,
              "#9c179e"
             ],
             [
              0.4444444444444444,
              "#bd3786"
             ],
             [
              0.5555555555555556,
              "#d8576b"
             ],
             [
              0.6666666666666666,
              "#ed7953"
             ],
             [
              0.7777777777777778,
              "#fb9f3a"
             ],
             [
              0.8888888888888888,
              "#fdca26"
             ],
             [
              1,
              "#f0f921"
             ]
            ],
            "type": "contour"
           }
          ],
          "contourcarpet": [
           {
            "colorbar": {
             "outlinewidth": 0,
             "ticks": ""
            },
            "type": "contourcarpet"
           }
          ],
          "heatmap": [
           {
            "colorbar": {
             "outlinewidth": 0,
             "ticks": ""
            },
            "colorscale": [
             [
              0,
              "#0d0887"
             ],
             [
              0.1111111111111111,
              "#46039f"
             ],
             [
              0.2222222222222222,
              "#7201a8"
             ],
             [
              0.3333333333333333,
              "#9c179e"
             ],
             [
              0.4444444444444444,
              "#bd3786"
             ],
             [
              0.5555555555555556,
              "#d8576b"
             ],
             [
              0.6666666666666666,
              "#ed7953"
             ],
             [
              0.7777777777777778,
              "#fb9f3a"
             ],
             [
              0.8888888888888888,
              "#fdca26"
             ],
             [
              1,
              "#f0f921"
             ]
            ],
            "type": "heatmap"
           }
          ],
          "heatmapgl": [
           {
            "colorbar": {
             "outlinewidth": 0,
             "ticks": ""
            },
            "colorscale": [
             [
              0,
              "#0d0887"
             ],
             [
              0.1111111111111111,
              "#46039f"
             ],
             [
              0.2222222222222222,
              "#7201a8"
             ],
             [
              0.3333333333333333,
              "#9c179e"
             ],
             [
              0.4444444444444444,
              "#bd3786"
             ],
             [
              0.5555555555555556,
              "#d8576b"
             ],
             [
              0.6666666666666666,
              "#ed7953"
             ],
             [
              0.7777777777777778,
              "#fb9f3a"
             ],
             [
              0.8888888888888888,
              "#fdca26"
             ],
             [
              1,
              "#f0f921"
             ]
            ],
            "type": "heatmapgl"
           }
          ],
          "histogram": [
           {
            "marker": {
             "colorbar": {
              "outlinewidth": 0,
              "ticks": ""
             }
            },
            "type": "histogram"
           }
          ],
          "histogram2d": [
           {
            "colorbar": {
             "outlinewidth": 0,
             "ticks": ""
            },
            "colorscale": [
             [
              0,
              "#0d0887"
             ],
             [
              0.1111111111111111,
              "#46039f"
             ],
             [
              0.2222222222222222,
              "#7201a8"
             ],
             [
              0.3333333333333333,
              "#9c179e"
             ],
             [
              0.4444444444444444,
              "#bd3786"
             ],
             [
              0.5555555555555556,
              "#d8576b"
             ],
             [
              0.6666666666666666,
              "#ed7953"
             ],
             [
              0.7777777777777778,
              "#fb9f3a"
             ],
             [
              0.8888888888888888,
              "#fdca26"
             ],
             [
              1,
              "#f0f921"
             ]
            ],
            "type": "histogram2d"
           }
          ],
          "histogram2dcontour": [
           {
            "colorbar": {
             "outlinewidth": 0,
             "ticks": ""
            },
            "colorscale": [
             [
              0,
              "#0d0887"
             ],
             [
              0.1111111111111111,
              "#46039f"
             ],
             [
              0.2222222222222222,
              "#7201a8"
             ],
             [
              0.3333333333333333,
              "#9c179e"
             ],
             [
              0.4444444444444444,
              "#bd3786"
             ],
             [
              0.5555555555555556,
              "#d8576b"
             ],
             [
              0.6666666666666666,
              "#ed7953"
             ],
             [
              0.7777777777777778,
              "#fb9f3a"
             ],
             [
              0.8888888888888888,
              "#fdca26"
             ],
             [
              1,
              "#f0f921"
             ]
            ],
            "type": "histogram2dcontour"
           }
          ],
          "mesh3d": [
           {
            "colorbar": {
             "outlinewidth": 0,
             "ticks": ""
            },
            "type": "mesh3d"
           }
          ],
          "parcoords": [
           {
            "line": {
             "colorbar": {
              "outlinewidth": 0,
              "ticks": ""
             }
            },
            "type": "parcoords"
           }
          ],
          "pie": [
           {
            "automargin": true,
            "type": "pie"
           }
          ],
          "scatter": [
           {
            "marker": {
             "colorbar": {
              "outlinewidth": 0,
              "ticks": ""
             }
            },
            "type": "scatter"
           }
          ],
          "scatter3d": [
           {
            "line": {
             "colorbar": {
              "outlinewidth": 0,
              "ticks": ""
             }
            },
            "marker": {
             "colorbar": {
              "outlinewidth": 0,
              "ticks": ""
             }
            },
            "type": "scatter3d"
           }
          ],
          "scattercarpet": [
           {
            "marker": {
             "colorbar": {
              "outlinewidth": 0,
              "ticks": ""
             }
            },
            "type": "scattercarpet"
           }
          ],
          "scattergeo": [
           {
            "marker": {
             "colorbar": {
              "outlinewidth": 0,
              "ticks": ""
             }
            },
            "type": "scattergeo"
           }
          ],
          "scattergl": [
           {
            "marker": {
             "colorbar": {
              "outlinewidth": 0,
              "ticks": ""
             }
            },
            "type": "scattergl"
           }
          ],
          "scattermapbox": [
           {
            "marker": {
             "colorbar": {
              "outlinewidth": 0,
              "ticks": ""
             }
            },
            "type": "scattermapbox"
           }
          ],
          "scatterpolar": [
           {
            "marker": {
             "colorbar": {
              "outlinewidth": 0,
              "ticks": ""
             }
            },
            "type": "scatterpolar"
           }
          ],
          "scatterpolargl": [
           {
            "marker": {
             "colorbar": {
              "outlinewidth": 0,
              "ticks": ""
             }
            },
            "type": "scatterpolargl"
           }
          ],
          "scatterternary": [
           {
            "marker": {
             "colorbar": {
              "outlinewidth": 0,
              "ticks": ""
             }
            },
            "type": "scatterternary"
           }
          ],
          "surface": [
           {
            "colorbar": {
             "outlinewidth": 0,
             "ticks": ""
            },
            "colorscale": [
             [
              0,
              "#0d0887"
             ],
             [
              0.1111111111111111,
              "#46039f"
             ],
             [
              0.2222222222222222,
              "#7201a8"
             ],
             [
              0.3333333333333333,
              "#9c179e"
             ],
             [
              0.4444444444444444,
              "#bd3786"
             ],
             [
              0.5555555555555556,
              "#d8576b"
             ],
             [
              0.6666666666666666,
              "#ed7953"
             ],
             [
              0.7777777777777778,
              "#fb9f3a"
             ],
             [
              0.8888888888888888,
              "#fdca26"
             ],
             [
              1,
              "#f0f921"
             ]
            ],
            "type": "surface"
           }
          ],
          "table": [
           {
            "cells": {
             "fill": {
              "color": "#EBF0F8"
             },
             "line": {
              "color": "white"
             }
            },
            "header": {
             "fill": {
              "color": "#C8D4E3"
             },
             "line": {
              "color": "white"
             }
            },
            "type": "table"
           }
          ]
         },
         "layout": {
          "annotationdefaults": {
           "arrowcolor": "#2a3f5f",
           "arrowhead": 0,
           "arrowwidth": 1
          },
          "coloraxis": {
           "colorbar": {
            "outlinewidth": 0,
            "ticks": ""
           }
          },
          "colorscale": {
           "diverging": [
            [
             0,
             "#8e0152"
            ],
            [
             0.1,
             "#c51b7d"
            ],
            [
             0.2,
             "#de77ae"
            ],
            [
             0.3,
             "#f1b6da"
            ],
            [
             0.4,
             "#fde0ef"
            ],
            [
             0.5,
             "#f7f7f7"
            ],
            [
             0.6,
             "#e6f5d0"
            ],
            [
             0.7,
             "#b8e186"
            ],
            [
             0.8,
             "#7fbc41"
            ],
            [
             0.9,
             "#4d9221"
            ],
            [
             1,
             "#276419"
            ]
           ],
           "sequential": [
            [
             0,
             "#0d0887"
            ],
            [
             0.1111111111111111,
             "#46039f"
            ],
            [
             0.2222222222222222,
             "#7201a8"
            ],
            [
             0.3333333333333333,
             "#9c179e"
            ],
            [
             0.4444444444444444,
             "#bd3786"
            ],
            [
             0.5555555555555556,
             "#d8576b"
            ],
            [
             0.6666666666666666,
             "#ed7953"
            ],
            [
             0.7777777777777778,
             "#fb9f3a"
            ],
            [
             0.8888888888888888,
             "#fdca26"
            ],
            [
             1,
             "#f0f921"
            ]
           ],
           "sequentialminus": [
            [
             0,
             "#0d0887"
            ],
            [
             0.1111111111111111,
             "#46039f"
            ],
            [
             0.2222222222222222,
             "#7201a8"
            ],
            [
             0.3333333333333333,
             "#9c179e"
            ],
            [
             0.4444444444444444,
             "#bd3786"
            ],
            [
             0.5555555555555556,
             "#d8576b"
            ],
            [
             0.6666666666666666,
             "#ed7953"
            ],
            [
             0.7777777777777778,
             "#fb9f3a"
            ],
            [
             0.8888888888888888,
             "#fdca26"
            ],
            [
             1,
             "#f0f921"
            ]
           ]
          },
          "colorway": [
           "#636efa",
           "#EF553B",
           "#00cc96",
           "#ab63fa",
           "#FFA15A",
           "#19d3f3",
           "#FF6692",
           "#B6E880",
           "#FF97FF",
           "#FECB52"
          ],
          "font": {
           "color": "#2a3f5f"
          },
          "geo": {
           "bgcolor": "white",
           "lakecolor": "white",
           "landcolor": "#E5ECF6",
           "showlakes": true,
           "showland": true,
           "subunitcolor": "white"
          },
          "hoverlabel": {
           "align": "left"
          },
          "hovermode": "closest",
          "mapbox": {
           "style": "light"
          },
          "paper_bgcolor": "white",
          "plot_bgcolor": "#E5ECF6",
          "polar": {
           "angularaxis": {
            "gridcolor": "white",
            "linecolor": "white",
            "ticks": ""
           },
           "bgcolor": "#E5ECF6",
           "radialaxis": {
            "gridcolor": "white",
            "linecolor": "white",
            "ticks": ""
           }
          },
          "scene": {
           "xaxis": {
            "backgroundcolor": "#E5ECF6",
            "gridcolor": "white",
            "gridwidth": 2,
            "linecolor": "white",
            "showbackground": true,
            "ticks": "",
            "zerolinecolor": "white"
           },
           "yaxis": {
            "backgroundcolor": "#E5ECF6",
            "gridcolor": "white",
            "gridwidth": 2,
            "linecolor": "white",
            "showbackground": true,
            "ticks": "",
            "zerolinecolor": "white"
           },
           "zaxis": {
            "backgroundcolor": "#E5ECF6",
            "gridcolor": "white",
            "gridwidth": 2,
            "linecolor": "white",
            "showbackground": true,
            "ticks": "",
            "zerolinecolor": "white"
           }
          },
          "shapedefaults": {
           "line": {
            "color": "#2a3f5f"
           }
          },
          "ternary": {
           "aaxis": {
            "gridcolor": "white",
            "linecolor": "white",
            "ticks": ""
           },
           "baxis": {
            "gridcolor": "white",
            "linecolor": "white",
            "ticks": ""
           },
           "bgcolor": "#E5ECF6",
           "caxis": {
            "gridcolor": "white",
            "linecolor": "white",
            "ticks": ""
           }
          },
          "title": {
           "x": 0.05
          },
          "xaxis": {
           "automargin": true,
           "gridcolor": "white",
           "linecolor": "white",
           "ticks": "",
           "title": {
            "standoff": 15
           },
           "zerolinecolor": "white",
           "zerolinewidth": 2
          },
          "yaxis": {
           "automargin": true,
           "gridcolor": "white",
           "linecolor": "white",
           "ticks": "",
           "title": {
            "standoff": 15
           },
           "zerolinecolor": "white",
           "zerolinewidth": 2
          }
         }
        },
        "title": {
         "text": "Ratio between performance metric and running time by features selection approach"
        },
        "width": 900,
        "xaxis": {
         "anchor": "y",
         "domain": [
          0,
          0.45
         ],
         "showticklabels": false,
         "title": {
          "text": "Features selection"
         }
        },
        "xaxis2": {
         "anchor": "y2",
         "domain": [
          0.55,
          1
         ],
         "showticklabels": false,
         "title": {
          "text": "Features selection"
         }
        },
        "yaxis": {
         "anchor": "x",
         "domain": [
          0,
          1
         ],
         "title": {
          "text": "Test R2"
         }
        },
        "yaxis2": {
         "anchor": "x2",
         "domain": [
          0,
          1
         ],
         "title": {
          "text": ""
         }
        }
       }
      },
      "text/html": [
       "<div>\n",
       "        \n",
       "        \n",
       "            <div id=\"b7df4b8a-e707-477a-982c-a2640e527ef2\" class=\"plotly-graph-div\" style=\"height:500px; width:900px;\"></div>\n",
       "            <script type=\"text/javascript\">\n",
       "                require([\"plotly\"], function(Plotly) {\n",
       "                    window.PLOTLYENV=window.PLOTLYENV || {};\n",
       "                    \n",
       "                if (document.getElementById(\"b7df4b8a-e707-477a-982c-a2640e527ef2\")) {\n",
       "                    Plotly.newPlot(\n",
       "                        'b7df4b8a-e707-477a-982c-a2640e527ef2',\n",
       "                        [{\"hovertemplate\": \"%{text}<br>\", \"marker\": {\"color\": \"#c56d00\"}, \"name\": \"lasso\", \"text\": [\"test_r2 = 0.63<br>features_selection = Correlation selection, then supervised selection (alpha=10)<br>running_time = 4.31<br>num_selected_features = 31\", \"test_r2 = 0.64<br>features_selection = Supervised selection (alpha=10)<br>running_time = 5.29<br>num_selected_features = 32\", \"test_r2 = 0.67<br>features_selection = Supervised selection (alpha=1)<br>running_time = 77.23<br>num_selected_features = 94\", \"test_r2 = 0.67<br>features_selection = Supervised selection (alpha=0.1)<br>running_time = 394.84<br>num_selected_features = 135\", \"test_r2 = 0.63<br>features_selection = Correlation selection<br>running_time = 411.19<br>num_selected_features = 99\", \"test_r2 = 0.64<br>features_selection = Correlation selection, then RFECV<br>running_time = 422.59<br>num_selected_features = 63\", \"test_r2 = 0.63<br>features_selection = Correlation selection, then random selection<br>running_time = 471.44<br>num_selected_features = 50\", \"test_r2 = 0.63<br>features_selection = Correlation selection, then supervised selection (alpha=0.001)<br>running_time = 560.10<br>num_selected_features = 99\", \"test_r2 = 0.60<br>features_selection = Variance selection<br>running_time = 579.70<br>num_selected_features = 99\", \"test_r2 = 0.67<br>features_selection = Supervised selection (alpha=0.01)<br>running_time = 664.63<br>num_selected_features = 147\", \"test_r2 = 0.63<br>features_selection = Correlation selection, then RFE<br>running_time = 710.07<br>num_selected_features = 26\", \"test_r2 = 0.66<br>features_selection = RFECV<br>running_time = 762.53<br>num_selected_features = 58\", \"test_r2 = 0.67<br>features_selection = No selection<br>running_time = 778.25<br>num_selected_features = 175\", \"test_r2 = 0.66<br>features_selection = Random selection<br>running_time = 867.69<br>num_selected_features = 100\", \"test_r2 = 0.66<br>features_selection = RFE<br>running_time = 1734.87<br>num_selected_features = 30\", \"test_r2 = 0.63<br>features_selection = Correlation selection, then sequential (forward)<br>running_time = 18436.40<br>num_selected_features = 49\", \"test_r2 = 0.66<br>features_selection = Sequential (forward)<br>running_time = 62643.37<br>num_selected_features = 51\"], \"type\": \"bar\", \"x\": [\"Correlation selection, then supervised selection (alpha=10)\", \"Supervised selection (alpha=10)\", \"Supervised selection (alpha=1)\", \"Supervised selection (alpha=0.1)\", \"Correlation selection\", \"Correlation selection, then RFECV\", \"Correlation selection, then random selection\", \"Correlation selection, then supervised selection (alpha=0.001)\", \"Variance selection\", \"Supervised selection (alpha=0.01)\", \"Correlation selection, then RFE\", \"RFECV\", \"No selection\", \"Random selection\", \"RFE\", \"Correlation selection, then sequential (forward)\", \"Sequential (forward)\"], \"xaxis\": \"x\", \"y\": [0.14598245836204257, 0.12012302662532727, 0.00861729711022582, 0.00168546905830623, 0.0015397039877652152, 0.001504158037578654, 0.0013338212170169927, 0.001130353797590288, 0.0010266206486684375, 0.0010013826427114775, 0.0008925563113903797, 0.0008705871120325476, 0.0008551466245366201, 0.0007566994829413925, 0.0003788223889976562, 3.441720647458039e-05, 1.0528008039752125e-05], \"yaxis\": \"y\"}, {\"hovertemplate\": \"%{text}<br>\", \"marker\": {\"color\": \"#01988d\"}, \"name\": \"xgboost\", \"text\": [\"test_r2 = 0.62<br>features_selection = Supervised selection (alpha=10)<br>running_time = 31.64<br>num_selected_features = 32\", \"test_r2 = 0.61<br>features_selection = Correlation selection, then supervised selection (alpha=10)<br>running_time = 36.98<br>num_selected_features = 31\", \"test_r2 = 0.63<br>features_selection = Correlation selection<br>running_time = 60.24<br>num_selected_features = 99\", \"test_r2 = 0.63<br>features_selection = Supervised selection (alpha=1)<br>running_time = 64.28<br>num_selected_features = 94\", \"test_r2 = 0.62<br>features_selection = Correlation selection, then random selection<br>running_time = 64.43<br>num_selected_features = 70\", \"test_r2 = 0.58<br>features_selection = Variance selection<br>running_time = 78.07<br>num_selected_features = 99\", \"test_r2 = 0.61<br>features_selection = Correlation selection, then supervised selection (alpha=0.001)<br>running_time = 82.55<br>num_selected_features = 99\", \"test_r2 = 0.62<br>features_selection = Correlation selection, then RFECV<br>running_time = 86.48<br>num_selected_features = 63\", \"test_r2 = 0.61<br>features_selection = Random selection<br>running_time = 86.43<br>num_selected_features = 80\", \"test_r2 = 0.62<br>features_selection = No selection<br>running_time = 92.57<br>num_selected_features = 175\", \"test_r2 = 0.62<br>features_selection = Supervised selection (alpha=0.1)<br>running_time = 105.50<br>num_selected_features = 135\", \"test_r2 = 0.63<br>features_selection = RFECV<br>running_time = 169.67<br>num_selected_features = 58\", \"test_r2 = 0.61<br>features_selection = Correlation selection, then RFE<br>running_time = 202.64<br>num_selected_features = 26\", \"test_r2 = 0.60<br>features_selection = RFE<br>running_time = 1146.76<br>num_selected_features = 30\", \"test_r2 = 0.58<br>features_selection = Correlation selection, then sequential (forward)<br>running_time = 16301.83<br>num_selected_features = 49\", \"test_r2 = 0.63<br>features_selection = Sequential (forward)<br>running_time = 62966.91<br>num_selected_features = 51\"], \"type\": \"bar\", \"x\": [\"Supervised selection (alpha=10)\", \"Correlation selection, then supervised selection (alpha=10)\", \"Correlation selection\", \"Supervised selection (alpha=1)\", \"Correlation selection, then random selection\", \"Variance selection\", \"Correlation selection, then supervised selection (alpha=0.001)\", \"Correlation selection, then RFECV\", \"Random selection\", \"No selection\", \"Supervised selection (alpha=0.1)\", \"RFECV\", \"Correlation selection, then RFE\", \"RFE\", \"Correlation selection, then sequential (forward)\", \"Sequential (forward)\"], \"xaxis\": \"x2\", \"y\": [0.019548674904125516, 0.016555430936558566, 0.010449597566934112, 0.00981833881045971, 0.009599073033740555, 0.007459244056682921, 0.0074187622896092036, 0.00714189598485805, 0.007065504426609367, 0.006667552951236596, 0.005918314314021503, 0.0037087568361009226, 0.0030299457576755265, 0.0005194612384024677, 3.5514263059079476e-05, 1.0021364577950257e-05], \"yaxis\": \"y2\"}],\n",
       "                        {\"barmode\": \"group\", \"height\": 500, \"template\": {\"data\": {\"bar\": [{\"error_x\": {\"color\": \"#2a3f5f\"}, \"error_y\": {\"color\": \"#2a3f5f\"}, \"marker\": {\"line\": {\"color\": \"#E5ECF6\", \"width\": 0.5}}, \"type\": \"bar\"}], \"barpolar\": [{\"marker\": {\"line\": {\"color\": \"#E5ECF6\", \"width\": 0.5}}, \"type\": \"barpolar\"}], \"carpet\": [{\"aaxis\": {\"endlinecolor\": \"#2a3f5f\", \"gridcolor\": \"white\", \"linecolor\": \"white\", \"minorgridcolor\": \"white\", \"startlinecolor\": \"#2a3f5f\"}, \"baxis\": {\"endlinecolor\": \"#2a3f5f\", \"gridcolor\": \"white\", \"linecolor\": \"white\", \"minorgridcolor\": \"white\", \"startlinecolor\": \"#2a3f5f\"}, \"type\": \"carpet\"}], \"choropleth\": [{\"colorbar\": {\"outlinewidth\": 0, \"ticks\": \"\"}, \"type\": \"choropleth\"}], \"contour\": [{\"colorbar\": {\"outlinewidth\": 0, \"ticks\": \"\"}, \"colorscale\": [[0.0, \"#0d0887\"], [0.1111111111111111, \"#46039f\"], [0.2222222222222222, \"#7201a8\"], [0.3333333333333333, \"#9c179e\"], [0.4444444444444444, \"#bd3786\"], [0.5555555555555556, \"#d8576b\"], [0.6666666666666666, \"#ed7953\"], [0.7777777777777778, \"#fb9f3a\"], [0.8888888888888888, \"#fdca26\"], [1.0, \"#f0f921\"]], \"type\": \"contour\"}], \"contourcarpet\": [{\"colorbar\": {\"outlinewidth\": 0, \"ticks\": \"\"}, \"type\": \"contourcarpet\"}], \"heatmap\": [{\"colorbar\": {\"outlinewidth\": 0, \"ticks\": \"\"}, \"colorscale\": [[0.0, \"#0d0887\"], [0.1111111111111111, \"#46039f\"], [0.2222222222222222, \"#7201a8\"], [0.3333333333333333, \"#9c179e\"], [0.4444444444444444, \"#bd3786\"], [0.5555555555555556, \"#d8576b\"], [0.6666666666666666, \"#ed7953\"], [0.7777777777777778, \"#fb9f3a\"], [0.8888888888888888, \"#fdca26\"], [1.0, \"#f0f921\"]], \"type\": \"heatmap\"}], \"heatmapgl\": [{\"colorbar\": {\"outlinewidth\": 0, \"ticks\": \"\"}, \"colorscale\": [[0.0, \"#0d0887\"], [0.1111111111111111, \"#46039f\"], [0.2222222222222222, \"#7201a8\"], [0.3333333333333333, \"#9c179e\"], [0.4444444444444444, \"#bd3786\"], [0.5555555555555556, \"#d8576b\"], [0.6666666666666666, \"#ed7953\"], [0.7777777777777778, \"#fb9f3a\"], [0.8888888888888888, \"#fdca26\"], [1.0, \"#f0f921\"]], \"type\": \"heatmapgl\"}], \"histogram\": [{\"marker\": {\"colorbar\": {\"outlinewidth\": 0, \"ticks\": \"\"}}, \"type\": \"histogram\"}], \"histogram2d\": [{\"colorbar\": {\"outlinewidth\": 0, \"ticks\": \"\"}, \"colorscale\": [[0.0, \"#0d0887\"], [0.1111111111111111, \"#46039f\"], [0.2222222222222222, \"#7201a8\"], [0.3333333333333333, \"#9c179e\"], [0.4444444444444444, \"#bd3786\"], [0.5555555555555556, \"#d8576b\"], [0.6666666666666666, \"#ed7953\"], [0.7777777777777778, \"#fb9f3a\"], [0.8888888888888888, \"#fdca26\"], [1.0, \"#f0f921\"]], \"type\": \"histogram2d\"}], \"histogram2dcontour\": [{\"colorbar\": {\"outlinewidth\": 0, \"ticks\": \"\"}, \"colorscale\": [[0.0, \"#0d0887\"], [0.1111111111111111, \"#46039f\"], [0.2222222222222222, \"#7201a8\"], [0.3333333333333333, \"#9c179e\"], [0.4444444444444444, \"#bd3786\"], [0.5555555555555556, \"#d8576b\"], [0.6666666666666666, \"#ed7953\"], [0.7777777777777778, \"#fb9f3a\"], [0.8888888888888888, \"#fdca26\"], [1.0, \"#f0f921\"]], \"type\": \"histogram2dcontour\"}], \"mesh3d\": [{\"colorbar\": {\"outlinewidth\": 0, \"ticks\": \"\"}, \"type\": \"mesh3d\"}], \"parcoords\": [{\"line\": {\"colorbar\": {\"outlinewidth\": 0, \"ticks\": \"\"}}, \"type\": \"parcoords\"}], \"pie\": [{\"automargin\": true, \"type\": \"pie\"}], \"scatter\": [{\"marker\": {\"colorbar\": {\"outlinewidth\": 0, \"ticks\": \"\"}}, \"type\": \"scatter\"}], \"scatter3d\": [{\"line\": {\"colorbar\": {\"outlinewidth\": 0, \"ticks\": \"\"}}, \"marker\": {\"colorbar\": {\"outlinewidth\": 0, \"ticks\": \"\"}}, \"type\": \"scatter3d\"}], \"scattercarpet\": [{\"marker\": {\"colorbar\": {\"outlinewidth\": 0, \"ticks\": \"\"}}, \"type\": \"scattercarpet\"}], \"scattergeo\": [{\"marker\": {\"colorbar\": {\"outlinewidth\": 0, \"ticks\": \"\"}}, \"type\": \"scattergeo\"}], \"scattergl\": [{\"marker\": {\"colorbar\": {\"outlinewidth\": 0, \"ticks\": \"\"}}, \"type\": \"scattergl\"}], \"scattermapbox\": [{\"marker\": {\"colorbar\": {\"outlinewidth\": 0, \"ticks\": \"\"}}, \"type\": \"scattermapbox\"}], \"scatterpolar\": [{\"marker\": {\"colorbar\": {\"outlinewidth\": 0, \"ticks\": \"\"}}, \"type\": \"scatterpolar\"}], \"scatterpolargl\": [{\"marker\": {\"colorbar\": {\"outlinewidth\": 0, \"ticks\": \"\"}}, \"type\": \"scatterpolargl\"}], \"scatterternary\": [{\"marker\": {\"colorbar\": {\"outlinewidth\": 0, \"ticks\": \"\"}}, \"type\": \"scatterternary\"}], \"surface\": [{\"colorbar\": {\"outlinewidth\": 0, \"ticks\": \"\"}, \"colorscale\": [[0.0, \"#0d0887\"], [0.1111111111111111, \"#46039f\"], [0.2222222222222222, \"#7201a8\"], [0.3333333333333333, \"#9c179e\"], [0.4444444444444444, \"#bd3786\"], [0.5555555555555556, \"#d8576b\"], [0.6666666666666666, \"#ed7953\"], [0.7777777777777778, \"#fb9f3a\"], [0.8888888888888888, \"#fdca26\"], [1.0, \"#f0f921\"]], \"type\": \"surface\"}], \"table\": [{\"cells\": {\"fill\": {\"color\": \"#EBF0F8\"}, \"line\": {\"color\": \"white\"}}, \"header\": {\"fill\": {\"color\": \"#C8D4E3\"}, \"line\": {\"color\": \"white\"}}, \"type\": \"table\"}]}, \"layout\": {\"annotationdefaults\": {\"arrowcolor\": \"#2a3f5f\", \"arrowhead\": 0, \"arrowwidth\": 1}, \"coloraxis\": {\"colorbar\": {\"outlinewidth\": 0, \"ticks\": \"\"}}, \"colorscale\": {\"diverging\": [[0, \"#8e0152\"], [0.1, \"#c51b7d\"], [0.2, \"#de77ae\"], [0.3, \"#f1b6da\"], [0.4, \"#fde0ef\"], [0.5, \"#f7f7f7\"], [0.6, \"#e6f5d0\"], [0.7, \"#b8e186\"], [0.8, \"#7fbc41\"], [0.9, \"#4d9221\"], [1, \"#276419\"]], \"sequential\": [[0.0, \"#0d0887\"], [0.1111111111111111, \"#46039f\"], [0.2222222222222222, \"#7201a8\"], [0.3333333333333333, \"#9c179e\"], [0.4444444444444444, \"#bd3786\"], [0.5555555555555556, \"#d8576b\"], [0.6666666666666666, \"#ed7953\"], [0.7777777777777778, \"#fb9f3a\"], [0.8888888888888888, \"#fdca26\"], [1.0, \"#f0f921\"]], \"sequentialminus\": [[0.0, \"#0d0887\"], [0.1111111111111111, \"#46039f\"], [0.2222222222222222, \"#7201a8\"], [0.3333333333333333, \"#9c179e\"], [0.4444444444444444, \"#bd3786\"], [0.5555555555555556, \"#d8576b\"], [0.6666666666666666, \"#ed7953\"], [0.7777777777777778, \"#fb9f3a\"], [0.8888888888888888, \"#fdca26\"], [1.0, \"#f0f921\"]]}, \"colorway\": [\"#636efa\", \"#EF553B\", \"#00cc96\", \"#ab63fa\", \"#FFA15A\", \"#19d3f3\", \"#FF6692\", \"#B6E880\", \"#FF97FF\", \"#FECB52\"], \"font\": {\"color\": \"#2a3f5f\"}, \"geo\": {\"bgcolor\": \"white\", \"lakecolor\": \"white\", \"landcolor\": \"#E5ECF6\", \"showlakes\": true, \"showland\": true, \"subunitcolor\": \"white\"}, \"hoverlabel\": {\"align\": \"left\"}, \"hovermode\": \"closest\", \"mapbox\": {\"style\": \"light\"}, \"paper_bgcolor\": \"white\", \"plot_bgcolor\": \"#E5ECF6\", \"polar\": {\"angularaxis\": {\"gridcolor\": \"white\", \"linecolor\": \"white\", \"ticks\": \"\"}, \"bgcolor\": \"#E5ECF6\", \"radialaxis\": {\"gridcolor\": \"white\", \"linecolor\": \"white\", \"ticks\": \"\"}}, \"scene\": {\"xaxis\": {\"backgroundcolor\": \"#E5ECF6\", \"gridcolor\": \"white\", \"gridwidth\": 2, \"linecolor\": \"white\", \"showbackground\": true, \"ticks\": \"\", \"zerolinecolor\": \"white\"}, \"yaxis\": {\"backgroundcolor\": \"#E5ECF6\", \"gridcolor\": \"white\", \"gridwidth\": 2, \"linecolor\": \"white\", \"showbackground\": true, \"ticks\": \"\", \"zerolinecolor\": \"white\"}, \"zaxis\": {\"backgroundcolor\": \"#E5ECF6\", \"gridcolor\": \"white\", \"gridwidth\": 2, \"linecolor\": \"white\", \"showbackground\": true, \"ticks\": \"\", \"zerolinecolor\": \"white\"}}, \"shapedefaults\": {\"line\": {\"color\": \"#2a3f5f\"}}, \"ternary\": {\"aaxis\": {\"gridcolor\": \"white\", \"linecolor\": \"white\", \"ticks\": \"\"}, \"baxis\": {\"gridcolor\": \"white\", \"linecolor\": \"white\", \"ticks\": \"\"}, \"bgcolor\": \"#E5ECF6\", \"caxis\": {\"gridcolor\": \"white\", \"linecolor\": \"white\", \"ticks\": \"\"}}, \"title\": {\"x\": 0.05}, \"xaxis\": {\"automargin\": true, \"gridcolor\": \"white\", \"linecolor\": \"white\", \"ticks\": \"\", \"title\": {\"standoff\": 15}, \"zerolinecolor\": \"white\", \"zerolinewidth\": 2}, \"yaxis\": {\"automargin\": true, \"gridcolor\": \"white\", \"linecolor\": \"white\", \"ticks\": \"\", \"title\": {\"standoff\": 15}, \"zerolinecolor\": \"white\", \"zerolinewidth\": 2}}}, \"title\": {\"text\": \"Ratio between performance metric and running time by features selection approach\"}, \"width\": 900, \"xaxis\": {\"anchor\": \"y\", \"domain\": [0.0, 0.45], \"showticklabels\": false, \"title\": {\"text\": \"Features selection\"}}, \"xaxis2\": {\"anchor\": \"y2\", \"domain\": [0.55, 1.0], \"showticklabels\": false, \"title\": {\"text\": \"Features selection\"}}, \"yaxis\": {\"anchor\": \"x\", \"domain\": [0.0, 1.0], \"title\": {\"text\": \"Test R2\"}}, \"yaxis2\": {\"anchor\": \"x2\", \"domain\": [0.0, 1.0], \"title\": {\"text\": \"\"}}},\n",
       "                        {\"responsive\": true}\n",
       "                    ).then(function(){\n",
       "                            \n",
       "var gd = document.getElementById('b7df4b8a-e707-477a-982c-a2640e527ef2');\n",
       "var x = new MutationObserver(function (mutations, observer) {{\n",
       "        var display = window.getComputedStyle(gd).display;\n",
       "        if (!display || display === 'none') {{\n",
       "            console.log([gd, 'removed!']);\n",
       "            Plotly.purge(gd);\n",
       "            observer.disconnect();\n",
       "        }}\n",
       "}});\n",
       "\n",
       "// Listen for the removal of the full notebook cells\n",
       "var notebookContainer = gd.closest('#notebook-container');\n",
       "if (notebookContainer) {{\n",
       "    x.observe(notebookContainer, {childList: true});\n",
       "}}\n",
       "\n",
       "// Listen for the clearing of the current output cell\n",
       "var outputEl = gd.closest('.output');\n",
       "if (outputEl) {{\n",
       "    x.observe(outputEl, {childList: true});\n",
       "}}\n",
       "\n",
       "                        })\n",
       "                };\n",
       "                });\n",
       "            </script>\n",
       "        </div>"
      ]
     },
     "metadata": {},
     "output_type": "display_data"
    }
   ],
   "source": [
    "plot_outcomes(outcomes_lasso=outcomes_lasso, outcomes_xgboost=outcomes_xgboost, plot='ratio_by_approach')"
   ]
  },
  {
   "cell_type": "markdown",
   "metadata": {},
   "source": [
    "<a id='metric_by_time'></a>"
   ]
  },
  {
   "cell_type": "markdown",
   "metadata": {},
   "source": [
    "#### Performance metric against running time"
   ]
  },
  {
   "cell_type": "code",
   "execution_count": 18,
   "metadata": {},
   "outputs": [
    {
     "data": {
      "application/vnd.plotly.v1+json": {
       "config": {
        "plotlyServerURL": "https://plot.ly"
       },
       "data": [
        {
         "hovertemplate": "test_r2 = %{y:.4f}<br>running_time = %{x:.2f}<br>%{text}<br>",
         "marker": {
          "color": "#c56d00"
         },
         "mode": "markers",
         "name": "lasso",
         "text": [
          "num_selected_features = 147<br>features_selection = Supervised selection (alpha=0.01)",
          "num_selected_features = 175<br>features_selection = No selection",
          "num_selected_features = 94<br>features_selection = Supervised selection (alpha=1)",
          "num_selected_features = 135<br>features_selection = Supervised selection (alpha=0.1)",
          "num_selected_features = 58<br>features_selection = RFECV",
          "num_selected_features = 51<br>features_selection = Sequential (forward)",
          "num_selected_features = 30<br>features_selection = RFE",
          "num_selected_features = 100<br>features_selection = Random selection",
          "num_selected_features = 32<br>features_selection = Supervised selection (alpha=10)",
          "num_selected_features = 63<br>features_selection = Correlation selection, then RFECV",
          "num_selected_features = 49<br>features_selection = Correlation selection, then sequential (forward)",
          "num_selected_features = 26<br>features_selection = Correlation selection, then RFE",
          "num_selected_features = 99<br>features_selection = Correlation selection",
          "num_selected_features = 99<br>features_selection = Correlation selection, then supervised selection (alpha=0.001)",
          "num_selected_features = 31<br>features_selection = Correlation selection, then supervised selection (alpha=10)",
          "num_selected_features = 50<br>features_selection = Correlation selection, then random selection",
          "num_selected_features = 99<br>features_selection = Variance selection"
         ],
         "type": "scatter",
         "x": [
          664.631431,
          778.253433,
          77.230659,
          394.838262,
          762.531379,
          62643.367787,
          1734.867349,
          867.69345,
          5.293609,
          422.5901,
          18436.402431,
          710.06738,
          411.186833,
          560.095439,
          4.312686,
          471.438342,
          579.702696
         ],
         "xaxis": "x",
         "y": [
          0.665550378803891,
          0.6655207962639866,
          0.6655195346215357,
          0.6654876736364085,
          0.663849991077806,
          0.6595098796986854,
          0.6572065937422106,
          0.656583184966633,
          0.6358843348510721,
          0.6356422955161671,
          0.6345294691161829,
          0.633775121531431,
          0.6331060064866496,
          0.6331060064866496,
          0.6295765044235639,
          0.6288144630749132,
          0.595134757802362
         ],
         "yaxis": "y"
        },
        {
         "hovertemplate": "test_r2 = %{y:.4f}<br>running_time = %{x:.2f}<br>%{text}<br>",
         "marker": {
          "color": "#01988d"
         },
         "mode": "markers",
         "name": "xgboost",
         "text": [
          "num_selected_features = 94<br>features_selection = Supervised selection (alpha=1)",
          "num_selected_features = 51<br>features_selection = Sequential (forward)",
          "num_selected_features = 99<br>features_selection = Correlation selection",
          "num_selected_features = 58<br>features_selection = RFECV",
          "num_selected_features = 135<br>features_selection = Supervised selection (alpha=0.1)",
          "num_selected_features = 32<br>features_selection = Supervised selection (alpha=10)",
          "num_selected_features = 70<br>features_selection = Correlation selection, then random selection",
          "num_selected_features = 63<br>features_selection = Correlation selection, then RFECV",
          "num_selected_features = 175<br>features_selection = No selection",
          "num_selected_features = 26<br>features_selection = Correlation selection, then RFE",
          "num_selected_features = 99<br>features_selection = Correlation selection, then supervised selection (alpha=0.001)",
          "num_selected_features = 31<br>features_selection = Correlation selection, then supervised selection (alpha=10)",
          "num_selected_features = 80<br>features_selection = Random selection",
          "num_selected_features = 30<br>features_selection = RFE",
          "num_selected_features = 99<br>features_selection = Variance selection",
          "num_selected_features = 49<br>features_selection = Correlation selection, then sequential (forward)"
         ],
         "type": "scatter",
         "x": [
          64.28056,
          62966.912289,
          60.241019,
          169.667866,
          105.497278,
          31.639005,
          64.433122,
          86.477326,
          92.568473,
          202.641066,
          82.548453,
          36.977615,
          86.428753,
          1146.76449,
          78.065536,
          16301.83336
         ],
         "xaxis": "x2",
         "y": [
          0.631128317006084,
          0.6310143843958853,
          0.6294944055720316,
          0.6292568578941553,
          0.6243660504777058,
          0.6185006230350018,
          0.6184982438699153,
          0.6176120673406607,
          0.6172051953426151,
          0.6139914382575463,
          0.6124073501819777,
          0.6121803513311521,
          0.6106627369078276,
          0.5956997021313744,
          0.5823098854397666,
          0.5789475982923175
         ],
         "yaxis": "y2"
        }
       ],
       "layout": {
        "barmode": "group",
        "height": 500,
        "template": {
         "data": {
          "bar": [
           {
            "error_x": {
             "color": "#2a3f5f"
            },
            "error_y": {
             "color": "#2a3f5f"
            },
            "marker": {
             "line": {
              "color": "#E5ECF6",
              "width": 0.5
             }
            },
            "type": "bar"
           }
          ],
          "barpolar": [
           {
            "marker": {
             "line": {
              "color": "#E5ECF6",
              "width": 0.5
             }
            },
            "type": "barpolar"
           }
          ],
          "carpet": [
           {
            "aaxis": {
             "endlinecolor": "#2a3f5f",
             "gridcolor": "white",
             "linecolor": "white",
             "minorgridcolor": "white",
             "startlinecolor": "#2a3f5f"
            },
            "baxis": {
             "endlinecolor": "#2a3f5f",
             "gridcolor": "white",
             "linecolor": "white",
             "minorgridcolor": "white",
             "startlinecolor": "#2a3f5f"
            },
            "type": "carpet"
           }
          ],
          "choropleth": [
           {
            "colorbar": {
             "outlinewidth": 0,
             "ticks": ""
            },
            "type": "choropleth"
           }
          ],
          "contour": [
           {
            "colorbar": {
             "outlinewidth": 0,
             "ticks": ""
            },
            "colorscale": [
             [
              0,
              "#0d0887"
             ],
             [
              0.1111111111111111,
              "#46039f"
             ],
             [
              0.2222222222222222,
              "#7201a8"
             ],
             [
              0.3333333333333333,
              "#9c179e"
             ],
             [
              0.4444444444444444,
              "#bd3786"
             ],
             [
              0.5555555555555556,
              "#d8576b"
             ],
             [
              0.6666666666666666,
              "#ed7953"
             ],
             [
              0.7777777777777778,
              "#fb9f3a"
             ],
             [
              0.8888888888888888,
              "#fdca26"
             ],
             [
              1,
              "#f0f921"
             ]
            ],
            "type": "contour"
           }
          ],
          "contourcarpet": [
           {
            "colorbar": {
             "outlinewidth": 0,
             "ticks": ""
            },
            "type": "contourcarpet"
           }
          ],
          "heatmap": [
           {
            "colorbar": {
             "outlinewidth": 0,
             "ticks": ""
            },
            "colorscale": [
             [
              0,
              "#0d0887"
             ],
             [
              0.1111111111111111,
              "#46039f"
             ],
             [
              0.2222222222222222,
              "#7201a8"
             ],
             [
              0.3333333333333333,
              "#9c179e"
             ],
             [
              0.4444444444444444,
              "#bd3786"
             ],
             [
              0.5555555555555556,
              "#d8576b"
             ],
             [
              0.6666666666666666,
              "#ed7953"
             ],
             [
              0.7777777777777778,
              "#fb9f3a"
             ],
             [
              0.8888888888888888,
              "#fdca26"
             ],
             [
              1,
              "#f0f921"
             ]
            ],
            "type": "heatmap"
           }
          ],
          "heatmapgl": [
           {
            "colorbar": {
             "outlinewidth": 0,
             "ticks": ""
            },
            "colorscale": [
             [
              0,
              "#0d0887"
             ],
             [
              0.1111111111111111,
              "#46039f"
             ],
             [
              0.2222222222222222,
              "#7201a8"
             ],
             [
              0.3333333333333333,
              "#9c179e"
             ],
             [
              0.4444444444444444,
              "#bd3786"
             ],
             [
              0.5555555555555556,
              "#d8576b"
             ],
             [
              0.6666666666666666,
              "#ed7953"
             ],
             [
              0.7777777777777778,
              "#fb9f3a"
             ],
             [
              0.8888888888888888,
              "#fdca26"
             ],
             [
              1,
              "#f0f921"
             ]
            ],
            "type": "heatmapgl"
           }
          ],
          "histogram": [
           {
            "marker": {
             "colorbar": {
              "outlinewidth": 0,
              "ticks": ""
             }
            },
            "type": "histogram"
           }
          ],
          "histogram2d": [
           {
            "colorbar": {
             "outlinewidth": 0,
             "ticks": ""
            },
            "colorscale": [
             [
              0,
              "#0d0887"
             ],
             [
              0.1111111111111111,
              "#46039f"
             ],
             [
              0.2222222222222222,
              "#7201a8"
             ],
             [
              0.3333333333333333,
              "#9c179e"
             ],
             [
              0.4444444444444444,
              "#bd3786"
             ],
             [
              0.5555555555555556,
              "#d8576b"
             ],
             [
              0.6666666666666666,
              "#ed7953"
             ],
             [
              0.7777777777777778,
              "#fb9f3a"
             ],
             [
              0.8888888888888888,
              "#fdca26"
             ],
             [
              1,
              "#f0f921"
             ]
            ],
            "type": "histogram2d"
           }
          ],
          "histogram2dcontour": [
           {
            "colorbar": {
             "outlinewidth": 0,
             "ticks": ""
            },
            "colorscale": [
             [
              0,
              "#0d0887"
             ],
             [
              0.1111111111111111,
              "#46039f"
             ],
             [
              0.2222222222222222,
              "#7201a8"
             ],
             [
              0.3333333333333333,
              "#9c179e"
             ],
             [
              0.4444444444444444,
              "#bd3786"
             ],
             [
              0.5555555555555556,
              "#d8576b"
             ],
             [
              0.6666666666666666,
              "#ed7953"
             ],
             [
              0.7777777777777778,
              "#fb9f3a"
             ],
             [
              0.8888888888888888,
              "#fdca26"
             ],
             [
              1,
              "#f0f921"
             ]
            ],
            "type": "histogram2dcontour"
           }
          ],
          "mesh3d": [
           {
            "colorbar": {
             "outlinewidth": 0,
             "ticks": ""
            },
            "type": "mesh3d"
           }
          ],
          "parcoords": [
           {
            "line": {
             "colorbar": {
              "outlinewidth": 0,
              "ticks": ""
             }
            },
            "type": "parcoords"
           }
          ],
          "pie": [
           {
            "automargin": true,
            "type": "pie"
           }
          ],
          "scatter": [
           {
            "marker": {
             "colorbar": {
              "outlinewidth": 0,
              "ticks": ""
             }
            },
            "type": "scatter"
           }
          ],
          "scatter3d": [
           {
            "line": {
             "colorbar": {
              "outlinewidth": 0,
              "ticks": ""
             }
            },
            "marker": {
             "colorbar": {
              "outlinewidth": 0,
              "ticks": ""
             }
            },
            "type": "scatter3d"
           }
          ],
          "scattercarpet": [
           {
            "marker": {
             "colorbar": {
              "outlinewidth": 0,
              "ticks": ""
             }
            },
            "type": "scattercarpet"
           }
          ],
          "scattergeo": [
           {
            "marker": {
             "colorbar": {
              "outlinewidth": 0,
              "ticks": ""
             }
            },
            "type": "scattergeo"
           }
          ],
          "scattergl": [
           {
            "marker": {
             "colorbar": {
              "outlinewidth": 0,
              "ticks": ""
             }
            },
            "type": "scattergl"
           }
          ],
          "scattermapbox": [
           {
            "marker": {
             "colorbar": {
              "outlinewidth": 0,
              "ticks": ""
             }
            },
            "type": "scattermapbox"
           }
          ],
          "scatterpolar": [
           {
            "marker": {
             "colorbar": {
              "outlinewidth": 0,
              "ticks": ""
             }
            },
            "type": "scatterpolar"
           }
          ],
          "scatterpolargl": [
           {
            "marker": {
             "colorbar": {
              "outlinewidth": 0,
              "ticks": ""
             }
            },
            "type": "scatterpolargl"
           }
          ],
          "scatterternary": [
           {
            "marker": {
             "colorbar": {
              "outlinewidth": 0,
              "ticks": ""
             }
            },
            "type": "scatterternary"
           }
          ],
          "surface": [
           {
            "colorbar": {
             "outlinewidth": 0,
             "ticks": ""
            },
            "colorscale": [
             [
              0,
              "#0d0887"
             ],
             [
              0.1111111111111111,
              "#46039f"
             ],
             [
              0.2222222222222222,
              "#7201a8"
             ],
             [
              0.3333333333333333,
              "#9c179e"
             ],
             [
              0.4444444444444444,
              "#bd3786"
             ],
             [
              0.5555555555555556,
              "#d8576b"
             ],
             [
              0.6666666666666666,
              "#ed7953"
             ],
             [
              0.7777777777777778,
              "#fb9f3a"
             ],
             [
              0.8888888888888888,
              "#fdca26"
             ],
             [
              1,
              "#f0f921"
             ]
            ],
            "type": "surface"
           }
          ],
          "table": [
           {
            "cells": {
             "fill": {
              "color": "#EBF0F8"
             },
             "line": {
              "color": "white"
             }
            },
            "header": {
             "fill": {
              "color": "#C8D4E3"
             },
             "line": {
              "color": "white"
             }
            },
            "type": "table"
           }
          ]
         },
         "layout": {
          "annotationdefaults": {
           "arrowcolor": "#2a3f5f",
           "arrowhead": 0,
           "arrowwidth": 1
          },
          "coloraxis": {
           "colorbar": {
            "outlinewidth": 0,
            "ticks": ""
           }
          },
          "colorscale": {
           "diverging": [
            [
             0,
             "#8e0152"
            ],
            [
             0.1,
             "#c51b7d"
            ],
            [
             0.2,
             "#de77ae"
            ],
            [
             0.3,
             "#f1b6da"
            ],
            [
             0.4,
             "#fde0ef"
            ],
            [
             0.5,
             "#f7f7f7"
            ],
            [
             0.6,
             "#e6f5d0"
            ],
            [
             0.7,
             "#b8e186"
            ],
            [
             0.8,
             "#7fbc41"
            ],
            [
             0.9,
             "#4d9221"
            ],
            [
             1,
             "#276419"
            ]
           ],
           "sequential": [
            [
             0,
             "#0d0887"
            ],
            [
             0.1111111111111111,
             "#46039f"
            ],
            [
             0.2222222222222222,
             "#7201a8"
            ],
            [
             0.3333333333333333,
             "#9c179e"
            ],
            [
             0.4444444444444444,
             "#bd3786"
            ],
            [
             0.5555555555555556,
             "#d8576b"
            ],
            [
             0.6666666666666666,
             "#ed7953"
            ],
            [
             0.7777777777777778,
             "#fb9f3a"
            ],
            [
             0.8888888888888888,
             "#fdca26"
            ],
            [
             1,
             "#f0f921"
            ]
           ],
           "sequentialminus": [
            [
             0,
             "#0d0887"
            ],
            [
             0.1111111111111111,
             "#46039f"
            ],
            [
             0.2222222222222222,
             "#7201a8"
            ],
            [
             0.3333333333333333,
             "#9c179e"
            ],
            [
             0.4444444444444444,
             "#bd3786"
            ],
            [
             0.5555555555555556,
             "#d8576b"
            ],
            [
             0.6666666666666666,
             "#ed7953"
            ],
            [
             0.7777777777777778,
             "#fb9f3a"
            ],
            [
             0.8888888888888888,
             "#fdca26"
            ],
            [
             1,
             "#f0f921"
            ]
           ]
          },
          "colorway": [
           "#636efa",
           "#EF553B",
           "#00cc96",
           "#ab63fa",
           "#FFA15A",
           "#19d3f3",
           "#FF6692",
           "#B6E880",
           "#FF97FF",
           "#FECB52"
          ],
          "font": {
           "color": "#2a3f5f"
          },
          "geo": {
           "bgcolor": "white",
           "lakecolor": "white",
           "landcolor": "#E5ECF6",
           "showlakes": true,
           "showland": true,
           "subunitcolor": "white"
          },
          "hoverlabel": {
           "align": "left"
          },
          "hovermode": "closest",
          "mapbox": {
           "style": "light"
          },
          "paper_bgcolor": "white",
          "plot_bgcolor": "#E5ECF6",
          "polar": {
           "angularaxis": {
            "gridcolor": "white",
            "linecolor": "white",
            "ticks": ""
           },
           "bgcolor": "#E5ECF6",
           "radialaxis": {
            "gridcolor": "white",
            "linecolor": "white",
            "ticks": ""
           }
          },
          "scene": {
           "xaxis": {
            "backgroundcolor": "#E5ECF6",
            "gridcolor": "white",
            "gridwidth": 2,
            "linecolor": "white",
            "showbackground": true,
            "ticks": "",
            "zerolinecolor": "white"
           },
           "yaxis": {
            "backgroundcolor": "#E5ECF6",
            "gridcolor": "white",
            "gridwidth": 2,
            "linecolor": "white",
            "showbackground": true,
            "ticks": "",
            "zerolinecolor": "white"
           },
           "zaxis": {
            "backgroundcolor": "#E5ECF6",
            "gridcolor": "white",
            "gridwidth": 2,
            "linecolor": "white",
            "showbackground": true,
            "ticks": "",
            "zerolinecolor": "white"
           }
          },
          "shapedefaults": {
           "line": {
            "color": "#2a3f5f"
           }
          },
          "ternary": {
           "aaxis": {
            "gridcolor": "white",
            "linecolor": "white",
            "ticks": ""
           },
           "baxis": {
            "gridcolor": "white",
            "linecolor": "white",
            "ticks": ""
           },
           "bgcolor": "#E5ECF6",
           "caxis": {
            "gridcolor": "white",
            "linecolor": "white",
            "ticks": ""
           }
          },
          "title": {
           "x": 0.05
          },
          "xaxis": {
           "automargin": true,
           "gridcolor": "white",
           "linecolor": "white",
           "ticks": "",
           "title": {
            "standoff": 15
           },
           "zerolinecolor": "white",
           "zerolinewidth": 2
          },
          "yaxis": {
           "automargin": true,
           "gridcolor": "white",
           "linecolor": "white",
           "ticks": "",
           "title": {
            "standoff": 15
           },
           "zerolinecolor": "white",
           "zerolinewidth": 2
          }
         }
        },
        "title": {
         "text": "Performance metric against running time"
        },
        "width": 900,
        "xaxis": {
         "anchor": "y",
         "domain": [
          0,
          0.45
         ],
         "title": {
          "text": "Running time (seconds)"
         }
        },
        "xaxis2": {
         "anchor": "y2",
         "domain": [
          0.55,
          1
         ],
         "title": {
          "text": "Running time (seconds)"
         }
        },
        "yaxis": {
         "anchor": "x",
         "domain": [
          0,
          1
         ],
         "title": {
          "text": "Test R2"
         }
        },
        "yaxis2": {
         "anchor": "x2",
         "domain": [
          0,
          1
         ],
         "title": {
          "text": ""
         }
        }
       }
      },
      "text/html": [
       "<div>\n",
       "        \n",
       "        \n",
       "            <div id=\"c87d402e-7025-48dc-b4f9-79e4c3475df9\" class=\"plotly-graph-div\" style=\"height:500px; width:900px;\"></div>\n",
       "            <script type=\"text/javascript\">\n",
       "                require([\"plotly\"], function(Plotly) {\n",
       "                    window.PLOTLYENV=window.PLOTLYENV || {};\n",
       "                    \n",
       "                if (document.getElementById(\"c87d402e-7025-48dc-b4f9-79e4c3475df9\")) {\n",
       "                    Plotly.newPlot(\n",
       "                        'c87d402e-7025-48dc-b4f9-79e4c3475df9',\n",
       "                        [{\"hovertemplate\": \"test_r2 = %{y:.4f}<br>running_time = %{x:.2f}<br>%{text}<br>\", \"marker\": {\"color\": \"#c56d00\"}, \"mode\": \"markers\", \"name\": \"lasso\", \"text\": [\"num_selected_features = 147<br>features_selection = Supervised selection (alpha=0.01)\", \"num_selected_features = 175<br>features_selection = No selection\", \"num_selected_features = 94<br>features_selection = Supervised selection (alpha=1)\", \"num_selected_features = 135<br>features_selection = Supervised selection (alpha=0.1)\", \"num_selected_features = 58<br>features_selection = RFECV\", \"num_selected_features = 51<br>features_selection = Sequential (forward)\", \"num_selected_features = 30<br>features_selection = RFE\", \"num_selected_features = 100<br>features_selection = Random selection\", \"num_selected_features = 32<br>features_selection = Supervised selection (alpha=10)\", \"num_selected_features = 63<br>features_selection = Correlation selection, then RFECV\", \"num_selected_features = 49<br>features_selection = Correlation selection, then sequential (forward)\", \"num_selected_features = 26<br>features_selection = Correlation selection, then RFE\", \"num_selected_features = 99<br>features_selection = Correlation selection\", \"num_selected_features = 99<br>features_selection = Correlation selection, then supervised selection (alpha=0.001)\", \"num_selected_features = 31<br>features_selection = Correlation selection, then supervised selection (alpha=10)\", \"num_selected_features = 50<br>features_selection = Correlation selection, then random selection\", \"num_selected_features = 99<br>features_selection = Variance selection\"], \"type\": \"scatter\", \"x\": [664.631431, 778.253433, 77.230659, 394.838262, 762.531379, 62643.367787, 1734.867349, 867.69345, 5.293609, 422.5901, 18436.402431, 710.06738, 411.186833, 560.095439, 4.312686, 471.438342, 579.702696], \"xaxis\": \"x\", \"y\": [0.665550378803891, 0.6655207962639866, 0.6655195346215357, 0.6654876736364085, 0.663849991077806, 0.6595098796986854, 0.6572065937422106, 0.656583184966633, 0.6358843348510721, 0.6356422955161671, 0.6345294691161829, 0.633775121531431, 0.6331060064866496, 0.6331060064866496, 0.6295765044235639, 0.6288144630749132, 0.595134757802362], \"yaxis\": \"y\"}, {\"hovertemplate\": \"test_r2 = %{y:.4f}<br>running_time = %{x:.2f}<br>%{text}<br>\", \"marker\": {\"color\": \"#01988d\"}, \"mode\": \"markers\", \"name\": \"xgboost\", \"text\": [\"num_selected_features = 94<br>features_selection = Supervised selection (alpha=1)\", \"num_selected_features = 51<br>features_selection = Sequential (forward)\", \"num_selected_features = 99<br>features_selection = Correlation selection\", \"num_selected_features = 58<br>features_selection = RFECV\", \"num_selected_features = 135<br>features_selection = Supervised selection (alpha=0.1)\", \"num_selected_features = 32<br>features_selection = Supervised selection (alpha=10)\", \"num_selected_features = 70<br>features_selection = Correlation selection, then random selection\", \"num_selected_features = 63<br>features_selection = Correlation selection, then RFECV\", \"num_selected_features = 175<br>features_selection = No selection\", \"num_selected_features = 26<br>features_selection = Correlation selection, then RFE\", \"num_selected_features = 99<br>features_selection = Correlation selection, then supervised selection (alpha=0.001)\", \"num_selected_features = 31<br>features_selection = Correlation selection, then supervised selection (alpha=10)\", \"num_selected_features = 80<br>features_selection = Random selection\", \"num_selected_features = 30<br>features_selection = RFE\", \"num_selected_features = 99<br>features_selection = Variance selection\", \"num_selected_features = 49<br>features_selection = Correlation selection, then sequential (forward)\"], \"type\": \"scatter\", \"x\": [64.28056, 62966.912289, 60.241019, 169.667866, 105.497278, 31.639005, 64.433122, 86.477326, 92.568473, 202.641066, 82.548453, 36.977615, 86.428753, 1146.76449, 78.065536, 16301.83336], \"xaxis\": \"x2\", \"y\": [0.631128317006084, 0.6310143843958853, 0.6294944055720316, 0.6292568578941553, 0.6243660504777058, 0.6185006230350018, 0.6184982438699153, 0.6176120673406607, 0.6172051953426151, 0.6139914382575463, 0.6124073501819777, 0.6121803513311521, 0.6106627369078276, 0.5956997021313744, 0.5823098854397666, 0.5789475982923175], \"yaxis\": \"y2\"}],\n",
       "                        {\"barmode\": \"group\", \"height\": 500, \"template\": {\"data\": {\"bar\": [{\"error_x\": {\"color\": \"#2a3f5f\"}, \"error_y\": {\"color\": \"#2a3f5f\"}, \"marker\": {\"line\": {\"color\": \"#E5ECF6\", \"width\": 0.5}}, \"type\": \"bar\"}], \"barpolar\": [{\"marker\": {\"line\": {\"color\": \"#E5ECF6\", \"width\": 0.5}}, \"type\": \"barpolar\"}], \"carpet\": [{\"aaxis\": {\"endlinecolor\": \"#2a3f5f\", \"gridcolor\": \"white\", \"linecolor\": \"white\", \"minorgridcolor\": \"white\", \"startlinecolor\": \"#2a3f5f\"}, \"baxis\": {\"endlinecolor\": \"#2a3f5f\", \"gridcolor\": \"white\", \"linecolor\": \"white\", \"minorgridcolor\": \"white\", \"startlinecolor\": \"#2a3f5f\"}, \"type\": \"carpet\"}], \"choropleth\": [{\"colorbar\": {\"outlinewidth\": 0, \"ticks\": \"\"}, \"type\": \"choropleth\"}], \"contour\": [{\"colorbar\": {\"outlinewidth\": 0, \"ticks\": \"\"}, \"colorscale\": [[0.0, \"#0d0887\"], [0.1111111111111111, \"#46039f\"], [0.2222222222222222, \"#7201a8\"], [0.3333333333333333, \"#9c179e\"], [0.4444444444444444, \"#bd3786\"], [0.5555555555555556, \"#d8576b\"], [0.6666666666666666, \"#ed7953\"], [0.7777777777777778, \"#fb9f3a\"], [0.8888888888888888, \"#fdca26\"], [1.0, \"#f0f921\"]], \"type\": \"contour\"}], \"contourcarpet\": [{\"colorbar\": {\"outlinewidth\": 0, \"ticks\": \"\"}, \"type\": \"contourcarpet\"}], \"heatmap\": [{\"colorbar\": {\"outlinewidth\": 0, \"ticks\": \"\"}, \"colorscale\": [[0.0, \"#0d0887\"], [0.1111111111111111, \"#46039f\"], [0.2222222222222222, \"#7201a8\"], [0.3333333333333333, \"#9c179e\"], [0.4444444444444444, \"#bd3786\"], [0.5555555555555556, \"#d8576b\"], [0.6666666666666666, \"#ed7953\"], [0.7777777777777778, \"#fb9f3a\"], [0.8888888888888888, \"#fdca26\"], [1.0, \"#f0f921\"]], \"type\": \"heatmap\"}], \"heatmapgl\": [{\"colorbar\": {\"outlinewidth\": 0, \"ticks\": \"\"}, \"colorscale\": [[0.0, \"#0d0887\"], [0.1111111111111111, \"#46039f\"], [0.2222222222222222, \"#7201a8\"], [0.3333333333333333, \"#9c179e\"], [0.4444444444444444, \"#bd3786\"], [0.5555555555555556, \"#d8576b\"], [0.6666666666666666, \"#ed7953\"], [0.7777777777777778, \"#fb9f3a\"], [0.8888888888888888, \"#fdca26\"], [1.0, \"#f0f921\"]], \"type\": \"heatmapgl\"}], \"histogram\": [{\"marker\": {\"colorbar\": {\"outlinewidth\": 0, \"ticks\": \"\"}}, \"type\": \"histogram\"}], \"histogram2d\": [{\"colorbar\": {\"outlinewidth\": 0, \"ticks\": \"\"}, \"colorscale\": [[0.0, \"#0d0887\"], [0.1111111111111111, \"#46039f\"], [0.2222222222222222, \"#7201a8\"], [0.3333333333333333, \"#9c179e\"], [0.4444444444444444, \"#bd3786\"], [0.5555555555555556, \"#d8576b\"], [0.6666666666666666, \"#ed7953\"], [0.7777777777777778, \"#fb9f3a\"], [0.8888888888888888, \"#fdca26\"], [1.0, \"#f0f921\"]], \"type\": \"histogram2d\"}], \"histogram2dcontour\": [{\"colorbar\": {\"outlinewidth\": 0, \"ticks\": \"\"}, \"colorscale\": [[0.0, \"#0d0887\"], [0.1111111111111111, \"#46039f\"], [0.2222222222222222, \"#7201a8\"], [0.3333333333333333, \"#9c179e\"], [0.4444444444444444, \"#bd3786\"], [0.5555555555555556, \"#d8576b\"], [0.6666666666666666, \"#ed7953\"], [0.7777777777777778, \"#fb9f3a\"], [0.8888888888888888, \"#fdca26\"], [1.0, \"#f0f921\"]], \"type\": \"histogram2dcontour\"}], \"mesh3d\": [{\"colorbar\": {\"outlinewidth\": 0, \"ticks\": \"\"}, \"type\": \"mesh3d\"}], \"parcoords\": [{\"line\": {\"colorbar\": {\"outlinewidth\": 0, \"ticks\": \"\"}}, \"type\": \"parcoords\"}], \"pie\": [{\"automargin\": true, \"type\": \"pie\"}], \"scatter\": [{\"marker\": {\"colorbar\": {\"outlinewidth\": 0, \"ticks\": \"\"}}, \"type\": \"scatter\"}], \"scatter3d\": [{\"line\": {\"colorbar\": {\"outlinewidth\": 0, \"ticks\": \"\"}}, \"marker\": {\"colorbar\": {\"outlinewidth\": 0, \"ticks\": \"\"}}, \"type\": \"scatter3d\"}], \"scattercarpet\": [{\"marker\": {\"colorbar\": {\"outlinewidth\": 0, \"ticks\": \"\"}}, \"type\": \"scattercarpet\"}], \"scattergeo\": [{\"marker\": {\"colorbar\": {\"outlinewidth\": 0, \"ticks\": \"\"}}, \"type\": \"scattergeo\"}], \"scattergl\": [{\"marker\": {\"colorbar\": {\"outlinewidth\": 0, \"ticks\": \"\"}}, \"type\": \"scattergl\"}], \"scattermapbox\": [{\"marker\": {\"colorbar\": {\"outlinewidth\": 0, \"ticks\": \"\"}}, \"type\": \"scattermapbox\"}], \"scatterpolar\": [{\"marker\": {\"colorbar\": {\"outlinewidth\": 0, \"ticks\": \"\"}}, \"type\": \"scatterpolar\"}], \"scatterpolargl\": [{\"marker\": {\"colorbar\": {\"outlinewidth\": 0, \"ticks\": \"\"}}, \"type\": \"scatterpolargl\"}], \"scatterternary\": [{\"marker\": {\"colorbar\": {\"outlinewidth\": 0, \"ticks\": \"\"}}, \"type\": \"scatterternary\"}], \"surface\": [{\"colorbar\": {\"outlinewidth\": 0, \"ticks\": \"\"}, \"colorscale\": [[0.0, \"#0d0887\"], [0.1111111111111111, \"#46039f\"], [0.2222222222222222, \"#7201a8\"], [0.3333333333333333, \"#9c179e\"], [0.4444444444444444, \"#bd3786\"], [0.5555555555555556, \"#d8576b\"], [0.6666666666666666, \"#ed7953\"], [0.7777777777777778, \"#fb9f3a\"], [0.8888888888888888, \"#fdca26\"], [1.0, \"#f0f921\"]], \"type\": \"surface\"}], \"table\": [{\"cells\": {\"fill\": {\"color\": \"#EBF0F8\"}, \"line\": {\"color\": \"white\"}}, \"header\": {\"fill\": {\"color\": \"#C8D4E3\"}, \"line\": {\"color\": \"white\"}}, \"type\": \"table\"}]}, \"layout\": {\"annotationdefaults\": {\"arrowcolor\": \"#2a3f5f\", \"arrowhead\": 0, \"arrowwidth\": 1}, \"coloraxis\": {\"colorbar\": {\"outlinewidth\": 0, \"ticks\": \"\"}}, \"colorscale\": {\"diverging\": [[0, \"#8e0152\"], [0.1, \"#c51b7d\"], [0.2, \"#de77ae\"], [0.3, \"#f1b6da\"], [0.4, \"#fde0ef\"], [0.5, \"#f7f7f7\"], [0.6, \"#e6f5d0\"], [0.7, \"#b8e186\"], [0.8, \"#7fbc41\"], [0.9, \"#4d9221\"], [1, \"#276419\"]], \"sequential\": [[0.0, \"#0d0887\"], [0.1111111111111111, \"#46039f\"], [0.2222222222222222, \"#7201a8\"], [0.3333333333333333, \"#9c179e\"], [0.4444444444444444, \"#bd3786\"], [0.5555555555555556, \"#d8576b\"], [0.6666666666666666, \"#ed7953\"], [0.7777777777777778, \"#fb9f3a\"], [0.8888888888888888, \"#fdca26\"], [1.0, \"#f0f921\"]], \"sequentialminus\": [[0.0, \"#0d0887\"], [0.1111111111111111, \"#46039f\"], [0.2222222222222222, \"#7201a8\"], [0.3333333333333333, \"#9c179e\"], [0.4444444444444444, \"#bd3786\"], [0.5555555555555556, \"#d8576b\"], [0.6666666666666666, \"#ed7953\"], [0.7777777777777778, \"#fb9f3a\"], [0.8888888888888888, \"#fdca26\"], [1.0, \"#f0f921\"]]}, \"colorway\": [\"#636efa\", \"#EF553B\", \"#00cc96\", \"#ab63fa\", \"#FFA15A\", \"#19d3f3\", \"#FF6692\", \"#B6E880\", \"#FF97FF\", \"#FECB52\"], \"font\": {\"color\": \"#2a3f5f\"}, \"geo\": {\"bgcolor\": \"white\", \"lakecolor\": \"white\", \"landcolor\": \"#E5ECF6\", \"showlakes\": true, \"showland\": true, \"subunitcolor\": \"white\"}, \"hoverlabel\": {\"align\": \"left\"}, \"hovermode\": \"closest\", \"mapbox\": {\"style\": \"light\"}, \"paper_bgcolor\": \"white\", \"plot_bgcolor\": \"#E5ECF6\", \"polar\": {\"angularaxis\": {\"gridcolor\": \"white\", \"linecolor\": \"white\", \"ticks\": \"\"}, \"bgcolor\": \"#E5ECF6\", \"radialaxis\": {\"gridcolor\": \"white\", \"linecolor\": \"white\", \"ticks\": \"\"}}, \"scene\": {\"xaxis\": {\"backgroundcolor\": \"#E5ECF6\", \"gridcolor\": \"white\", \"gridwidth\": 2, \"linecolor\": \"white\", \"showbackground\": true, \"ticks\": \"\", \"zerolinecolor\": \"white\"}, \"yaxis\": {\"backgroundcolor\": \"#E5ECF6\", \"gridcolor\": \"white\", \"gridwidth\": 2, \"linecolor\": \"white\", \"showbackground\": true, \"ticks\": \"\", \"zerolinecolor\": \"white\"}, \"zaxis\": {\"backgroundcolor\": \"#E5ECF6\", \"gridcolor\": \"white\", \"gridwidth\": 2, \"linecolor\": \"white\", \"showbackground\": true, \"ticks\": \"\", \"zerolinecolor\": \"white\"}}, \"shapedefaults\": {\"line\": {\"color\": \"#2a3f5f\"}}, \"ternary\": {\"aaxis\": {\"gridcolor\": \"white\", \"linecolor\": \"white\", \"ticks\": \"\"}, \"baxis\": {\"gridcolor\": \"white\", \"linecolor\": \"white\", \"ticks\": \"\"}, \"bgcolor\": \"#E5ECF6\", \"caxis\": {\"gridcolor\": \"white\", \"linecolor\": \"white\", \"ticks\": \"\"}}, \"title\": {\"x\": 0.05}, \"xaxis\": {\"automargin\": true, \"gridcolor\": \"white\", \"linecolor\": \"white\", \"ticks\": \"\", \"title\": {\"standoff\": 15}, \"zerolinecolor\": \"white\", \"zerolinewidth\": 2}, \"yaxis\": {\"automargin\": true, \"gridcolor\": \"white\", \"linecolor\": \"white\", \"ticks\": \"\", \"title\": {\"standoff\": 15}, \"zerolinecolor\": \"white\", \"zerolinewidth\": 2}}}, \"title\": {\"text\": \"Performance metric against running time\"}, \"width\": 900, \"xaxis\": {\"anchor\": \"y\", \"domain\": [0.0, 0.45], \"title\": {\"text\": \"Running time (seconds)\"}}, \"xaxis2\": {\"anchor\": \"y2\", \"domain\": [0.55, 1.0], \"title\": {\"text\": \"Running time (seconds)\"}}, \"yaxis\": {\"anchor\": \"x\", \"domain\": [0.0, 1.0], \"title\": {\"text\": \"Test R2\"}}, \"yaxis2\": {\"anchor\": \"x2\", \"domain\": [0.0, 1.0], \"title\": {\"text\": \"\"}}},\n",
       "                        {\"responsive\": true}\n",
       "                    ).then(function(){\n",
       "                            \n",
       "var gd = document.getElementById('c87d402e-7025-48dc-b4f9-79e4c3475df9');\n",
       "var x = new MutationObserver(function (mutations, observer) {{\n",
       "        var display = window.getComputedStyle(gd).display;\n",
       "        if (!display || display === 'none') {{\n",
       "            console.log([gd, 'removed!']);\n",
       "            Plotly.purge(gd);\n",
       "            observer.disconnect();\n",
       "        }}\n",
       "}});\n",
       "\n",
       "// Listen for the removal of the full notebook cells\n",
       "var notebookContainer = gd.closest('#notebook-container');\n",
       "if (notebookContainer) {{\n",
       "    x.observe(notebookContainer, {childList: true});\n",
       "}}\n",
       "\n",
       "// Listen for the clearing of the current output cell\n",
       "var outputEl = gd.closest('.output');\n",
       "if (outputEl) {{\n",
       "    x.observe(outputEl, {childList: true});\n",
       "}}\n",
       "\n",
       "                        })\n",
       "                };\n",
       "                });\n",
       "            </script>\n",
       "        </div>"
      ]
     },
     "metadata": {},
     "output_type": "display_data"
    }
   ],
   "source": [
    "plot_outcomes(outcomes_lasso=outcomes_lasso, outcomes_xgboost=outcomes_xgboost, plot='metric_by_time')"
   ]
  },
  {
   "cell_type": "markdown",
   "metadata": {},
   "source": [
    "<a id='metric_by_num_feats'></a>"
   ]
  },
  {
   "cell_type": "markdown",
   "metadata": {},
   "source": [
    "#### Performance metric against the number of selected features"
   ]
  },
  {
   "cell_type": "code",
   "execution_count": 19,
   "metadata": {},
   "outputs": [
    {
     "data": {
      "application/vnd.plotly.v1+json": {
       "config": {
        "plotlyServerURL": "https://plot.ly"
       },
       "data": [
        {
         "hovertemplate": "test_r2 = %{y:.4f}<br>num_selected_features = %{x}<br>%{text}<br>",
         "marker": {
          "color": "#c56d00"
         },
         "mode": "markers",
         "name": "lasso",
         "text": [
          "running_time = 664.631431<br>features_selection = Supervised selection (alpha=0.01)",
          "running_time = 778.253433<br>features_selection = No selection",
          "running_time = 77.230659<br>features_selection = Supervised selection (alpha=1)",
          "running_time = 394.838262<br>features_selection = Supervised selection (alpha=0.1)",
          "running_time = 762.531379<br>features_selection = RFECV",
          "running_time = 62643.367787<br>features_selection = Sequential (forward)",
          "running_time = 1734.867349<br>features_selection = RFE",
          "running_time = 867.69345<br>features_selection = Random selection",
          "running_time = 5.293609<br>features_selection = Supervised selection (alpha=10)",
          "running_time = 422.5901<br>features_selection = Correlation selection, then RFECV",
          "running_time = 18436.402431<br>features_selection = Correlation selection, then sequential (forward)",
          "running_time = 710.06738<br>features_selection = Correlation selection, then RFE",
          "running_time = 411.186833<br>features_selection = Correlation selection",
          "running_time = 560.095439<br>features_selection = Correlation selection, then supervised selection (alpha=0.001)",
          "running_time = 4.312686<br>features_selection = Correlation selection, then supervised selection (alpha=10)",
          "running_time = 471.438342<br>features_selection = Correlation selection, then random selection",
          "running_time = 579.702696<br>features_selection = Variance selection"
         ],
         "type": "scatter",
         "x": [
          147,
          175,
          94,
          135,
          58,
          51,
          30,
          100,
          32,
          63,
          49,
          26,
          99,
          99,
          31,
          50,
          99
         ],
         "xaxis": "x",
         "y": [
          0.665550378803891,
          0.6655207962639866,
          0.6655195346215357,
          0.6654876736364085,
          0.663849991077806,
          0.6595098796986854,
          0.6572065937422106,
          0.656583184966633,
          0.6358843348510721,
          0.6356422955161671,
          0.6345294691161829,
          0.633775121531431,
          0.6331060064866496,
          0.6331060064866496,
          0.6295765044235639,
          0.6288144630749132,
          0.595134757802362
         ],
         "yaxis": "y"
        },
        {
         "hovertemplate": "test_r2 = %{y:.4f}<br>num_selected_features = %{x}<br>%{text}<br>",
         "marker": {
          "color": "#01988d"
         },
         "mode": "markers",
         "name": "xgboost",
         "text": [
          "running_time = 64.28056<br>features_selection = Supervised selection (alpha=1)",
          "running_time = 62966.912289<br>features_selection = Sequential (forward)",
          "running_time = 60.241019<br>features_selection = Correlation selection",
          "running_time = 169.667866<br>features_selection = RFECV",
          "running_time = 105.497278<br>features_selection = Supervised selection (alpha=0.1)",
          "running_time = 31.639005<br>features_selection = Supervised selection (alpha=10)",
          "running_time = 64.433122<br>features_selection = Correlation selection, then random selection",
          "running_time = 86.477326<br>features_selection = Correlation selection, then RFECV",
          "running_time = 92.568473<br>features_selection = No selection",
          "running_time = 202.641066<br>features_selection = Correlation selection, then RFE",
          "running_time = 82.548453<br>features_selection = Correlation selection, then supervised selection (alpha=0.001)",
          "running_time = 36.977615<br>features_selection = Correlation selection, then supervised selection (alpha=10)",
          "running_time = 86.428753<br>features_selection = Random selection",
          "running_time = 1146.76449<br>features_selection = RFE",
          "running_time = 78.065536<br>features_selection = Variance selection",
          "running_time = 16301.83336<br>features_selection = Correlation selection, then sequential (forward)"
         ],
         "type": "scatter",
         "x": [
          94,
          51,
          99,
          58,
          135,
          32,
          70,
          63,
          175,
          26,
          99,
          31,
          80,
          30,
          99,
          49
         ],
         "xaxis": "x2",
         "y": [
          0.631128317006084,
          0.6310143843958853,
          0.6294944055720316,
          0.6292568578941553,
          0.6243660504777058,
          0.6185006230350018,
          0.6184982438699153,
          0.6176120673406607,
          0.6172051953426151,
          0.6139914382575463,
          0.6124073501819777,
          0.6121803513311521,
          0.6106627369078276,
          0.5956997021313744,
          0.5823098854397666,
          0.5789475982923175
         ],
         "yaxis": "y2"
        }
       ],
       "layout": {
        "barmode": "group",
        "height": 500,
        "template": {
         "data": {
          "bar": [
           {
            "error_x": {
             "color": "#2a3f5f"
            },
            "error_y": {
             "color": "#2a3f5f"
            },
            "marker": {
             "line": {
              "color": "#E5ECF6",
              "width": 0.5
             }
            },
            "type": "bar"
           }
          ],
          "barpolar": [
           {
            "marker": {
             "line": {
              "color": "#E5ECF6",
              "width": 0.5
             }
            },
            "type": "barpolar"
           }
          ],
          "carpet": [
           {
            "aaxis": {
             "endlinecolor": "#2a3f5f",
             "gridcolor": "white",
             "linecolor": "white",
             "minorgridcolor": "white",
             "startlinecolor": "#2a3f5f"
            },
            "baxis": {
             "endlinecolor": "#2a3f5f",
             "gridcolor": "white",
             "linecolor": "white",
             "minorgridcolor": "white",
             "startlinecolor": "#2a3f5f"
            },
            "type": "carpet"
           }
          ],
          "choropleth": [
           {
            "colorbar": {
             "outlinewidth": 0,
             "ticks": ""
            },
            "type": "choropleth"
           }
          ],
          "contour": [
           {
            "colorbar": {
             "outlinewidth": 0,
             "ticks": ""
            },
            "colorscale": [
             [
              0,
              "#0d0887"
             ],
             [
              0.1111111111111111,
              "#46039f"
             ],
             [
              0.2222222222222222,
              "#7201a8"
             ],
             [
              0.3333333333333333,
              "#9c179e"
             ],
             [
              0.4444444444444444,
              "#bd3786"
             ],
             [
              0.5555555555555556,
              "#d8576b"
             ],
             [
              0.6666666666666666,
              "#ed7953"
             ],
             [
              0.7777777777777778,
              "#fb9f3a"
             ],
             [
              0.8888888888888888,
              "#fdca26"
             ],
             [
              1,
              "#f0f921"
             ]
            ],
            "type": "contour"
           }
          ],
          "contourcarpet": [
           {
            "colorbar": {
             "outlinewidth": 0,
             "ticks": ""
            },
            "type": "contourcarpet"
           }
          ],
          "heatmap": [
           {
            "colorbar": {
             "outlinewidth": 0,
             "ticks": ""
            },
            "colorscale": [
             [
              0,
              "#0d0887"
             ],
             [
              0.1111111111111111,
              "#46039f"
             ],
             [
              0.2222222222222222,
              "#7201a8"
             ],
             [
              0.3333333333333333,
              "#9c179e"
             ],
             [
              0.4444444444444444,
              "#bd3786"
             ],
             [
              0.5555555555555556,
              "#d8576b"
             ],
             [
              0.6666666666666666,
              "#ed7953"
             ],
             [
              0.7777777777777778,
              "#fb9f3a"
             ],
             [
              0.8888888888888888,
              "#fdca26"
             ],
             [
              1,
              "#f0f921"
             ]
            ],
            "type": "heatmap"
           }
          ],
          "heatmapgl": [
           {
            "colorbar": {
             "outlinewidth": 0,
             "ticks": ""
            },
            "colorscale": [
             [
              0,
              "#0d0887"
             ],
             [
              0.1111111111111111,
              "#46039f"
             ],
             [
              0.2222222222222222,
              "#7201a8"
             ],
             [
              0.3333333333333333,
              "#9c179e"
             ],
             [
              0.4444444444444444,
              "#bd3786"
             ],
             [
              0.5555555555555556,
              "#d8576b"
             ],
             [
              0.6666666666666666,
              "#ed7953"
             ],
             [
              0.7777777777777778,
              "#fb9f3a"
             ],
             [
              0.8888888888888888,
              "#fdca26"
             ],
             [
              1,
              "#f0f921"
             ]
            ],
            "type": "heatmapgl"
           }
          ],
          "histogram": [
           {
            "marker": {
             "colorbar": {
              "outlinewidth": 0,
              "ticks": ""
             }
            },
            "type": "histogram"
           }
          ],
          "histogram2d": [
           {
            "colorbar": {
             "outlinewidth": 0,
             "ticks": ""
            },
            "colorscale": [
             [
              0,
              "#0d0887"
             ],
             [
              0.1111111111111111,
              "#46039f"
             ],
             [
              0.2222222222222222,
              "#7201a8"
             ],
             [
              0.3333333333333333,
              "#9c179e"
             ],
             [
              0.4444444444444444,
              "#bd3786"
             ],
             [
              0.5555555555555556,
              "#d8576b"
             ],
             [
              0.6666666666666666,
              "#ed7953"
             ],
             [
              0.7777777777777778,
              "#fb9f3a"
             ],
             [
              0.8888888888888888,
              "#fdca26"
             ],
             [
              1,
              "#f0f921"
             ]
            ],
            "type": "histogram2d"
           }
          ],
          "histogram2dcontour": [
           {
            "colorbar": {
             "outlinewidth": 0,
             "ticks": ""
            },
            "colorscale": [
             [
              0,
              "#0d0887"
             ],
             [
              0.1111111111111111,
              "#46039f"
             ],
             [
              0.2222222222222222,
              "#7201a8"
             ],
             [
              0.3333333333333333,
              "#9c179e"
             ],
             [
              0.4444444444444444,
              "#bd3786"
             ],
             [
              0.5555555555555556,
              "#d8576b"
             ],
             [
              0.6666666666666666,
              "#ed7953"
             ],
             [
              0.7777777777777778,
              "#fb9f3a"
             ],
             [
              0.8888888888888888,
              "#fdca26"
             ],
             [
              1,
              "#f0f921"
             ]
            ],
            "type": "histogram2dcontour"
           }
          ],
          "mesh3d": [
           {
            "colorbar": {
             "outlinewidth": 0,
             "ticks": ""
            },
            "type": "mesh3d"
           }
          ],
          "parcoords": [
           {
            "line": {
             "colorbar": {
              "outlinewidth": 0,
              "ticks": ""
             }
            },
            "type": "parcoords"
           }
          ],
          "pie": [
           {
            "automargin": true,
            "type": "pie"
           }
          ],
          "scatter": [
           {
            "marker": {
             "colorbar": {
              "outlinewidth": 0,
              "ticks": ""
             }
            },
            "type": "scatter"
           }
          ],
          "scatter3d": [
           {
            "line": {
             "colorbar": {
              "outlinewidth": 0,
              "ticks": ""
             }
            },
            "marker": {
             "colorbar": {
              "outlinewidth": 0,
              "ticks": ""
             }
            },
            "type": "scatter3d"
           }
          ],
          "scattercarpet": [
           {
            "marker": {
             "colorbar": {
              "outlinewidth": 0,
              "ticks": ""
             }
            },
            "type": "scattercarpet"
           }
          ],
          "scattergeo": [
           {
            "marker": {
             "colorbar": {
              "outlinewidth": 0,
              "ticks": ""
             }
            },
            "type": "scattergeo"
           }
          ],
          "scattergl": [
           {
            "marker": {
             "colorbar": {
              "outlinewidth": 0,
              "ticks": ""
             }
            },
            "type": "scattergl"
           }
          ],
          "scattermapbox": [
           {
            "marker": {
             "colorbar": {
              "outlinewidth": 0,
              "ticks": ""
             }
            },
            "type": "scattermapbox"
           }
          ],
          "scatterpolar": [
           {
            "marker": {
             "colorbar": {
              "outlinewidth": 0,
              "ticks": ""
             }
            },
            "type": "scatterpolar"
           }
          ],
          "scatterpolargl": [
           {
            "marker": {
             "colorbar": {
              "outlinewidth": 0,
              "ticks": ""
             }
            },
            "type": "scatterpolargl"
           }
          ],
          "scatterternary": [
           {
            "marker": {
             "colorbar": {
              "outlinewidth": 0,
              "ticks": ""
             }
            },
            "type": "scatterternary"
           }
          ],
          "surface": [
           {
            "colorbar": {
             "outlinewidth": 0,
             "ticks": ""
            },
            "colorscale": [
             [
              0,
              "#0d0887"
             ],
             [
              0.1111111111111111,
              "#46039f"
             ],
             [
              0.2222222222222222,
              "#7201a8"
             ],
             [
              0.3333333333333333,
              "#9c179e"
             ],
             [
              0.4444444444444444,
              "#bd3786"
             ],
             [
              0.5555555555555556,
              "#d8576b"
             ],
             [
              0.6666666666666666,
              "#ed7953"
             ],
             [
              0.7777777777777778,
              "#fb9f3a"
             ],
             [
              0.8888888888888888,
              "#fdca26"
             ],
             [
              1,
              "#f0f921"
             ]
            ],
            "type": "surface"
           }
          ],
          "table": [
           {
            "cells": {
             "fill": {
              "color": "#EBF0F8"
             },
             "line": {
              "color": "white"
             }
            },
            "header": {
             "fill": {
              "color": "#C8D4E3"
             },
             "line": {
              "color": "white"
             }
            },
            "type": "table"
           }
          ]
         },
         "layout": {
          "annotationdefaults": {
           "arrowcolor": "#2a3f5f",
           "arrowhead": 0,
           "arrowwidth": 1
          },
          "coloraxis": {
           "colorbar": {
            "outlinewidth": 0,
            "ticks": ""
           }
          },
          "colorscale": {
           "diverging": [
            [
             0,
             "#8e0152"
            ],
            [
             0.1,
             "#c51b7d"
            ],
            [
             0.2,
             "#de77ae"
            ],
            [
             0.3,
             "#f1b6da"
            ],
            [
             0.4,
             "#fde0ef"
            ],
            [
             0.5,
             "#f7f7f7"
            ],
            [
             0.6,
             "#e6f5d0"
            ],
            [
             0.7,
             "#b8e186"
            ],
            [
             0.8,
             "#7fbc41"
            ],
            [
             0.9,
             "#4d9221"
            ],
            [
             1,
             "#276419"
            ]
           ],
           "sequential": [
            [
             0,
             "#0d0887"
            ],
            [
             0.1111111111111111,
             "#46039f"
            ],
            [
             0.2222222222222222,
             "#7201a8"
            ],
            [
             0.3333333333333333,
             "#9c179e"
            ],
            [
             0.4444444444444444,
             "#bd3786"
            ],
            [
             0.5555555555555556,
             "#d8576b"
            ],
            [
             0.6666666666666666,
             "#ed7953"
            ],
            [
             0.7777777777777778,
             "#fb9f3a"
            ],
            [
             0.8888888888888888,
             "#fdca26"
            ],
            [
             1,
             "#f0f921"
            ]
           ],
           "sequentialminus": [
            [
             0,
             "#0d0887"
            ],
            [
             0.1111111111111111,
             "#46039f"
            ],
            [
             0.2222222222222222,
             "#7201a8"
            ],
            [
             0.3333333333333333,
             "#9c179e"
            ],
            [
             0.4444444444444444,
             "#bd3786"
            ],
            [
             0.5555555555555556,
             "#d8576b"
            ],
            [
             0.6666666666666666,
             "#ed7953"
            ],
            [
             0.7777777777777778,
             "#fb9f3a"
            ],
            [
             0.8888888888888888,
             "#fdca26"
            ],
            [
             1,
             "#f0f921"
            ]
           ]
          },
          "colorway": [
           "#636efa",
           "#EF553B",
           "#00cc96",
           "#ab63fa",
           "#FFA15A",
           "#19d3f3",
           "#FF6692",
           "#B6E880",
           "#FF97FF",
           "#FECB52"
          ],
          "font": {
           "color": "#2a3f5f"
          },
          "geo": {
           "bgcolor": "white",
           "lakecolor": "white",
           "landcolor": "#E5ECF6",
           "showlakes": true,
           "showland": true,
           "subunitcolor": "white"
          },
          "hoverlabel": {
           "align": "left"
          },
          "hovermode": "closest",
          "mapbox": {
           "style": "light"
          },
          "paper_bgcolor": "white",
          "plot_bgcolor": "#E5ECF6",
          "polar": {
           "angularaxis": {
            "gridcolor": "white",
            "linecolor": "white",
            "ticks": ""
           },
           "bgcolor": "#E5ECF6",
           "radialaxis": {
            "gridcolor": "white",
            "linecolor": "white",
            "ticks": ""
           }
          },
          "scene": {
           "xaxis": {
            "backgroundcolor": "#E5ECF6",
            "gridcolor": "white",
            "gridwidth": 2,
            "linecolor": "white",
            "showbackground": true,
            "ticks": "",
            "zerolinecolor": "white"
           },
           "yaxis": {
            "backgroundcolor": "#E5ECF6",
            "gridcolor": "white",
            "gridwidth": 2,
            "linecolor": "white",
            "showbackground": true,
            "ticks": "",
            "zerolinecolor": "white"
           },
           "zaxis": {
            "backgroundcolor": "#E5ECF6",
            "gridcolor": "white",
            "gridwidth": 2,
            "linecolor": "white",
            "showbackground": true,
            "ticks": "",
            "zerolinecolor": "white"
           }
          },
          "shapedefaults": {
           "line": {
            "color": "#2a3f5f"
           }
          },
          "ternary": {
           "aaxis": {
            "gridcolor": "white",
            "linecolor": "white",
            "ticks": ""
           },
           "baxis": {
            "gridcolor": "white",
            "linecolor": "white",
            "ticks": ""
           },
           "bgcolor": "#E5ECF6",
           "caxis": {
            "gridcolor": "white",
            "linecolor": "white",
            "ticks": ""
           }
          },
          "title": {
           "x": 0.05
          },
          "xaxis": {
           "automargin": true,
           "gridcolor": "white",
           "linecolor": "white",
           "ticks": "",
           "title": {
            "standoff": 15
           },
           "zerolinecolor": "white",
           "zerolinewidth": 2
          },
          "yaxis": {
           "automargin": true,
           "gridcolor": "white",
           "linecolor": "white",
           "ticks": "",
           "title": {
            "standoff": 15
           },
           "zerolinecolor": "white",
           "zerolinewidth": 2
          }
         }
        },
        "title": {
         "text": "Performance metric against the number of selected features"
        },
        "width": 900,
        "xaxis": {
         "anchor": "y",
         "domain": [
          0,
          0.45
         ],
         "title": {
          "text": "Number of selected features"
         }
        },
        "xaxis2": {
         "anchor": "y2",
         "domain": [
          0.55,
          1
         ],
         "title": {
          "text": "Number of selected features"
         }
        },
        "yaxis": {
         "anchor": "x",
         "domain": [
          0,
          1
         ],
         "title": {
          "text": "Test R2"
         }
        },
        "yaxis2": {
         "anchor": "x2",
         "domain": [
          0,
          1
         ],
         "title": {
          "text": ""
         }
        }
       }
      },
      "text/html": [
       "<div>\n",
       "        \n",
       "        \n",
       "            <div id=\"f6524d25-83e9-4517-ba5f-a012168eba9c\" class=\"plotly-graph-div\" style=\"height:500px; width:900px;\"></div>\n",
       "            <script type=\"text/javascript\">\n",
       "                require([\"plotly\"], function(Plotly) {\n",
       "                    window.PLOTLYENV=window.PLOTLYENV || {};\n",
       "                    \n",
       "                if (document.getElementById(\"f6524d25-83e9-4517-ba5f-a012168eba9c\")) {\n",
       "                    Plotly.newPlot(\n",
       "                        'f6524d25-83e9-4517-ba5f-a012168eba9c',\n",
       "                        [{\"hovertemplate\": \"test_r2 = %{y:.4f}<br>num_selected_features = %{x}<br>%{text}<br>\", \"marker\": {\"color\": \"#c56d00\"}, \"mode\": \"markers\", \"name\": \"lasso\", \"text\": [\"running_time = 664.631431<br>features_selection = Supervised selection (alpha=0.01)\", \"running_time = 778.253433<br>features_selection = No selection\", \"running_time = 77.230659<br>features_selection = Supervised selection (alpha=1)\", \"running_time = 394.838262<br>features_selection = Supervised selection (alpha=0.1)\", \"running_time = 762.531379<br>features_selection = RFECV\", \"running_time = 62643.367787<br>features_selection = Sequential (forward)\", \"running_time = 1734.867349<br>features_selection = RFE\", \"running_time = 867.69345<br>features_selection = Random selection\", \"running_time = 5.293609<br>features_selection = Supervised selection (alpha=10)\", \"running_time = 422.5901<br>features_selection = Correlation selection, then RFECV\", \"running_time = 18436.402431<br>features_selection = Correlation selection, then sequential (forward)\", \"running_time = 710.06738<br>features_selection = Correlation selection, then RFE\", \"running_time = 411.186833<br>features_selection = Correlation selection\", \"running_time = 560.095439<br>features_selection = Correlation selection, then supervised selection (alpha=0.001)\", \"running_time = 4.312686<br>features_selection = Correlation selection, then supervised selection (alpha=10)\", \"running_time = 471.438342<br>features_selection = Correlation selection, then random selection\", \"running_time = 579.702696<br>features_selection = Variance selection\"], \"type\": \"scatter\", \"x\": [147, 175, 94, 135, 58, 51, 30, 100, 32, 63, 49, 26, 99, 99, 31, 50, 99], \"xaxis\": \"x\", \"y\": [0.665550378803891, 0.6655207962639866, 0.6655195346215357, 0.6654876736364085, 0.663849991077806, 0.6595098796986854, 0.6572065937422106, 0.656583184966633, 0.6358843348510721, 0.6356422955161671, 0.6345294691161829, 0.633775121531431, 0.6331060064866496, 0.6331060064866496, 0.6295765044235639, 0.6288144630749132, 0.595134757802362], \"yaxis\": \"y\"}, {\"hovertemplate\": \"test_r2 = %{y:.4f}<br>num_selected_features = %{x}<br>%{text}<br>\", \"marker\": {\"color\": \"#01988d\"}, \"mode\": \"markers\", \"name\": \"xgboost\", \"text\": [\"running_time = 64.28056<br>features_selection = Supervised selection (alpha=1)\", \"running_time = 62966.912289<br>features_selection = Sequential (forward)\", \"running_time = 60.241019<br>features_selection = Correlation selection\", \"running_time = 169.667866<br>features_selection = RFECV\", \"running_time = 105.497278<br>features_selection = Supervised selection (alpha=0.1)\", \"running_time = 31.639005<br>features_selection = Supervised selection (alpha=10)\", \"running_time = 64.433122<br>features_selection = Correlation selection, then random selection\", \"running_time = 86.477326<br>features_selection = Correlation selection, then RFECV\", \"running_time = 92.568473<br>features_selection = No selection\", \"running_time = 202.641066<br>features_selection = Correlation selection, then RFE\", \"running_time = 82.548453<br>features_selection = Correlation selection, then supervised selection (alpha=0.001)\", \"running_time = 36.977615<br>features_selection = Correlation selection, then supervised selection (alpha=10)\", \"running_time = 86.428753<br>features_selection = Random selection\", \"running_time = 1146.76449<br>features_selection = RFE\", \"running_time = 78.065536<br>features_selection = Variance selection\", \"running_time = 16301.83336<br>features_selection = Correlation selection, then sequential (forward)\"], \"type\": \"scatter\", \"x\": [94, 51, 99, 58, 135, 32, 70, 63, 175, 26, 99, 31, 80, 30, 99, 49], \"xaxis\": \"x2\", \"y\": [0.631128317006084, 0.6310143843958853, 0.6294944055720316, 0.6292568578941553, 0.6243660504777058, 0.6185006230350018, 0.6184982438699153, 0.6176120673406607, 0.6172051953426151, 0.6139914382575463, 0.6124073501819777, 0.6121803513311521, 0.6106627369078276, 0.5956997021313744, 0.5823098854397666, 0.5789475982923175], \"yaxis\": \"y2\"}],\n",
       "                        {\"barmode\": \"group\", \"height\": 500, \"template\": {\"data\": {\"bar\": [{\"error_x\": {\"color\": \"#2a3f5f\"}, \"error_y\": {\"color\": \"#2a3f5f\"}, \"marker\": {\"line\": {\"color\": \"#E5ECF6\", \"width\": 0.5}}, \"type\": \"bar\"}], \"barpolar\": [{\"marker\": {\"line\": {\"color\": \"#E5ECF6\", \"width\": 0.5}}, \"type\": \"barpolar\"}], \"carpet\": [{\"aaxis\": {\"endlinecolor\": \"#2a3f5f\", \"gridcolor\": \"white\", \"linecolor\": \"white\", \"minorgridcolor\": \"white\", \"startlinecolor\": \"#2a3f5f\"}, \"baxis\": {\"endlinecolor\": \"#2a3f5f\", \"gridcolor\": \"white\", \"linecolor\": \"white\", \"minorgridcolor\": \"white\", \"startlinecolor\": \"#2a3f5f\"}, \"type\": \"carpet\"}], \"choropleth\": [{\"colorbar\": {\"outlinewidth\": 0, \"ticks\": \"\"}, \"type\": \"choropleth\"}], \"contour\": [{\"colorbar\": {\"outlinewidth\": 0, \"ticks\": \"\"}, \"colorscale\": [[0.0, \"#0d0887\"], [0.1111111111111111, \"#46039f\"], [0.2222222222222222, \"#7201a8\"], [0.3333333333333333, \"#9c179e\"], [0.4444444444444444, \"#bd3786\"], [0.5555555555555556, \"#d8576b\"], [0.6666666666666666, \"#ed7953\"], [0.7777777777777778, \"#fb9f3a\"], [0.8888888888888888, \"#fdca26\"], [1.0, \"#f0f921\"]], \"type\": \"contour\"}], \"contourcarpet\": [{\"colorbar\": {\"outlinewidth\": 0, \"ticks\": \"\"}, \"type\": \"contourcarpet\"}], \"heatmap\": [{\"colorbar\": {\"outlinewidth\": 0, \"ticks\": \"\"}, \"colorscale\": [[0.0, \"#0d0887\"], [0.1111111111111111, \"#46039f\"], [0.2222222222222222, \"#7201a8\"], [0.3333333333333333, \"#9c179e\"], [0.4444444444444444, \"#bd3786\"], [0.5555555555555556, \"#d8576b\"], [0.6666666666666666, \"#ed7953\"], [0.7777777777777778, \"#fb9f3a\"], [0.8888888888888888, \"#fdca26\"], [1.0, \"#f0f921\"]], \"type\": \"heatmap\"}], \"heatmapgl\": [{\"colorbar\": {\"outlinewidth\": 0, \"ticks\": \"\"}, \"colorscale\": [[0.0, \"#0d0887\"], [0.1111111111111111, \"#46039f\"], [0.2222222222222222, \"#7201a8\"], [0.3333333333333333, \"#9c179e\"], [0.4444444444444444, \"#bd3786\"], [0.5555555555555556, \"#d8576b\"], [0.6666666666666666, \"#ed7953\"], [0.7777777777777778, \"#fb9f3a\"], [0.8888888888888888, \"#fdca26\"], [1.0, \"#f0f921\"]], \"type\": \"heatmapgl\"}], \"histogram\": [{\"marker\": {\"colorbar\": {\"outlinewidth\": 0, \"ticks\": \"\"}}, \"type\": \"histogram\"}], \"histogram2d\": [{\"colorbar\": {\"outlinewidth\": 0, \"ticks\": \"\"}, \"colorscale\": [[0.0, \"#0d0887\"], [0.1111111111111111, \"#46039f\"], [0.2222222222222222, \"#7201a8\"], [0.3333333333333333, \"#9c179e\"], [0.4444444444444444, \"#bd3786\"], [0.5555555555555556, \"#d8576b\"], [0.6666666666666666, \"#ed7953\"], [0.7777777777777778, \"#fb9f3a\"], [0.8888888888888888, \"#fdca26\"], [1.0, \"#f0f921\"]], \"type\": \"histogram2d\"}], \"histogram2dcontour\": [{\"colorbar\": {\"outlinewidth\": 0, \"ticks\": \"\"}, \"colorscale\": [[0.0, \"#0d0887\"], [0.1111111111111111, \"#46039f\"], [0.2222222222222222, \"#7201a8\"], [0.3333333333333333, \"#9c179e\"], [0.4444444444444444, \"#bd3786\"], [0.5555555555555556, \"#d8576b\"], [0.6666666666666666, \"#ed7953\"], [0.7777777777777778, \"#fb9f3a\"], [0.8888888888888888, \"#fdca26\"], [1.0, \"#f0f921\"]], \"type\": \"histogram2dcontour\"}], \"mesh3d\": [{\"colorbar\": {\"outlinewidth\": 0, \"ticks\": \"\"}, \"type\": \"mesh3d\"}], \"parcoords\": [{\"line\": {\"colorbar\": {\"outlinewidth\": 0, \"ticks\": \"\"}}, \"type\": \"parcoords\"}], \"pie\": [{\"automargin\": true, \"type\": \"pie\"}], \"scatter\": [{\"marker\": {\"colorbar\": {\"outlinewidth\": 0, \"ticks\": \"\"}}, \"type\": \"scatter\"}], \"scatter3d\": [{\"line\": {\"colorbar\": {\"outlinewidth\": 0, \"ticks\": \"\"}}, \"marker\": {\"colorbar\": {\"outlinewidth\": 0, \"ticks\": \"\"}}, \"type\": \"scatter3d\"}], \"scattercarpet\": [{\"marker\": {\"colorbar\": {\"outlinewidth\": 0, \"ticks\": \"\"}}, \"type\": \"scattercarpet\"}], \"scattergeo\": [{\"marker\": {\"colorbar\": {\"outlinewidth\": 0, \"ticks\": \"\"}}, \"type\": \"scattergeo\"}], \"scattergl\": [{\"marker\": {\"colorbar\": {\"outlinewidth\": 0, \"ticks\": \"\"}}, \"type\": \"scattergl\"}], \"scattermapbox\": [{\"marker\": {\"colorbar\": {\"outlinewidth\": 0, \"ticks\": \"\"}}, \"type\": \"scattermapbox\"}], \"scatterpolar\": [{\"marker\": {\"colorbar\": {\"outlinewidth\": 0, \"ticks\": \"\"}}, \"type\": \"scatterpolar\"}], \"scatterpolargl\": [{\"marker\": {\"colorbar\": {\"outlinewidth\": 0, \"ticks\": \"\"}}, \"type\": \"scatterpolargl\"}], \"scatterternary\": [{\"marker\": {\"colorbar\": {\"outlinewidth\": 0, \"ticks\": \"\"}}, \"type\": \"scatterternary\"}], \"surface\": [{\"colorbar\": {\"outlinewidth\": 0, \"ticks\": \"\"}, \"colorscale\": [[0.0, \"#0d0887\"], [0.1111111111111111, \"#46039f\"], [0.2222222222222222, \"#7201a8\"], [0.3333333333333333, \"#9c179e\"], [0.4444444444444444, \"#bd3786\"], [0.5555555555555556, \"#d8576b\"], [0.6666666666666666, \"#ed7953\"], [0.7777777777777778, \"#fb9f3a\"], [0.8888888888888888, \"#fdca26\"], [1.0, \"#f0f921\"]], \"type\": \"surface\"}], \"table\": [{\"cells\": {\"fill\": {\"color\": \"#EBF0F8\"}, \"line\": {\"color\": \"white\"}}, \"header\": {\"fill\": {\"color\": \"#C8D4E3\"}, \"line\": {\"color\": \"white\"}}, \"type\": \"table\"}]}, \"layout\": {\"annotationdefaults\": {\"arrowcolor\": \"#2a3f5f\", \"arrowhead\": 0, \"arrowwidth\": 1}, \"coloraxis\": {\"colorbar\": {\"outlinewidth\": 0, \"ticks\": \"\"}}, \"colorscale\": {\"diverging\": [[0, \"#8e0152\"], [0.1, \"#c51b7d\"], [0.2, \"#de77ae\"], [0.3, \"#f1b6da\"], [0.4, \"#fde0ef\"], [0.5, \"#f7f7f7\"], [0.6, \"#e6f5d0\"], [0.7, \"#b8e186\"], [0.8, \"#7fbc41\"], [0.9, \"#4d9221\"], [1, \"#276419\"]], \"sequential\": [[0.0, \"#0d0887\"], [0.1111111111111111, \"#46039f\"], [0.2222222222222222, \"#7201a8\"], [0.3333333333333333, \"#9c179e\"], [0.4444444444444444, \"#bd3786\"], [0.5555555555555556, \"#d8576b\"], [0.6666666666666666, \"#ed7953\"], [0.7777777777777778, \"#fb9f3a\"], [0.8888888888888888, \"#fdca26\"], [1.0, \"#f0f921\"]], \"sequentialminus\": [[0.0, \"#0d0887\"], [0.1111111111111111, \"#46039f\"], [0.2222222222222222, \"#7201a8\"], [0.3333333333333333, \"#9c179e\"], [0.4444444444444444, \"#bd3786\"], [0.5555555555555556, \"#d8576b\"], [0.6666666666666666, \"#ed7953\"], [0.7777777777777778, \"#fb9f3a\"], [0.8888888888888888, \"#fdca26\"], [1.0, \"#f0f921\"]]}, \"colorway\": [\"#636efa\", \"#EF553B\", \"#00cc96\", \"#ab63fa\", \"#FFA15A\", \"#19d3f3\", \"#FF6692\", \"#B6E880\", \"#FF97FF\", \"#FECB52\"], \"font\": {\"color\": \"#2a3f5f\"}, \"geo\": {\"bgcolor\": \"white\", \"lakecolor\": \"white\", \"landcolor\": \"#E5ECF6\", \"showlakes\": true, \"showland\": true, \"subunitcolor\": \"white\"}, \"hoverlabel\": {\"align\": \"left\"}, \"hovermode\": \"closest\", \"mapbox\": {\"style\": \"light\"}, \"paper_bgcolor\": \"white\", \"plot_bgcolor\": \"#E5ECF6\", \"polar\": {\"angularaxis\": {\"gridcolor\": \"white\", \"linecolor\": \"white\", \"ticks\": \"\"}, \"bgcolor\": \"#E5ECF6\", \"radialaxis\": {\"gridcolor\": \"white\", \"linecolor\": \"white\", \"ticks\": \"\"}}, \"scene\": {\"xaxis\": {\"backgroundcolor\": \"#E5ECF6\", \"gridcolor\": \"white\", \"gridwidth\": 2, \"linecolor\": \"white\", \"showbackground\": true, \"ticks\": \"\", \"zerolinecolor\": \"white\"}, \"yaxis\": {\"backgroundcolor\": \"#E5ECF6\", \"gridcolor\": \"white\", \"gridwidth\": 2, \"linecolor\": \"white\", \"showbackground\": true, \"ticks\": \"\", \"zerolinecolor\": \"white\"}, \"zaxis\": {\"backgroundcolor\": \"#E5ECF6\", \"gridcolor\": \"white\", \"gridwidth\": 2, \"linecolor\": \"white\", \"showbackground\": true, \"ticks\": \"\", \"zerolinecolor\": \"white\"}}, \"shapedefaults\": {\"line\": {\"color\": \"#2a3f5f\"}}, \"ternary\": {\"aaxis\": {\"gridcolor\": \"white\", \"linecolor\": \"white\", \"ticks\": \"\"}, \"baxis\": {\"gridcolor\": \"white\", \"linecolor\": \"white\", \"ticks\": \"\"}, \"bgcolor\": \"#E5ECF6\", \"caxis\": {\"gridcolor\": \"white\", \"linecolor\": \"white\", \"ticks\": \"\"}}, \"title\": {\"x\": 0.05}, \"xaxis\": {\"automargin\": true, \"gridcolor\": \"white\", \"linecolor\": \"white\", \"ticks\": \"\", \"title\": {\"standoff\": 15}, \"zerolinecolor\": \"white\", \"zerolinewidth\": 2}, \"yaxis\": {\"automargin\": true, \"gridcolor\": \"white\", \"linecolor\": \"white\", \"ticks\": \"\", \"title\": {\"standoff\": 15}, \"zerolinecolor\": \"white\", \"zerolinewidth\": 2}}}, \"title\": {\"text\": \"Performance metric against the number of selected features\"}, \"width\": 900, \"xaxis\": {\"anchor\": \"y\", \"domain\": [0.0, 0.45], \"title\": {\"text\": \"Number of selected features\"}}, \"xaxis2\": {\"anchor\": \"y2\", \"domain\": [0.55, 1.0], \"title\": {\"text\": \"Number of selected features\"}}, \"yaxis\": {\"anchor\": \"x\", \"domain\": [0.0, 1.0], \"title\": {\"text\": \"Test R2\"}}, \"yaxis2\": {\"anchor\": \"x2\", \"domain\": [0.0, 1.0], \"title\": {\"text\": \"\"}}},\n",
       "                        {\"responsive\": true}\n",
       "                    ).then(function(){\n",
       "                            \n",
       "var gd = document.getElementById('f6524d25-83e9-4517-ba5f-a012168eba9c');\n",
       "var x = new MutationObserver(function (mutations, observer) {{\n",
       "        var display = window.getComputedStyle(gd).display;\n",
       "        if (!display || display === 'none') {{\n",
       "            console.log([gd, 'removed!']);\n",
       "            Plotly.purge(gd);\n",
       "            observer.disconnect();\n",
       "        }}\n",
       "}});\n",
       "\n",
       "// Listen for the removal of the full notebook cells\n",
       "var notebookContainer = gd.closest('#notebook-container');\n",
       "if (notebookContainer) {{\n",
       "    x.observe(notebookContainer, {childList: true});\n",
       "}}\n",
       "\n",
       "// Listen for the clearing of the current output cell\n",
       "var outputEl = gd.closest('.output');\n",
       "if (outputEl) {{\n",
       "    x.observe(outputEl, {childList: true});\n",
       "}}\n",
       "\n",
       "                        })\n",
       "                };\n",
       "                });\n",
       "            </script>\n",
       "        </div>"
      ]
     },
     "metadata": {},
     "output_type": "display_data"
    }
   ],
   "source": [
    "plot_outcomes(outcomes_lasso=outcomes_lasso, outcomes_xgboost=outcomes_xgboost, plot='metric_by_num_feats')"
   ]
  },
  {
   "cell_type": "code",
   "execution_count": null,
   "metadata": {},
   "outputs": [],
   "source": []
  }
 ],
 "metadata": {
  "kernelspec": {
   "display_name": "Python 3",
   "language": "python",
   "name": "python3"
  },
  "language_info": {
   "codemirror_mode": {
    "name": "ipython",
    "version": 3
   },
   "file_extension": ".py",
   "mimetype": "text/x-python",
   "name": "python",
   "nbconvert_exporter": "python",
   "pygments_lexer": "ipython3",
   "version": "3.7.3"
  }
 },
 "nbformat": 4,
 "nbformat_minor": 2
}
